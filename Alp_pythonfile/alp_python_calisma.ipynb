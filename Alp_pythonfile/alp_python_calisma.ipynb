{
 "cells": [
  {
   "attachments": {},
   "cell_type": "markdown",
   "metadata": {},
   "source": [
    "# DICTIONARY"
   ]
  },
  {
   "cell_type": "code",
   "execution_count": 15,
   "metadata": {},
   "outputs": [],
   "source": [
    "kisi = {\"isim\":\"ali\", \"yas\": 20, \"cinsiyet\": \"E\", \"hobiler\" : [\"sinema\", \"Konser\", \"yazilim\"], (2,3,4):(10,20,30)}"
   ]
  },
  {
   "cell_type": "code",
   "execution_count": 26,
   "metadata": {},
   "outputs": [],
   "source": [
    "# süslü(set) parantezi ile oluşturulurlar\n",
    "# ÇAĞIRMA YONTEMİ --> index ile eleman çağıramayiz. KEY kullaniriz. --> kisi[\"cinsiyet\"]\n",
    "# değişiklik yapmak için kisi[\"isim\"] = \"aLPARSLAN\" --> ATAMA YAPAR GİBİ\n",
    "# Ayni anda 2 veri değiştirme --> kisi.update({\"isim\" : \"Ahmet\", \"yas\" : 30})\n",
    "# yeni item eklemek için --> kisi[\"id\"] = 12345\n",
    "# item silmek için del kisi[\"id\"]\n",
    "# keyler hangi değerleri alabilirler ? string , int , tuple --> immutable değiştirilmez\n",
    "# valuelar hangi değerleri alabilirler ? her değeri alabilirler --> mutable(değiştirilebilir) ya da immutable(değiştirilemez)"
   ]
  },
  {
   "cell_type": "code",
   "execution_count": 21,
   "metadata": {},
   "outputs": [
    {
     "data": {
      "text/plain": [
       "{'isim': 'aLPARSLAN',\n",
       " 'yas': 20,\n",
       " 'cinsiyet': 'E',\n",
       " 'hobiler': ['sinema', 'Konser', 'yazilim'],\n",
       " (2, 3, 4): (10, 20, 30)}"
      ]
     },
     "execution_count": 21,
     "metadata": {},
     "output_type": "execute_result"
    }
   ],
   "source": [
    "kisi[\"isim\"] = \"aLPARSLAN\"\n",
    "kisi"
   ]
  },
  {
   "cell_type": "code",
   "execution_count": 22,
   "metadata": {},
   "outputs": [],
   "source": [
    "kisi.update({\"isim\" : \"Ahmet\", \"yas\" : 30})"
   ]
  },
  {
   "cell_type": "code",
   "execution_count": 24,
   "metadata": {},
   "outputs": [],
   "source": [
    "kisi[\"id\"] = 12345 # ekleme yapar item olarak"
   ]
  },
  {
   "cell_type": "code",
   "execution_count": 27,
   "metadata": {},
   "outputs": [],
   "source": [
    "del kisi[\"id\"]"
   ]
  },
  {
   "cell_type": "code",
   "execution_count": 28,
   "metadata": {},
   "outputs": [
    {
     "data": {
      "text/plain": [
       "{'isim': 'Ahmet',\n",
       " 'yas': 30,\n",
       " 'cinsiyet': 'E',\n",
       " 'hobiler': ['sinema', 'Konser', 'yazilim'],\n",
       " (2, 3, 4): (10, 20, 30)}"
      ]
     },
     "execution_count": 28,
     "metadata": {},
     "output_type": "execute_result"
    }
   ],
   "source": [
    "kisi"
   ]
  },
  {
   "cell_type": "code",
   "execution_count": 35,
   "metadata": {},
   "outputs": [
    {
     "name": "stdout",
     "output_type": "stream",
     "text": [
      "Ahmet\n",
      "30\n",
      "E\n",
      "['sinema', 'Konser', 'yazilim']\n",
      "(10, 20, 30)\n"
     ]
    }
   ],
   "source": [
    "for x in kisi :\n",
    "    print(kisi[x])   # print(x) keyler yazdi suan valuelar yazdi"
   ]
  },
  {
   "cell_type": "code",
   "execution_count": 36,
   "metadata": {},
   "outputs": [
    {
     "name": "stdout",
     "output_type": "stream",
     "text": [
      "isim Ahmet\n",
      "yas 30\n",
      "cinsiyet E\n",
      "hobiler ['sinema', 'Konser', 'yazilim']\n",
      "(2, 3, 4) (10, 20, 30)\n"
     ]
    }
   ],
   "source": [
    "for x,y in kisi.items() :\n",
    "    print(x,y)   # key value yan yana yazar"
   ]
  },
  {
   "cell_type": "code",
   "execution_count": null,
   "metadata": {},
   "outputs": [],
   "source": [
    "kisi.get(\"olmayan_item\" ,\"ARADIGINIZ İTEM YOK\")"
   ]
  },
  {
   "cell_type": "code",
   "execution_count": null,
   "metadata": {},
   "outputs": [],
   "source": []
  },
  {
   "attachments": {},
   "cell_type": "markdown",
   "metadata": {},
   "source": [
    "# Lambda Function\n"
   ]
  },
  {
   "cell_type": "code",
   "execution_count": 3,
   "metadata": {},
   "outputs": [
    {
     "name": "stdout",
     "output_type": "stream",
     "text": [
      "25\n"
     ]
    }
   ],
   "source": [
    "kare_al = lambda x : x*x #  x--> fonsiyonun ald. parametre : x *x --> return edeceği\n",
    "# kare_al(5) --> cikti vermez\n",
    "print(kare_al(5))"
   ]
  },
  {
   "cell_type": "code",
   "execution_count": 2,
   "metadata": {},
   "outputs": [
    {
     "name": "stdout",
     "output_type": "stream",
     "text": [
      "125\n"
     ]
    }
   ],
   "source": [
    "kup_al = lambda x : x**3\n",
    "print(kup_al(5))"
   ]
  },
  {
   "cell_type": "code",
   "execution_count": 4,
   "metadata": {},
   "outputs": [
    {
     "name": "stdout",
     "output_type": "stream",
     "text": [
      "13\n"
     ]
    }
   ],
   "source": [
    "toplam = lambda x,y : x +y  # 2 parametre de alabilir\n",
    "print(toplam(5,8))"
   ]
  },
  {
   "attachments": {},
   "cell_type": "markdown",
   "metadata": {},
   "source": [
    "#### lambda icine belirsiz sayida parametre girmek"
   ]
  },
  {
   "cell_type": "code",
   "execution_count": 5,
   "metadata": {},
   "outputs": [
    {
     "name": "stdout",
     "output_type": "stream",
     "text": [
      "23.1\n"
     ]
    }
   ],
   "source": [
    "# icine belirsiz sayida parametre girmek\n",
    "genel_toplam = lambda *args : sum(args)\n",
    "print(genel_toplam(3,5,3,7,5.1))"
   ]
  },
  {
   "cell_type": "code",
   "execution_count": 10,
   "metadata": {},
   "outputs": [
    {
     "name": "stdout",
     "output_type": "stream",
     "text": [
      "21\n"
     ]
    }
   ],
   "source": [
    "# lambda icinde fonksiyona deger atamak\n",
    "print((lambda x,y,z : x * y + z)(3,5,6))"
   ]
  },
  {
   "attachments": {},
   "cell_type": "markdown",
   "metadata": {},
   "source": [
    "# lambda kullnark tuple veya dict'ten indexe gore siralama"
   ]
  },
  {
   "cell_type": "code",
   "execution_count": 15,
   "metadata": {},
   "outputs": [
    {
     "name": "stdout",
     "output_type": "stream",
     "text": [
      "[('Kağan', 9), ('Hale', 9), ('Kad', 36), ('Alparslan', 37)]\n"
     ]
    }
   ],
   "source": [
    "#tuple icinde yaşlara gore lambda ile siralama\n",
    "liste =[(\"Alparslan\",37),(\"Kağan\", 9),(\"Kad\",36),(\"Hale\",9)]\n",
    "liste.sort(key=lambda x : x[1])\n",
    "print(liste)"
   ]
  },
  {
   "cell_type": "code",
   "execution_count": 21,
   "metadata": {},
   "outputs": [
    {
     "name": "stdout",
     "output_type": "stream",
     "text": [
      "[{'Ad': 'Zeki', 'Soyad': 'Asl', 'yas': 55}, {'Ad': 'Ahmet', 'Soyad': 'Caliskan', 'yas': 25}, {'Ad': 'Dudu', 'Soyad': 'Dal', 'yas': 28}]\n"
     ]
    }
   ],
   "source": [
    "#dic içinde soyada göre lambda ile siralama\n",
    "liste2 = [{\"Ad\" : \"Ahmet\", \"Soyad\" : \"Caliskan\", \"yas\" :25},\n",
    "          {\"Ad\" : \"Dudu\", \"Soyad\" : \"Dal\", \"yas\" :28},\n",
    "          {\"Ad\" : \"Zeki\", \"Soyad\" : \"Asl\", \"yas\" :55}]\n",
    "liste2.sort(key=lambda x : x[\"Soyad\"])\n",
    "print(liste2)"
   ]
  },
  {
   "attachments": {},
   "cell_type": "markdown",
   "metadata": {},
   "source": [
    "# lambda ile stringi tersten yazma"
   ]
  },
  {
   "cell_type": "code",
   "execution_count": 25,
   "metadata": {},
   "outputs": [
    {
     "data": {
      "text/plain": [
       "'orphcet'"
      ]
     },
     "execution_count": 25,
     "metadata": {},
     "output_type": "execute_result"
    }
   ],
   "source": [
    "isim = \"techpro\"\n",
    "(lambda str : str[::-1])(\"techpro\")"
   ]
  },
  {
   "attachments": {},
   "cell_type": "markdown",
   "metadata": {},
   "source": [
    "# palindrom kelime lambda"
   ]
  },
  {
   "cell_type": "code",
   "execution_count": null,
   "metadata": {},
   "outputs": [],
   "source": [
    "# kelimenin palindrome mu degilmi oldugunu kontrol etme. tersten ve duz yazilisi ayni\n",
    "\n",
    "string = input(\"Lutfen kelime girin\")\n",
    "if (lambda str : str[::-1])(string) == string :\n",
    "    print(f\"girdiginiz -{string}- kelime bir palindrome kelimedir\")\n",
    "else : \n",
    "    print(f\"girdiginiz -{string}- kelime bir palindrome degildir\")"
   ]
  },
  {
   "attachments": {},
   "cell_type": "markdown",
   "metadata": {},
   "source": [
    "# map() function"
   ]
  },
  {
   "cell_type": "code",
   "execution_count": 34,
   "metadata": {},
   "outputs": [
    {
     "data": {
      "text/plain": [
       "[1, 4, 9, 16, 25, 36, 49]"
      ]
     },
     "execution_count": 34,
     "metadata": {},
     "output_type": "execute_result"
    }
   ],
   "source": [
    "# bir listedeki elemanlara fonksiyona uygular ve bir map objesi doner. donen objeyi list, tuple, set gibi \n",
    "# data turleri ile sarariz\n",
    "# map()e 1den fazla list gonderebiliriz.Ancak function'da o kadar parametre almali\n",
    "\n",
    "def kare_al(x): \n",
    "    return x*x\n",
    "\n",
    "\n",
    "liste= [1,2,3,4,5,6,7]\n",
    "list(map(kare_al,liste)) # bir fonk, liste aldi içine"
   ]
  },
  {
   "cell_type": "code",
   "execution_count": 36,
   "metadata": {},
   "outputs": [
    {
     "name": "stdout",
     "output_type": "stream",
     "text": [
      "[1, 4, 9, 16, 25, 36, 49]\n"
     ]
    }
   ],
   "source": [
    "liste= [1,2,3,4,5,6,7]\n",
    "liste = list(map(lambda x : x*x, liste)) #--> lambda x : x*x bu ifade function oldu\n",
    "print(liste)"
   ]
  },
  {
   "cell_type": "code",
   "execution_count": 39,
   "metadata": {},
   "outputs": [
    {
     "data": {
      "text/plain": [
       "[15, 17]"
      ]
     },
     "execution_count": 39,
     "metadata": {},
     "output_type": "execute_result"
    }
   ],
   "source": [
    "liste1 = [1,2,3,4]\n",
    "liste2 = [5,6,7,8]\n",
    "liste3 = [9,9]\n",
    "\n",
    "list(map(lambda x,y,z : x+y+z , liste1, liste2, liste3)) #--> yaptigi islem liste1[0]+liste2[0]+liste3[0]\n",
    "\n",
    "# burda liste3, 2 elemanlı olduğu için toplama yaparken 2 elemanli liste gore islem yapti.\n"
   ]
  },
  {
   "cell_type": "code",
   "execution_count": 44,
   "metadata": {},
   "outputs": [
    {
     "name": "stdout",
     "output_type": "stream",
     "text": [
      "[['ayakkabi', 135.0], ['pantolan', 108.0], ['gomlek', 90.0], ['ceket', 180.0]]\n"
     ]
    }
   ],
   "source": [
    "#map() ile indirim yap\n",
    "urunler =[[\"ayakkabi\",150],[\"pantolan\", 120],[\"gomlek\",100],[\"ceket\",200]]\n",
    "\n",
    "def indirim_yap(x) :\n",
    "    urun,fiyat = x[0],x[1]\n",
    "    fiyat = fiyat*(9/10)\n",
    "    return [urun,fiyat]\n",
    "\n",
    "sonuc= list(map(indirim_yap,urunler))\n",
    "print(sonuc)\n"
   ]
  },
  {
   "cell_type": "code",
   "execution_count": 46,
   "metadata": {},
   "outputs": [
    {
     "name": "stdout",
     "output_type": "stream",
     "text": [
      "['ahmet', 'ayşe', 'onur', 'hüseyin']\n"
     ]
    }
   ],
   "source": [
    "isimler = [\"AhMeT\",\"aYşE\",\"oNur\",\"HÜSeyiN\"]\n",
    "\n",
    "isimler2 = list(map(lambda x :x.lower(),isimler))\n",
    "print(isimler2)\n"
   ]
  },
  {
   "attachments": {},
   "cell_type": "markdown",
   "metadata": {},
   "source": [
    "# recursive function"
   ]
  },
  {
   "cell_type": "code",
   "execution_count": null,
   "metadata": {},
   "outputs": [],
   "source": [
    "# function'in kendini icinde yeniden kendisini çağırmasi\n",
    "# fuction'in sonsuz donguye girmesini engellemek için bitiş şarti olmali\n"
   ]
  },
  {
   "cell_type": "code",
   "execution_count": 60,
   "metadata": {},
   "outputs": [
    {
     "name": "stdout",
     "output_type": "stream",
     "text": [
      "15\n"
     ]
    }
   ],
   "source": [
    "def topla(liste):\n",
    "    if (len(liste)) == 0 :  # bitiş koşulu oldu\n",
    "        return 0\n",
    "    else :\n",
    "        return liste[0] + topla(liste[1:]) # function tekrar cağirdigimiz yer\n",
    "\n",
    "#---------\n",
    "print(topla([1,2,3,4,5]))    "
   ]
  },
  {
   "attachments": {},
   "cell_type": "markdown",
   "metadata": {},
   "source": [
    "# try - except block -> try-except-else-finally"
   ]
  },
  {
   "cell_type": "code",
   "execution_count": 11,
   "metadata": {},
   "outputs": [
    {
     "name": "stdout",
     "output_type": "stream",
     "text": [
      "hata var hata vaar\n",
      "5--8--0.625\n"
     ]
    }
   ],
   "source": [
    "# except Exception :    # ---> EN GENEL HATA BLOGU BUDUR. BU BLOK DİGERLERİ CALİSMAZ İSE CALİSİR. GENEL HATA BASLİĞİ\n",
    "  #  print(\"Bilinmeyen bir hata oluştu\")   # --> BU BLOGU BASA YAZARSAK DAHA SPESİFİK OLAN DİĞER HATA BLOKLARİ CALİSMAZ.\n",
    "                                            # O YUZDEN SONA YAZMAK DAHA DOGRU \n",
    "\n",
    "# HATA KAYNAGI BELİRSİZ ISE SONA excep Exceotion kullanılır\n",
    "# else : blogu --> try :  blogu içindeki kodlarda hata çıkmazsa else blogu calisir. yani kod istendiği gibi çalışıyorsa else calisir\n",
    "#  finally blogu --> her sekilde calisir. hata olsa da olmasa da.\n",
    "\n",
    "# try kodlarin old blok.\n",
    "# except blogu --> try icinde hata ile karsilasirsa calisir. Eger hatayi siniflandiramiyorsak except Exception calisir\n",
    "# try blogunda hata yoksa --> else blok calisir\n",
    "# finally : -- > her sekilde calisir\n",
    "\n",
    "#---> try blogu içinde, bilinçli olarakda hata firlatmasini isteyebilriz.\n",
    "### bu gibi durumlarda try içinde ornegin \n",
    "# if == 0 :\n",
    "#     raise ZeroDivisionError -- > gibi bir hata blogu konabilir.\n",
    "\n",
    "\n",
    "\n",
    "try:\n",
    "    a = 5           # Try : --> try içi hatanın olmasi muhtemel kodlarin eklendiği yer\n",
    "    b= 8\n",
    "    c= a / b\n",
    "    d = x  # --> HATA\n",
    "except : # --> Buraya except Exception :  yazabilirsiniz\n",
    "    print(\"hata var hata vaar\")    # hata ile karsılasildiginda calisacak kodların yazılacağı yer\n",
    "\n",
    "print(a,b,c, sep = \"--\")"
   ]
  },
  {
   "cell_type": "code",
   "execution_count": 6,
   "metadata": {},
   "outputs": [
    {
     "name": "stdout",
     "output_type": "stream",
     "text": [
      "bölen 0 olamaz\n",
      "finally blogu\n"
     ]
    }
   ],
   "source": [
    "# Eğer farkli hatalara göre farkli msjlar vermesini istiyorsak bunu uygulayabiliriz.\n",
    "\n",
    "try:\n",
    "    a = 5           # Try : --> try içi hatanın olmasi muhtemel kodlarin eklendiği yer\n",
    "    b= 0 #--> b=0 --> HATA\n",
    "    c= a / b\n",
    "    # d = x  # --> HATA . name error\n",
    "    isim = \"Ali\"\n",
    "    son_harf = isim[10] # --> index out of range hatasi\n",
    "\n",
    "except  ZeroDivisionError: # -->Eğer 0'a bölünme hatasi alirsak\n",
    "    print(\"bölen 0 olamaz\")    \n",
    "\n",
    "except NameError : # eğer name error olursa\n",
    "    print(\"Bu değişken daha önce tanımlanmamış\")             # TRY BLOGUNDA HATA BULURSA ORDA EXCEPT BLOGUNA ATLAR. \n",
    "                                                            # İLGİLİ HATA MSJINI VERİR\n",
    "except IndexError : # eger index error verirse\n",
    "    print(\"son harf bulunamadi. boyle bir index bulunmuyor\")\n",
    "\n",
    "except Exception :    # ---> EN GENEL HATA BLOGU BUDUR. BU BLOK DİGERLERİ CALİSMAZ İSE CALİSİR. GENEL HATA BASLİĞİ\n",
    "    print(\"Bilinmeyen bir hata oluştu\")   # --> BU BLOGU BASA YAZARSAK DAHA SPESİFİK OLAN DİĞER HATA BLOKLARİ CALİSMAZ.\n",
    "                                            # O YUZDEN SONA YAZMAK DAHA DOGRU \n",
    "\n",
    "else :\n",
    "    print(\"try blogu dogru sekilde calisti. Else blogu calisti\")                  \n",
    "\n",
    "finally : \n",
    "    print(\"finally blogu\")        # ne olursa olsun calisir. hata olması ya da olmaması farketmez                       "
   ]
  },
  {
   "cell_type": "code",
   "execution_count": 7,
   "metadata": {},
   "outputs": [
    {
     "name": "stdout",
     "output_type": "stream",
     "text": [
      "list index out of range\n",
      "finally blogu calisiyor her sekilde\n"
     ]
    }
   ],
   "source": [
    "# EGER BİZ ONEDEN TANIMLİ OLAN HATA YAZİSİNİN GORUNTULENMESİNİ İSTERSEK\n",
    "try:\n",
    "    a = 5           \n",
    "    b= 2 #--> b=0 --> HATA\n",
    "    c= a / b\n",
    "    # d = x  # --> HATA . name error\n",
    "    isim = \"Ali\"\n",
    "    son_harf = isim[2]\n",
    "    list_ = [1,2,3]\n",
    "    m = [list_[5]]\n",
    "except  ZeroDivisionError as e: # -->Eğer 0'a bölünme hatasi alirsak\n",
    "    print(e)    \n",
    "\n",
    "except NameError as e : # eğer name error olursa\n",
    "    print(e)             \n",
    "                                                           \n",
    "except IndexError as e :  # eger index error verirse\n",
    "    print(e) # --> string index out of range --> eger string ise hatasini yazar, list ise --> list index out of range\n",
    "\n",
    "except Exception as e :    # ---> EN GENEL HATA BLOGU BUDUR. BU BLOK DİGERLERİ CALİSMAZ İSE CALİSİR. GENEL HATA BASLİĞİ\n",
    "    print(e)   # --> BU BLOGU BASA YAZARSAK DAHA SPESİFİK OLAN DİĞER HATA BLOKLARİ CALİSMAZ.\n",
    "                                            # O YUZDEN SONA YAZMAK DAHA DOGRU \n",
    "  \n",
    "else :   # --> try blogunda hata yakalamazsa calisir\n",
    "    print(\"try blogu dogru sekilde calisti. Else blogu calisti\")                  \n",
    "\n",
    "finally : \n",
    "    print(\"finally blogu calisiyor her sekilde\")        # ne olursa olsun calisir. hata olması ya da olmaması farketmez "
   ]
  },
  {
   "attachments": {},
   "cell_type": "markdown",
   "metadata": {},
   "source": [
    "# *try except - while ile kullanicidan veri alma"
   ]
  },
  {
   "cell_type": "code",
   "execution_count": 16,
   "metadata": {},
   "outputs": [
    {
     "name": "stdout",
     "output_type": "stream",
     "text": [
      "Girilen iki sayının bölümü: 0\n"
     ]
    }
   ],
   "source": [
    "\n",
    "while True:\n",
    "    x = (input(\"Bir sayı girin\")) \n",
    "    y = (input(\"Bir sayı girin\")) \n",
    "\n",
    "    try:\n",
    "        a = int(x) / int(y)\n",
    "        print(\"Girilen iki sayının bölümü:\", a)\n",
    "        break\n",
    "    except (ValueError,ZeroDivisionError):\n",
    "        print(\"Sayıları doğru girdiğinizden emin olun\")"
   ]
  },
  {
   "attachments": {},
   "cell_type": "markdown",
   "metadata": {},
   "source": [
    "# MODULS IMPORT"
   ]
  },
  {
   "cell_type": "code",
   "execution_count": 17,
   "metadata": {},
   "outputs": [
    {
     "name": "stdout",
     "output_type": "stream",
     "text": [
      "720\n"
     ]
    }
   ],
   "source": [
    "import math as mat # math modulunu import eder\n",
    "sonuc = mat.factorial(6)\n",
    "print(sonuc)"
   ]
  },
  {
   "cell_type": "code",
   "execution_count": 23,
   "metadata": {},
   "outputs": [
    {
     "data": {
      "text/plain": [
       "720"
      ]
     },
     "execution_count": 23,
     "metadata": {},
     "output_type": "execute_result"
    }
   ],
   "source": [
    "from math import factorial as factorial# sadece math modul'den istedigimiz kodu import etmek iiçin.\n",
    "       # baska modul eklemek için virgulle yazilir. --> from math import factorial, sqrt\n",
    "factorial(6) \n",
    "\n",
    "# bu sekilde metod import edilirse modul_ismi.method_adi calismaz. direk method_adi() yazariz\n",
    "\n",
    "\n",
    "\n"
   ]
  },
  {
   "cell_type": "code",
   "execution_count": 24,
   "metadata": {},
   "outputs": [
    {
     "name": "stdout",
     "output_type": "stream",
     "text": [
      "factoryel :  5040 --- karekök : 2.0 --- fabs 5.0\n"
     ]
    }
   ],
   "source": [
    "from math import * # --> bu sekilde math modulu import edilmez ama tum metodlar calisir\n",
    "print(f\"factoryel :  {factorial(7)} --- karekök : {sqrt(4)} --- fabs {fabs(5)}\")\n"
   ]
  },
  {
   "attachments": {},
   "cell_type": "markdown",
   "metadata": {},
   "source": [
    "# random modulu"
   ]
  },
  {
   "cell_type": "code",
   "execution_count": null,
   "metadata": {},
   "outputs": [],
   "source": [
    "import random\n",
    "for i in range(10) : #10 defa dondurelim\n",
    "    print(random.random())  # 10 tane 0-1 arasinda 10 tane ondalikli sayi uretti\n",
    "\n",
    "# random() - 0 ile 1 arasi ondalik sayi uretir."
   ]
  },
  {
   "cell_type": "code",
   "execution_count": null,
   "metadata": {},
   "outputs": [],
   "source": [
    "import random\n",
    "for i in range(10) : #10 defa dondurelim\n",
    "    print(random.uniform(10,30))  # 10-30 arasinda 10 tane ondalikli sayi uretti \n",
    "#uniform(10,30) --> belirlediğimiz aralikta 10 tane ondalikli sayi uretmek icin. -->!!!! 10 ve 30 dahil    "
   ]
  },
  {
   "cell_type": "code",
   "execution_count": null,
   "metadata": {},
   "outputs": [],
   "source": [
    "import random\n",
    "for i in range(10) : #10 defa dondurelim\n",
    "    print(random.randint(1,10))  # 10 tane 1-10 arasinda 10 tane tamsayi sayi uretti.--> !!!!!!  1 ve 10 dahil"
   ]
  },
  {
   "cell_type": "code",
   "execution_count": null,
   "metadata": {},
   "outputs": [],
   "source": [
    "import random\n",
    "for i in range(10) : #10 defa dondurelim\n",
    "    print(random.randint(1,10)) # --> 1den baslar 2şer artan sayilardan 10'a kdar sayi uretir."
   ]
  },
  {
   "cell_type": "code",
   "execution_count": null,
   "metadata": {},
   "outputs": [],
   "source": [
    "import random\n",
    "for i in range(10) : #10 defa dondurelim\n",
    "    print(random.randrange(1,10,2)) #  --->!!!!!!! bitiş değeri dahil değildir. 10 dahil değildir"
   ]
  },
  {
   "cell_type": "code",
   "execution_count": 18,
   "metadata": {},
   "outputs": [
    {
     "name": "stdout",
     "output_type": "stream",
     "text": [
      "3\n"
     ]
    }
   ],
   "source": [
    "liste = [\"Siyah\",\"Beyaz\", \"Mavi\", \"Yesil\", \"Gri\", \"Turuncu\"]\n",
    "# print(random.choice(liste)) # --> verilen listeden rastgele bir tane eleman secer\n",
    "\n",
    "print(random.choice([1,2,3,4,5,6]))"
   ]
  },
  {
   "cell_type": "code",
   "execution_count": 40,
   "metadata": {},
   "outputs": [
    {
     "name": "stdout",
     "output_type": "stream",
     "text": [
      "['Turuncu', 'Yesil', 'Mavi', 'Gri', 'Siyah', 'Beyaz']\n"
     ]
    }
   ],
   "source": [
    "liste = [\"Siyah\",\"Beyaz\", \"Mavi\", \"Yesil\", \"Gri\", \"Turuncu\"]\n",
    "random.shuffle(liste)  \n",
    "print(liste) \n",
    "# shuffle(liste) --> listedeki elemanlarin yerlerini değiştir. karıştır demek"
   ]
  },
  {
   "cell_type": "code",
   "execution_count": 42,
   "metadata": {},
   "outputs": [
    {
     "name": "stdout",
     "output_type": "stream",
     "text": [
      "['Turuncu', 'Mavi', 'Siyah']\n"
     ]
    }
   ],
   "source": [
    "print(random.sample(liste,3)) #-->> parametre olarak liste ve sayi alir. verdiginiz sayi kadar elemani listeden seçer"
   ]
  },
  {
   "attachments": {},
   "cell_type": "markdown",
   "metadata": {},
   "source": [
    "# *random zar atma - olasilik ölçme "
   ]
  },
  {
   "cell_type": "code",
   "execution_count": 11,
   "metadata": {},
   "outputs": [
    {
     "name": "stdout",
     "output_type": "stream",
     "text": [
      "1 gelme olasiligi : 0.1664242\n",
      "2 gelme olasiligi : 0.1665782\n",
      "3 gelme olasiligi : 0.1669626\n",
      "4 gelme olasiligi : 0.1666317\n",
      "5 gelme olasiligi : 0.1665681\n",
      "6 gelme olasiligi : 0.1668352\n"
     ]
    }
   ],
   "source": [
    "# Belirli (mesela 10_000_000 )sayida zar atarak 1,2,3,4,5 ve 6 gelme olasılığını hesaplayan bir program yaziniz.\n",
    "import random\n",
    "\n",
    "zarlar = {1: 0, 2: 0, 3: 0, 4: 0, 5: 0, 6: 0 }\n",
    "for i in range(10_000_000) :\n",
    "    zar = random.randint(1,6) # 2 değerde dahil\n",
    "    zarlar[zar] += 1  # her zar atilişta değerler +1 olacak\n",
    "\n",
    "for zar in zarlar :\n",
    "   print(f\"{zar} gelme olasiligi : {zarlar[zar] / 10_000_000}\" ) "
   ]
  },
  {
   "attachments": {},
   "cell_type": "markdown",
   "metadata": {},
   "source": [
    "# *tavlada 10 defa 6-6 gelmesi için kaç defa taş atmaliyiz"
   ]
  },
  {
   "cell_type": "code",
   "execution_count": 3,
   "metadata": {},
   "outputs": [
    {
     "name": "stdout",
     "output_type": "stream",
     "text": [
      "10 kere 6-6 gelmesi için zarlar 362 defa atildi\n"
     ]
    }
   ],
   "source": [
    "# Tavlada 10 defa 6-6 gelmesi için kaç defa taş atılması gerektiğini hesaplayan bir program yaziniz\n",
    "import random\n",
    "alti_alti = 0\n",
    "deneme_sayisi = 0\n",
    "while True : \n",
    "    deneme_sayisi +=1\n",
    "    zar1 = random.randint(1,6)\n",
    "    zar2 = random.randint(1,6)\n",
    "    if zar1 == 6 and zar2 == 6 :\n",
    "        alti_alti += 1\n",
    "    if alti_alti == 10 :    \n",
    "        print(f\"10 kere 6-6 gelmesi için zarlar {deneme_sayisi} defa atildi\")\n",
    "        break"
   ]
  },
  {
   "attachments": {},
   "cell_type": "markdown",
   "metadata": {},
   "source": [
    "# STRING modul"
   ]
  },
  {
   "cell_type": "code",
   "execution_count": 26,
   "metadata": {},
   "outputs": [
    {
     "data": {
      "text/plain": [
       "'!\"#$%&\\'()*+,-./:;<=>?@[\\\\]^_`{|}~'"
      ]
     },
     "execution_count": 26,
     "metadata": {},
     "output_type": "execute_result"
    }
   ],
   "source": [
    "import string as str\n",
    "str.ascii_letters #--> tüm büyük küçük harfler\n",
    "str.ascii_lowercase #--> kücük harfler \n",
    "str.ascii_uppercase #--> büyük harfler\n",
    "str.digits #--> rakamlar\n",
    "str.punctuation #--> isaretler '!\"#$%&\\'()*+,-./:;<=>?@[\\\\]^_`{|}~'"
   ]
  },
  {
   "cell_type": "code",
   "execution_count": 38,
   "metadata": {},
   "outputs": [
    {
     "name": "stdout",
     "output_type": "stream",
     "text": [
      "Note: you may need to restart the kernel to use updated packages.\n"
     ]
    },
    {
     "name": "stderr",
     "output_type": "stream",
     "text": [
      "ERROR: Invalid requirement: '#--'\n",
      "\n",
      "[notice] A new release of pip available: 22.3.1 -> 23.0.1\n",
      "[notice] To update, run: python.exe -m pip install --upgrade pip\n"
     ]
    }
   ],
   "source": [
    "# import pyautogui\n",
    "%pip install pyautogui  #--> Olmayan bir modulu yuklemek için kullanilir.\n"
   ]
  },
  {
   "attachments": {},
   "cell_type": "markdown",
   "metadata": {},
   "source": [
    "# dosya yolu bulma "
   ]
  },
  {
   "cell_type": "code",
   "execution_count": 2,
   "metadata": {},
   "outputs": [
    {
     "data": {
      "text/plain": [
       "'d:\\\\DATA_SCIENCE\\\\B147-B150\\\\Alp_pythonfile'"
      ]
     },
     "execution_count": 2,
     "metadata": {},
     "output_type": "execute_result"
    }
   ],
   "source": [
    "pwd"
   ]
  },
  {
   "attachments": {},
   "cell_type": "markdown",
   "metadata": {},
   "source": [
    "# CREATE MODUL -KENDİ MODULUNU OLUSTURMA"
   ]
  },
  {
   "cell_type": "code",
   "execution_count": 3,
   "metadata": {},
   "outputs": [
    {
     "data": {
      "text/plain": [
       "120"
      ]
     },
     "execution_count": 3,
     "metadata": {},
     "output_type": "execute_result"
    }
   ],
   "source": [
    "from my_package import my_math\n",
    "# calistigimiz klasor içinde bi klasor acip içine bir .py file oluşturulur.\n",
    "# from klasor_adi import modul_adi seklinde yazilir\n",
    "my_math.find_fact(5)"
   ]
  },
  {
   "cell_type": "code",
   "execution_count": 4,
   "metadata": {},
   "outputs": [
    {
     "data": {
      "text/plain": [
       "3.14"
      ]
     },
     "execution_count": 4,
     "metadata": {},
     "output_type": "execute_result"
    }
   ],
   "source": [
    "my_math.pi"
   ]
  },
  {
   "cell_type": "code",
   "execution_count": null,
   "metadata": {},
   "outputs": [],
   "source": []
  },
  {
   "cell_type": "code",
   "execution_count": null,
   "metadata": {},
   "outputs": [],
   "source": []
  },
  {
   "cell_type": "code",
   "execution_count": null,
   "metadata": {},
   "outputs": [],
   "source": []
  },
  {
   "cell_type": "code",
   "execution_count": null,
   "metadata": {},
   "outputs": [],
   "source": []
  }
 ],
 "metadata": {
  "kernelspec": {
   "display_name": "Python 3",
   "language": "python",
   "name": "python3"
  },
  "language_info": {
   "codemirror_mode": {
    "name": "ipython",
    "version": 3
   },
   "file_extension": ".py",
   "mimetype": "text/x-python",
   "name": "python",
   "nbconvert_exporter": "python",
   "pygments_lexer": "ipython3",
   "version": "3.11.2"
  },
  "orig_nbformat": 4
 },
 "nbformat": 4,
 "nbformat_minor": 2
}
