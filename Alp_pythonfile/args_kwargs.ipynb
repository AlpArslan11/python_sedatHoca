{
 "cells": [
  {
   "attachments": {},
   "cell_type": "markdown",
   "metadata": {},
   "source": [
    "https://teclado.com/30-days-of-python/python-30-day-17-exercise-solutions/"
   ]
  },
  {
   "cell_type": "code",
   "execution_count": 16,
   "metadata": {},
   "outputs": [
    {
     "name": "stdout",
     "output_type": "stream",
     "text": [
      "------------------------------\n",
      "ad         : Fırat \n",
      "------------------------------\n",
      "soyad      : Özgül \n",
      "------------------------------\n",
      "şehir      : İstanbul \n",
      "------------------------------\n",
      "tel        : 05333213232 \n",
      "------------------------------\n"
     ]
    }
   ],
   "source": [
    "def kayit_oluştur(**bilgiler):\n",
    "    print(\"-\"*30)\n",
    "    for anahtar, değer in bilgiler.items():\n",
    "        print(\"{:<10} : {} \".format(anahtar, değer))\n",
    "        print(\"-\"*30)\n",
    "        \n",
    "kayit_oluştur(ad=\"Firat\", soyad=\"Özgül\", şehir=\"İstanbul\", tel=\"05333213232\")"
   ]
  },
  {
   "cell_type": "code",
   "execution_count": 40,
   "metadata": {},
   "outputs": [
    {
     "name": "stdout",
     "output_type": "stream",
     "text": [
      "kitap = book \n",
      "bilgisayar = computer \n",
      "programlama = programming \n",
      "fonksiyon kelimesi sözlükte yok!\n"
     ]
    }
   ],
   "source": [
    "def karşilik_bul(*args, **kwargs):\n",
    "    for sözcük in args:\n",
    "        if sözcük in kwargs:\n",
    "            print(\"{} = {} \".format(sözcük, kwargs[sözcük]))\n",
    "        else:\n",
    "            print(\"{} kelimesi sözlükte yok!\".format(sözcük))\n",
    "\n",
    "sözlük = {\"kitap\" : \"book\",\n",
    "\"bilgisayar\" : \"computer\",\n",
    "\"programlama\": \"programming\"}\n",
    "karşilik_bul(\"kitap\", \"bilgisayar\", \"programlama\", \"fonksiyon\", **sözlük)"
   ]
  },
  {
   "cell_type": "code",
   "execution_count": 20,
   "metadata": {},
   "outputs": [
    {
     "name": "stdout",
     "output_type": "stream",
     "text": [
      "#.öğe1\n",
      "#.öğe2\n",
      "#.öğe3\n"
     ]
    }
   ],
   "source": [
    "def bas(*args, start='', **kwargs):\n",
    "    for öğe in args:\n",
    "        print(start+öğe, **kwargs)\n",
    "\n",
    "\n",
    "bas('öğe1', 'öğe2', 'öğe3', start=\"#.\")\n"
   ]
  },
  {
   "cell_type": "code",
   "execution_count": 24,
   "metadata": {},
   "outputs": [],
   "source": [
    "def bas(*args, start='', **kwargs):\n",
    "    for öğe in args:\n",
    "        print(start+öğe, **kwargs)\n",
    "\n",
    "f = open(\"te.txt\", \"w\")\n",
    "bas('öğe1', 'öğe2', 'öğe3', start=\"#.\", end=\"\", file=f)"
   ]
  },
  {
   "cell_type": "code",
   "execution_count": 23,
   "metadata": {},
   "outputs": [
    {
     "name": "stdout",
     "output_type": "stream",
     "text": [
      "21\n"
     ]
    }
   ],
   "source": [
    "# 1) Create a function that accepts any number of numbers as positional arguments and prints the sum of those numbers. \n",
    "# - Remember that we can use the sum function to add the values in an iterable.\n",
    "\n",
    "def sum_all(*args) :\n",
    "    print(sum(args))\n",
    "\n",
    "# -----------\n",
    "sum_all(1,5,7,8)"
   ]
  },
  {
   "cell_type": "code",
   "execution_count": 36,
   "metadata": {},
   "outputs": [
    {
     "name": "stdout",
     "output_type": "stream",
     "text": [
      "Positional arguments are: 'positional1', 'positional2'\n",
      "Keyword arguments are: key1='arguments1', key2='arguments2'\n"
     ]
    }
   ],
   "source": [
    "#2) Create a function that accepts any number of positional and keyword arguments, and that prints them back to the user. Your output should indicate which values were provided as positional arguments, and which were provided as keyword arguments.\n",
    "\n",
    "def arg_printer (*args,**kwargs) :\n",
    "    args = [repr(arg) for arg in args]\n",
    "    print(f\"Positional arguments are: {', '.join(args)}\")\n",
    "\n",
    "    kwargs = [f\"{key}={repr(value)}\" for key, value in kwargs.items()]\n",
    "    print(f\"Keyword arguments are: {', '.join(kwargs)}\")   \n",
    "\n",
    "# ----------\n",
    "arg_printer(\"positional1\",\"positional2\", key1= \"arguments1\", key2 = \"arguments2\")\n",
    "\n",
    "\n"
   ]
  },
  {
   "cell_type": "code",
   "execution_count": 24,
   "metadata": {},
   "outputs": [
    {
     "name": "stdout",
     "output_type": "stream",
     "text": [
      "('element1', 'element2', 'element3', 'element4') .#->> {'key1': 'values1', 'key2': 'values2', 'key3': 'values3', 'key4': 'values4'}\n",
      "('element1', 'element2', 'element3', 'element4') .#->> {'key1': 'values1', 'key2': 'values2', 'key3': 'values3', 'key4': 'values4'}\n",
      "('element1', 'element2', 'element3', 'element4') .#->> {'key1': 'values1', 'key2': 'values2', 'key3': 'values3', 'key4': 'values4'}\n",
      "('element1', 'element2', 'element3', 'element4') .#->> {'key1': 'values1', 'key2': 'values2', 'key3': 'values3', 'key4': 'values4'}\n"
     ]
    }
   ],
   "source": [
    "# Ex.2 modifed \n",
    "# arg1.#--> key : value\n",
    "# arg2.#--> key : value\n",
    "\n",
    "def template (*args, start ='-', **kwargs) :\n",
    "    \n",
    "\n",
    "\n",
    "    \n",
    "# ----------\n",
    "\n",
    "template(\"element1\",\"element2\", \"element3\",\"element4\", \n",
    "         start='.#->>',\n",
    "         key1= \"values1\", key2 = \"values2\",key3 = \"values3\",key4 = \"values4\")\n",
    "\n"
   ]
  },
  {
   "cell_type": "code",
   "execution_count": 31,
   "metadata": {},
   "outputs": [
    {
     "name": "stdout",
     "output_type": "stream",
     "text": [
      "element1.#->> key1 : values1\n",
      "element2.#->> key2 : values2\n",
      "element3.#->> key3 : values3\n",
      "element4.#->> key4 : values4\n"
     ]
    }
   ],
   "source": [
    "def template (*args, start ='-', **kwargs) :\n",
    "    for i, j in zip(args, kwargs):\n",
    "        print(f\"{i}{start} {j} : {kwargs[j]}\")\n",
    "\n",
    "template(\"element1\",\"element2\", \"element3\",\"element4\", \n",
    "         start='.#->>',\n",
    "         key1= \"values1\", key2 = \"values2\",key3 = \"values3\",key4 = \"values4\")        "
   ]
  },
  {
   "cell_type": "code",
   "execution_count": 32,
   "metadata": {},
   "outputs": [
    {
     "name": "stdout",
     "output_type": "stream",
     "text": [
      "k j e l i m e\n"
     ]
    }
   ],
   "source": [
    "print(*\"kjelime\")"
   ]
  },
  {
   "cell_type": "code",
   "execution_count": 35,
   "metadata": {},
   "outputs": [],
   "source": [
    "dict={\"key1\":\"asd\",\"key2\":\"asdf\"}"
   ]
  },
  {
   "cell_type": "code",
   "execution_count": 37,
   "metadata": {},
   "outputs": [],
   "source": [
    "# Print the following dictionary using the format method and ** unpacking.\n",
    "\n",
    "country = {\n",
    "    \"name\": \"Germany\",\n",
    "    \"population\": \"83 million\",\n",
    "    \"capital\": \"Berlin\",\n",
    "    \"currency\": \"Euro\" }"
   ]
  },
  {
   "cell_type": "code",
   "execution_count": null,
   "metadata": {},
   "outputs": [],
   "source": [
    "# 4) Using * unpacking and range, print the numbers 1 to 20, separated by commas. You will have to provide an argument for print function's sep parameter for this exercise."
   ]
  },
  {
   "cell_type": "code",
   "execution_count": null,
   "metadata": {},
   "outputs": [],
   "source": [
    "# 5) Modify your code from exercise 4 so that each number prints on a different line. You can only use a single print call."
   ]
  },
  {
   "cell_type": "code",
   "execution_count": null,
   "metadata": {},
   "outputs": [],
   "source": []
  }
 ],
 "metadata": {
  "kernelspec": {
   "display_name": "Python 3",
   "language": "python",
   "name": "python3"
  },
  "language_info": {
   "codemirror_mode": {
    "name": "ipython",
    "version": 3
   },
   "file_extension": ".py",
   "mimetype": "text/x-python",
   "name": "python",
   "nbconvert_exporter": "python",
   "pygments_lexer": "ipython3",
   "version": "3.11.2"
  },
  "orig_nbformat": 4
 },
 "nbformat": 4,
 "nbformat_minor": 2
}
