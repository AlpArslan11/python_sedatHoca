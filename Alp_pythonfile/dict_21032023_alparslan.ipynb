{
 "cells": [
  {
   "cell_type": "code",
   "execution_count": 1,
   "metadata": {},
   "outputs": [],
   "source": [
    "#       1 ------>   süslü parantez ile oluşturulur.\n",
    "info = {\"name\" : \"Hasan\",  \n",
    "        \"surname\" : \"Yüzler\",\n",
    "        \"class\" : \"8-B\"}"
   ]
  },
  {
   "cell_type": "code",
   "execution_count": 4,
   "metadata": {},
   "outputs": [
    {
     "data": {
      "text/plain": [
       "{'Adi': 'Hasan',\n",
       " 'Soyadi': 'Yüzler',\n",
       " 'Sinifi': '8-B',\n",
       " 'Dersler': ['Matematik', 'İngilizce', 'Tarih'],\n",
       " 'Notlar': (70, 80, 90),\n",
       " 'Sayilar': {1, 2, 3},\n",
       " 'Sayilar_listesi': [2, 3, 4, 56],\n",
       " (1, 2, 3): (10, 20, 30),\n",
       " 123: 'asd'}"
      ]
     },
     "execution_count": 4,
     "metadata": {},
     "output_type": "execute_result"
    }
   ],
   "source": [
    "#       2 ------>  VALUElar hangi değerleri alabilirler?  her değeri alabilirler \n",
    "#          ------> KEYler hangi değerleri alabilirler ?  string , int , tuple --> immutable değiştirilmez\n",
    "info = {\"Adi\" : \"Hasan\",  \n",
    "        \"Soyadi\" : \"Yüzler\",\n",
    "        \"Sinifi\" : \"8-B\",\n",
    "        \"Dersler\" : [\"Matematik\", \"İngilizce\",\"Tarih\"],\n",
    "        \"Notlar\" : (70, 80, 90),\n",
    "        \"Sayilar\" : {1,2,3},\n",
    "       #  {1,2,3} : (1,2,3),\n",
    "        (1,2,3) : (10,20,30),\n",
    "        123 : \"asd\"}\n",
    "\n",
    "info\n"
   ]
  },
  {
   "cell_type": "code",
   "execution_count": 14,
   "metadata": {},
   "outputs": [
    {
     "data": {
      "text/plain": [
       "'Yüzler'"
      ]
     },
     "execution_count": 14,
     "metadata": {},
     "output_type": "execute_result"
    }
   ],
   "source": [
    "#          3 ------>  ÇAĞIRMA YONTEMİ --> index ile eleman çağıramayiz-->[]. index yerine KEY kullaniriz. Value döner\n",
    "info[\"Soyadi\"]          # --> obje ismi olarak değil string ifade ile cağrılır\n",
    "                         # listlerdeki gibi köşeli parantez kullaniyoruz ama içine index değil \"key\"leri yaziyoruz"
   ]
  },
  {
   "cell_type": "code",
   "execution_count": 16,
   "metadata": {},
   "outputs": [
    {
     "data": {
      "text/plain": [
       "{'Adi': 'Hasan',\n",
       " 'Soyadi': 'Yüzler',\n",
       " 'Sinifi': '8-B',\n",
       " 'Dersler': ['Matematik', 'İngilizce', 'Tarih'],\n",
       " 'Notlar': (70, 80, 90, 100),\n",
       " 'Sayilar': {1, 2, 3},\n",
       " 123: 'asd'}"
      ]
     },
     "execution_count": 16,
     "metadata": {},
     "output_type": "execute_result"
    }
   ],
   "source": [
    "#         4 ------>  elemanlari nasil değiştirebiliriz güncelleyebilirz.\n",
    "info = {\"Adi\" : \"Hasan\",  \n",
    "        \"Soyadi\" : \"Yüzler\",\n",
    "        \"Sinifi\" : \"8-B\",\n",
    "        \"Dersler\" : [\"Matematik\", \"İngilizce\",\"Tarih\"],\n",
    "        \"Notlar\" : (70, 80, 90),\n",
    "        \"Sayilar\" : {1,2,3},\n",
    "        123 : \"asd\"}\n",
    "\n",
    "info[\"Notlar\"] =(70,80,90,100)\n",
    "info"
   ]
  },
  {
   "cell_type": "code",
   "execution_count": 21,
   "metadata": {},
   "outputs": [
    {
     "data": {
      "text/plain": [
       "{'Adi': 'HASAN',\n",
       " 'Soyadi': 'YÜZLER',\n",
       " 'Sinifi': '8-B',\n",
       " 'Dersler': ['Matematik', 'İngilizce', 'Tarih'],\n",
       " 'Notlar': (70, 80, 90, 100),\n",
       " 'Sayilar': {1, 2, 3},\n",
       " 123: 'bcd'}"
      ]
     },
     "execution_count": 21,
     "metadata": {},
     "output_type": "execute_result"
    }
   ],
   "source": [
    "#        5 -------> Aynı anda iki veya fazla alani güncellemek isteseydim.\n",
    "info.update({\"Adi\" : \"HASAN\" ,\n",
    "             \"Soyadi\" : \"YÜZLER\"})   # icine kwargs aliyor. yani dict olarak girmem gerek\n",
    "info"
   ]
  },
  {
   "cell_type": "code",
   "execution_count": 20,
   "metadata": {},
   "outputs": [
    {
     "data": {
      "text/plain": [
       "{'Adi': 'HASAN',\n",
       " 'Soyadi': 'YÜZLER',\n",
       " 'Sinifi': '8-B',\n",
       " 'Dersler': ['Matematik', 'İngilizce', 'Tarih'],\n",
       " 'Notlar': (70, 80, 90, 100),\n",
       " 'Sayilar': {1, 2, 3},\n",
       " 123: 'bcd'}"
      ]
     },
     "execution_count": 20,
     "metadata": {},
     "output_type": "execute_result"
    }
   ],
   "source": [
    "# indexleyerek birden çok elemani güncelleme\n",
    "info[\"Notlar\"], info[123] =(70,80,90,100),\"bcd\"     #notlara 4.yazili notu, 123-->\"bcd\"\n",
    "info"
   ]
  },
  {
   "cell_type": "code",
   "execution_count": null,
   "metadata": {},
   "outputs": [],
   "source": [
    "#     6 ------>  bir alanı nasil silebiliriz.\n",
    "info = {\"Adi\" : \"Hasan\",  \n",
    "        \"Soyadi\" : \"Yüzler\",      #burda 3 farkli yöntem war.pop,clear,dell info.pop(\"silinecekEleman\") , del info[\"sayilar\"]\n",
    "        \"Sinifi\" : \"8-B\",                                       #   , dell info   info.clear() \n",
    "        \"Dersler\" : [\"Matematik\", \"İngilizce\",\"Tarih\"],\n",
    "        \"Notlar\" : (70, 80, 90),\n",
    "        \"Sayilar\" : {1,2,3},\n",
    "        123 : \"asd\"}\n",
    "\n",
    "del info[123]                           # info.pop(\"Sayilar\")\n",
    "info"
   ]
  },
  {
   "cell_type": "code",
   "execution_count": 6,
   "metadata": {},
   "outputs": [
    {
     "data": {
      "text/plain": [
       "{}"
      ]
     },
     "execution_count": 6,
     "metadata": {},
     "output_type": "execute_result"
    }
   ],
   "source": [
    "info.clear()\n",
    "info"
   ]
  },
  {
   "cell_type": "code",
   "execution_count": null,
   "metadata": {},
   "outputs": [],
   "source": [
    "del info\n",
    "info"
   ]
  },
  {
   "cell_type": "code",
   "execution_count": 31,
   "metadata": {},
   "outputs": [
    {
     "data": {
      "text/plain": [
       "{'Adi': 'Hasan',\n",
       " 'Soyadi': 'Yüzler',\n",
       " 'Sinifi': '8-B',\n",
       " 'Dersler': ['Matematik', 'İngilizce', 'Tarih'],\n",
       " 'Notlar': (70, 80, 90)}"
      ]
     },
     "execution_count": 31,
     "metadata": {},
     "output_type": "execute_result"
    }
   ],
   "source": [
    "info.pop(\"Sayilar\")\n",
    "info"
   ]
  },
  {
   "cell_type": "code",
   "execution_count": 34,
   "metadata": {},
   "outputs": [
    {
     "data": {
      "text/plain": [
       "{'Adi': 'Hasan',\n",
       " 'Soyadi': 'Yüzler',\n",
       " 'Sinifi': '8-B',\n",
       " 'Dersler': ['Matematik', 'İngilizce', 'Tarih'],\n",
       " 'Notlar': (70, 80, 90),\n",
       " 'Sayilar': {1, 2, 3},\n",
       " 'alakasiz': 'neBileyim'}"
      ]
     },
     "execution_count": 34,
     "metadata": {},
     "output_type": "execute_result"
    }
   ],
   "source": [
    "#       7 ------>  yeni bir alan olusturup eleman ekleyelim\n",
    "info[\"alakasiz\"] =\"neBileyim\"\n",
    "info"
   ]
  },
  {
   "cell_type": "code",
   "execution_count": 41,
   "metadata": {},
   "outputs": [
    {
     "name": "stdout",
     "output_type": "stream",
     "text": [
      "Adi\n",
      "Soyadi\n",
      "Sinifi\n",
      "Dersler\n",
      "Notlar\n",
      "Sayilar\n",
      "123\n"
     ]
    }
   ],
   "source": [
    "#       8 -------> sözlüğü for ile nasil yazdiririz\n",
    "\n",
    "\n",
    "info = {\"Adi\" : \"Hasan\",  \n",
    "        \"Soyadi\" : \"Yüzler\",\n",
    "        \"Sinifi\" : \"8-B\",\n",
    "        \"Dersler\" : [\"Matematik\", \"İngilizce\",\"Tarih\"],\n",
    "        \"Notlar\" : (70, 80, 90),\n",
    "        \"Sayilar\" : {1,2,3},\n",
    "        123 : \"asd\"}\n",
    "\n",
    "for i in info :             # --->  sadece dict adi yazdigimizda sadece tek veri donuyor. oda KEY\n",
    "    print(i)"
   ]
  },
  {
   "cell_type": "code",
   "execution_count": 42,
   "metadata": {},
   "outputs": [
    {
     "name": "stdout",
     "output_type": "stream",
     "text": [
      "Hasan\n",
      "Yüzler\n",
      "8-B\n",
      "['Matematik', 'İngilizce', 'Tarih']\n",
      "(70, 80, 90)\n",
      "{1, 2, 3}\n",
      "asd\n"
     ]
    }
   ],
   "source": [
    "# daha farkli yöntemlerle degerleri nasil yazdiririz.\n",
    "for i in info.values() :\n",
    "    print(i)                # veya     print(info[i])    /  print(info.get(i))"
   ]
  },
  {
   "cell_type": "code",
   "execution_count": null,
   "metadata": {},
   "outputs": [],
   "source": [
    "for x, y in info.items() :  # ---> info.items() --> bize 2 veri doner. KEY : VALUE\n",
    "        print(x,y)          # bunu print(info.items()) ile yazirsak bize tuple tuple olarak donuyor."
   ]
  },
  {
   "cell_type": "code",
   "execution_count": 48,
   "metadata": {},
   "outputs": [
    {
     "name": "stdout",
     "output_type": "stream",
     "text": [
      "dict_items([('Adi', 'Hasan'), ('Soyadi', 'Yüzler'), ('Sinifi', '8-B'), ('Dersler', ['Matematik', 'İngilizce', 'Tarih']), ('Notlar', (70, 80, 90)), ('Sayilar', {1, 2, 3}), (123, 'asd')])\n"
     ]
    }
   ],
   "source": [
    "print(info.items())"
   ]
  },
  {
   "cell_type": "code",
   "execution_count": null,
   "metadata": {},
   "outputs": [],
   "source": [
    "#       9 -------> olmayan bir alani, keyi aratsak ne olur?\n",
    "info = {\"Adi\" : \"Hasan\",  \n",
    "        \"Soyadi\" : \"Yüzler\",\n",
    "        \"Sinifi\" : \"8-B\",\n",
    "        \"Dersler\" : [\"Matematik\", \"İngilizce\",\"Tarih\"],\n",
    "        \"Notlar\" : (70, 80, 90),\n",
    "        \"Sayilar\" : {1,2,3},\n",
    "        123 : \"asd\"}\n",
    "\n",
    "info[\"okul\"]                        # KeyError veriyor. HATA"
   ]
  },
  {
   "cell_type": "code",
   "execution_count": 51,
   "metadata": {},
   "outputs": [
    {
     "data": {
      "text/plain": [
       "'aradiğiniz key yoktur.'"
      ]
     },
     "execution_count": 51,
     "metadata": {},
     "output_type": "execute_result"
    }
   ],
   "source": [
    "        # bu hatayi almak istemezsek, yani prgramın hata vermeden devam etmesini istersek .get() kullanabilirz.\n",
    "        # burda get içine aranan KEY sonrasinda virgul ile hata msjı yazilir   info.get(\"okul\",\"aradiğiniz key yoktur.\")\n",
    "\n",
    "info.get(\"okul\",\"aradiğiniz key yoktur.\")"
   ]
  },
  {
   "attachments": {},
   "cell_type": "markdown",
   "metadata": {},
   "source": [
    "# EXERCISES"
   ]
  },
  {
   "cell_type": "code",
   "execution_count": 53,
   "metadata": {},
   "outputs": [
    {
     "data": {
      "text/plain": [
       "{'Ten': 10, 'Twenty': 20, 'Thirty': 30}"
      ]
     },
     "execution_count": 53,
     "metadata": {},
     "output_type": "execute_result"
    }
   ],
   "source": [
    "# 2 listi bir dicte cevirelim\n",
    "keys = ['Ten', 'Twenty', 'Thirty']\n",
    "values = [10, 20, 30]\n",
    "\n",
    "\n",
    "# biz iki dizi veriyi nasil bir biri ile birleştirebiliyorduk. zip enumarate. Enumarate numaralandirma zip eşleme idi. \n",
    "#DICT FONSKIYONU  zip(keys,values)hata --> dict(zip(keys,values))\n",
    "\n",
    "dict(zip(keys,values))"
   ]
  },
  {
   "cell_type": "code",
   "execution_count": 54,
   "metadata": {},
   "outputs": [
    {
     "name": "stdout",
     "output_type": "stream",
     "text": [
      "{'on': 10, 'yirmi': 20, 'otuz': 30, 'Thirty': 30, 'Fourty': 40, 'Fifty': 50}\n"
     ]
    }
   ],
   "source": [
    "# 2 dicti bileştirip 1 dict elde edelim.\n",
    "dict_tr = {'on': 10, 'yirmi': 20, 'otuz': 30}\n",
    "dict_en = {'Thirty': 30, 'Fourty': 40, 'Fifty': 50}\n",
    "\n",
    "dict_birlesim = dict(**dict_tr,**dict_en)   # dick fonksiyonundan yararlandik\n",
    "print(dict_birlesim)"
   ]
  },
  {
   "cell_type": "code",
   "execution_count": 57,
   "metadata": {},
   "outputs": [
    {
     "data": {
      "text/plain": [
       "{'on': 10, 'yirmi': 20, 'otuz': 30, 'Thirty': 30, 'Fourty': 40, 'Fifty': 50}"
      ]
     },
     "execution_count": 57,
     "metadata": {},
     "output_type": "execute_result"
    }
   ],
   "source": [
    "# 2 dicti bileştirip 1 dict elde edelim.  # yeni bir dict tanımlasak icine bu dictleri koysak\n",
    "dict_b = {**dict_tr,**dict_en}              \n",
    "dict_b"
   ]
  },
  {
   "cell_type": "code",
   "execution_count": 58,
   "metadata": {},
   "outputs": [
    {
     "name": "stdout",
     "output_type": "stream",
     "text": [
      "{'on': 10, 'yirmi': 20, 'otuz': 30, 'Thirty': 30, 'Fourty': 40, 'Fifty': 50}\n"
     ]
    }
   ],
   "source": [
    "# 2 dicti bileştirip yeni 1 dict elde edelim.   --> DİCT METHODLARINDAN FAYDALANSAK\n",
    "dict_c = dict_tr.copy()   #once dict_tr kopyala bos bir dicte  sonra dict_en'i yeni dict'e ile update yapsak\n",
    "dict_c.update (dict_en)\n",
    "print(dict_c)"
   ]
  },
  {
   "cell_type": "code",
   "execution_count": 59,
   "metadata": {},
   "outputs": [
    {
     "name": "stdout",
     "output_type": "stream",
     "text": [
      "80\n"
     ]
    }
   ],
   "source": [
    "# matematik dersinin notunu yazdiralim\n",
    "notlar = {\"sinif\": { \"ogr\": { \"isim\": \"Cengiz\", \"notlar\": {\"fizik\" : 70, \"mat\" : 80  }}}}\n",
    "\n",
    "print(notlar[\"sinif\"][\"ogr\"][\"notlar\"][\"mat\"])"
   ]
  },
  {
   "cell_type": "code",
   "execution_count": 61,
   "metadata": {},
   "outputs": [
    {
     "data": {
      "text/plain": [
       "{'Adi': 'Hasan',\n",
       " 'Soyadi': 'Yüzler',\n",
       " 'Notlar': (70, 80, 90),\n",
       " 'Sayilar': {1, 2, 3},\n",
       " 123: 'asd'}"
      ]
     },
     "execution_count": 61,
     "metadata": {},
     "output_type": "execute_result"
    }
   ],
   "source": [
    "# dictten coklu veri silelim. Sinifi ve Dersler alanlarını siliniz. for\n",
    "\n",
    "info = {\"Adi\" : \"Hasan\",  \n",
    "        \"Soyadi\" : \"Yüzler\",\n",
    "        \"Sinifi\" : \"8-B\",\n",
    "        \"Dersler\" : [\"Matematik\", \"İngilizce\",\"Tarih\"],\n",
    "        \"Notlar\" : (70, 80, 90),\n",
    "        \"Sayilar\" : {1,2,3},\n",
    "        123 : \"asd\"}\n",
    "\n",
    "\n",
    "\n",
    "# -----\n",
    "s_keys = [\"Sinifi\",\"Dersler\"]\n",
    "for i in s_keys :\n",
    "    info.pop(i)\n",
    "\n",
    "info"
   ]
  },
  {
   "cell_type": "code",
   "execution_count": 63,
   "metadata": {},
   "outputs": [
    {
     "data": {
      "text/plain": [
       "{'Sinifi': '8-B', 'Dersler': ['Matematik', 'İngilizce', 'Tarih']}"
      ]
     },
     "execution_count": 63,
     "metadata": {},
     "output_type": "execute_result"
    }
   ],
   "source": [
    "# Sinifi ve Dersler alanlarını ayirip yeni bir dicte atayalim ve yazdiralim. \n",
    "\n",
    "info = {\"Adi\" : \"Hasan\",  \n",
    "        \"Soyadi\" : \"Yüzler\",\n",
    "        \"Sinifi\" : \"8-B\",\n",
    "        \"Dersler\" : [\"Matematik\", \"İngilizce\",\"Tarih\"],\n",
    "        \"Notlar\" : (70, 80, 90),\n",
    "        \"Sayilar\" : {1,2,3},\n",
    "        123 : \"asd\"}\n",
    "\n",
    "\n",
    "keys = [\"Sinifi\" , \"Dersler\"]\n",
    "new_dict={i : info[i] for i in keys}\n",
    "new_dict\n"
   ]
  },
  {
   "cell_type": "code",
   "execution_count": 65,
   "metadata": {},
   "outputs": [
    {
     "name": "stdout",
     "output_type": "stream",
     "text": [
      "Evet aradiğiniz 8-B var\n"
     ]
    }
   ],
   "source": [
    "# Dicte istenen değer varmi kontrol eden bir prg yaziniz\n",
    "info = {\"Adi\" : \"Hasan\",  \n",
    "        \"Soyadi\" : \"Yüzler\",\n",
    "        \"Sinifi\" : \"8-B\",\n",
    "        \"Dersler\" : [\"Matematik\", \"İngilizce\",\"Tarih\"],\n",
    "        \"Notlar\" : (70, 80, 90),\n",
    "        \"Sayilar\" : {1,2,3},\n",
    "        123 : \"asd\"}\n",
    "\n",
    "a_deger=input(\"Lutfen aranacak degeri giriniz\")\n",
    "if a_deger in info.values() :\n",
    "    print(f\"Evet aradiğiniz {a_deger} var\")\n",
    "else :\n",
    "    print(f\"Hayir aradiğiniz {a_deger} yok\")    \n"
   ]
  },
  {
   "cell_type": "code",
   "execution_count": 66,
   "metadata": {},
   "outputs": [
    {
     "data": {
      "text/plain": [
       "'fizik'"
      ]
     },
     "execution_count": 66,
     "metadata": {},
     "output_type": "execute_result"
    }
   ],
   "source": [
    "# Dictten en küçük değere sahip keyi bulunuz\n",
    "\n",
    "notlar={ \"fizik\" : 70,\n",
    "         \"matematik\" : 80,\n",
    "         \"tarih\" : 100 }\n",
    "\n",
    "min(notlar,key=notlar.get)\n",
    "\n"
   ]
  }
 ],
 "metadata": {
  "kernelspec": {
   "display_name": "Python 3",
   "language": "python",
   "name": "python3"
  },
  "language_info": {
   "codemirror_mode": {
    "name": "ipython",
    "version": 3
   },
   "file_extension": ".py",
   "mimetype": "text/x-python",
   "name": "python",
   "nbconvert_exporter": "python",
   "pygments_lexer": "ipython3",
   "version": "3.11.2"
  },
  "orig_nbformat": 4
 },
 "nbformat": 4,
 "nbformat_minor": 2
}
