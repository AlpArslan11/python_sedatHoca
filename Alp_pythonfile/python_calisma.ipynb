{
 "cells": [
  {
   "attachments": {},
   "cell_type": "markdown",
   "metadata": {},
   "source": [
    "#Lambda Function\n"
   ]
  },
  {
   "cell_type": "code",
   "execution_count": 3,
   "metadata": {},
   "outputs": [
    {
     "name": "stdout",
     "output_type": "stream",
     "text": [
      "25\n"
     ]
    }
   ],
   "source": [
    "kare_al = lambda x : x*x #  x--> fonsiyonun ald. parametre : x *x --> return edeceği\n",
    "# kare_al(5) --> cikti vermez\n",
    "print(kare_al(5))"
   ]
  },
  {
   "cell_type": "code",
   "execution_count": 2,
   "metadata": {},
   "outputs": [
    {
     "name": "stdout",
     "output_type": "stream",
     "text": [
      "125\n"
     ]
    }
   ],
   "source": [
    "kup_al = lambda x : x**3\n",
    "print(kup_al(5))"
   ]
  },
  {
   "cell_type": "code",
   "execution_count": 4,
   "metadata": {},
   "outputs": [
    {
     "name": "stdout",
     "output_type": "stream",
     "text": [
      "13\n"
     ]
    }
   ],
   "source": [
    "toplam = lambda x,y : x +y  # 2 parametre de alabilir\n",
    "print(toplam(5,8))"
   ]
  },
  {
   "attachments": {},
   "cell_type": "markdown",
   "metadata": {},
   "source": [
    "#### lambda icine belirsiz sayida parametre girmek"
   ]
  },
  {
   "cell_type": "code",
   "execution_count": 8,
   "metadata": {},
   "outputs": [
    {
     "name": "stdout",
     "output_type": "stream",
     "text": [
      "23.1\n"
     ]
    }
   ],
   "source": [
    "# icine belirsiz sayida parametre girmek\n",
    "genel_toplam = lambda *args : sum(args)\n",
    "print(genel_toplam(3,5,3,7,5.1))"
   ]
  },
  {
   "cell_type": "code",
   "execution_count": 10,
   "metadata": {},
   "outputs": [
    {
     "name": "stdout",
     "output_type": "stream",
     "text": [
      "21\n"
     ]
    }
   ],
   "source": [
    "# lambda icinde fonksiyona deger atamak\n",
    "print((lambda x,y,z : x * y + z)(3,5,6))"
   ]
  },
  {
   "attachments": {},
   "cell_type": "markdown",
   "metadata": {},
   "source": [
    "# lambda kullnrk tuple veya dict'ten indexe gore siralama"
   ]
  },
  {
   "cell_type": "code",
   "execution_count": 15,
   "metadata": {},
   "outputs": [
    {
     "name": "stdout",
     "output_type": "stream",
     "text": [
      "[('Kağan', 9), ('Hale', 9), ('Kad', 36), ('Alparslan', 37)]\n"
     ]
    }
   ],
   "source": [
    "#tuple icinde yaşlara gore lambda ile siralama\n",
    "liste =[(\"Alparslan\",37),(\"Kağan\", 9),(\"Kad\",36),(\"Hale\",9)]\n",
    "liste.sort(key=lambda x : x[1])\n",
    "print(liste)"
   ]
  },
  {
   "cell_type": "code",
   "execution_count": 21,
   "metadata": {},
   "outputs": [
    {
     "name": "stdout",
     "output_type": "stream",
     "text": [
      "[{'Ad': 'Zeki', 'Soyad': 'Asl', 'yas': 55}, {'Ad': 'Ahmet', 'Soyad': 'Caliskan', 'yas': 25}, {'Ad': 'Dudu', 'Soyad': 'Dal', 'yas': 28}]\n"
     ]
    }
   ],
   "source": [
    "#dic içinde soyada göre lambda ile siralama\n",
    "liste2 = [{\"Ad\" : \"Ahmet\", \"Soyad\" : \"Caliskan\", \"yas\" :25},\n",
    "          {\"Ad\" : \"Dudu\", \"Soyad\" : \"Dal\", \"yas\" :28},\n",
    "          {\"Ad\" : \"Zeki\", \"Soyad\" : \"Asl\", \"yas\" :55}]\n",
    "liste2.sort(key=lambda x : x[\"Soyad\"])\n",
    "print(liste2)"
   ]
  },
  {
   "attachments": {},
   "cell_type": "markdown",
   "metadata": {},
   "source": [
    "# lambda ile stringi tersten yazma"
   ]
  },
  {
   "cell_type": "code",
   "execution_count": 25,
   "metadata": {},
   "outputs": [
    {
     "data": {
      "text/plain": [
       "'orphcet'"
      ]
     },
     "execution_count": 25,
     "metadata": {},
     "output_type": "execute_result"
    }
   ],
   "source": [
    "isim = \"techpro\"\n",
    "(lambda str : str[::-1])(\"techpro\")"
   ]
  },
  {
   "attachments": {},
   "cell_type": "markdown",
   "metadata": {},
   "source": [
    "# palindrom kelime lambda"
   ]
  },
  {
   "cell_type": "code",
   "execution_count": null,
   "metadata": {},
   "outputs": [],
   "source": [
    "# kelimenin palindrome mu degilmi oldugunu kontrol etme. tersten ve duz yazilisi ayni\n",
    "\n",
    "string = input(\"Lutfen kelime girin\")\n",
    "if (lambda str : str[::-1])(string) == string :\n",
    "    print(f\"girdiginiz -{string}- kelime bir palindrome kelimedir\")\n",
    "else : \n",
    "    print(f\"girdiginiz -{string}- kelime bir palindrome degildir\")"
   ]
  },
  {
   "attachments": {},
   "cell_type": "markdown",
   "metadata": {},
   "source": [
    "# map() function"
   ]
  },
  {
   "cell_type": "code",
   "execution_count": 34,
   "metadata": {},
   "outputs": [
    {
     "data": {
      "text/plain": [
       "[1, 4, 9, 16, 25, 36, 49]"
      ]
     },
     "execution_count": 34,
     "metadata": {},
     "output_type": "execute_result"
    }
   ],
   "source": [
    "# bir listedeki elemanlara fonksiyona uygular ve bir map objesi doner. donen objeyi list, tuple, set gibi \n",
    "# data turleri ile sarariz\n",
    "# map()e 1den fazla list gonderebiliriz.Ancak function'da o kadar parametre almali\n",
    "\n",
    "def kare_al(x): \n",
    "    return x*x\n",
    "\n",
    "\n",
    "liste= [1,2,3,4,5,6,7]\n",
    "list(map(kare_al,liste)) # bir fonk, liste aldi içine"
   ]
  },
  {
   "cell_type": "code",
   "execution_count": 36,
   "metadata": {},
   "outputs": [
    {
     "name": "stdout",
     "output_type": "stream",
     "text": [
      "[1, 4, 9, 16, 25, 36, 49]\n"
     ]
    }
   ],
   "source": [
    "liste= [1,2,3,4,5,6,7]\n",
    "liste = list(map(lambda x : x*x, liste)) #--> lambda x : x*x bu ifade function oldu\n",
    "print(liste)"
   ]
  },
  {
   "cell_type": "code",
   "execution_count": 39,
   "metadata": {},
   "outputs": [
    {
     "data": {
      "text/plain": [
       "[15, 17]"
      ]
     },
     "execution_count": 39,
     "metadata": {},
     "output_type": "execute_result"
    }
   ],
   "source": [
    "liste1 = [1,2,3,4]\n",
    "liste2 = [5,6,7,8]\n",
    "liste3 = [9,9]\n",
    "\n",
    "list(map(lambda x,y,z : x+y+z , liste1, liste2, liste3)) #--> yaptigi islem liste1[0]+liste2[0]+liste3[0]\n",
    "\n",
    "# burda liste3, 2 elemanlı olduğu için toplama yaparken 2 elemanli liste gore islem yapti.\n"
   ]
  },
  {
   "cell_type": "code",
   "execution_count": 44,
   "metadata": {},
   "outputs": [
    {
     "name": "stdout",
     "output_type": "stream",
     "text": [
      "[['ayakkabi', 135.0], ['pantolan', 108.0], ['gomlek', 90.0], ['ceket', 180.0]]\n"
     ]
    }
   ],
   "source": [
    "#map() ile indirim yap\n",
    "urunler =[[\"ayakkabi\",150],[\"pantolan\", 120],[\"gomlek\",100],[\"ceket\",200]]\n",
    "\n",
    "def indirim_yap(x) :\n",
    "    urun,fiyat = x[0],x[1]\n",
    "    fiyat = fiyat*(9/10)\n",
    "    return [urun,fiyat]\n",
    "\n",
    "sonuc= list(map(indirim_yap,urunler))\n",
    "print(sonuc)\n"
   ]
  },
  {
   "cell_type": "code",
   "execution_count": 46,
   "metadata": {},
   "outputs": [
    {
     "name": "stdout",
     "output_type": "stream",
     "text": [
      "['ahmet', 'ayşe', 'onur', 'hüseyin']\n"
     ]
    }
   ],
   "source": [
    "isimler = [\"AhMeT\",\"aYşE\",\"oNur\",\"HÜSeyiN\"]\n",
    "\n",
    "isimler2 = list(map(lambda x :x.lower(),isimler))\n",
    "print(isimler2)\n"
   ]
  },
  {
   "attachments": {},
   "cell_type": "markdown",
   "metadata": {},
   "source": [
    "# recursive function"
   ]
  },
  {
   "cell_type": "code",
   "execution_count": null,
   "metadata": {},
   "outputs": [],
   "source": [
    "# function'in kendini icinde yeniden kendisini çağırmasi\n",
    "# fuction'in sonsuz donguye girmesini engellemek için bitiş şarti olmali\n"
   ]
  },
  {
   "cell_type": "code",
   "execution_count": 60,
   "metadata": {},
   "outputs": [
    {
     "name": "stdout",
     "output_type": "stream",
     "text": [
      "15\n"
     ]
    }
   ],
   "source": [
    "def topla(liste):\n",
    "    if (len(liste)) == 0 :  # bitiş koşulu oldu\n",
    "        return 0\n",
    "    else :\n",
    "        return liste[0] + topla(liste[1:]) # function tekrar cağirdigimiz yer\n",
    "\n",
    "#---------\n",
    "print(topla([1,2,3,4,5]))    "
   ]
  }
 ],
 "metadata": {
  "kernelspec": {
   "display_name": "Python 3",
   "language": "python",
   "name": "python3"
  },
  "language_info": {
   "codemirror_mode": {
    "name": "ipython",
    "version": 3
   },
   "file_extension": ".py",
   "mimetype": "text/x-python",
   "name": "python",
   "nbconvert_exporter": "python",
   "pygments_lexer": "ipython3",
   "version": "3.11.2"
  },
  "orig_nbformat": 4
 },
 "nbformat": 4,
 "nbformat_minor": 2
}
