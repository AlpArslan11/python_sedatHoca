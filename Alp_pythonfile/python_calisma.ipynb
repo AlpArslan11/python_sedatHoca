{
 "cells": [
  {
   "attachments": {},
   "cell_type": "markdown",
   "metadata": {},
   "source": [
    "# Lambda Function\n"
   ]
  },
  {
   "cell_type": "code",
   "execution_count": 3,
   "metadata": {},
   "outputs": [
    {
     "name": "stdout",
     "output_type": "stream",
     "text": [
      "25\n"
     ]
    }
   ],
   "source": [
    "kare_al = lambda x : x*x #  x--> fonsiyonun ald. parametre : x *x --> return edeceği\n",
    "# kare_al(5) --> cikti vermez\n",
    "print(kare_al(5))"
   ]
  },
  {
   "cell_type": "code",
   "execution_count": 2,
   "metadata": {},
   "outputs": [
    {
     "name": "stdout",
     "output_type": "stream",
     "text": [
      "125\n"
     ]
    }
   ],
   "source": [
    "kup_al = lambda x : x**3\n",
    "print(kup_al(5))"
   ]
  },
  {
   "cell_type": "code",
   "execution_count": 4,
   "metadata": {},
   "outputs": [
    {
     "name": "stdout",
     "output_type": "stream",
     "text": [
      "13\n"
     ]
    }
   ],
   "source": [
    "toplam = lambda x,y : x +y  # 2 parametre de alabilir\n",
    "print(toplam(5,8))"
   ]
  },
  {
   "attachments": {},
   "cell_type": "markdown",
   "metadata": {},
   "source": [
    "#### lambda icine belirsiz sayida parametre girmek"
   ]
  },
  {
   "cell_type": "code",
   "execution_count": 8,
   "metadata": {},
   "outputs": [
    {
     "name": "stdout",
     "output_type": "stream",
     "text": [
      "23.1\n"
     ]
    }
   ],
   "source": [
    "# icine belirsiz sayida parametre girmek\n",
    "genel_toplam = lambda *args : sum(args)\n",
    "print(genel_toplam(3,5,3,7,5.1))"
   ]
  },
  {
   "cell_type": "code",
   "execution_count": 10,
   "metadata": {},
   "outputs": [
    {
     "name": "stdout",
     "output_type": "stream",
     "text": [
      "21\n"
     ]
    }
   ],
   "source": [
    "# lambda icinde fonksiyona deger atamak\n",
    "print((lambda x,y,z : x * y + z)(3,5,6))"
   ]
  },
  {
   "attachments": {},
   "cell_type": "markdown",
   "metadata": {},
   "source": [
    "# lambda kullnrk tuple veya dict'ten indexe gore siralama"
   ]
  },
  {
   "cell_type": "code",
   "execution_count": 15,
   "metadata": {},
   "outputs": [
    {
     "name": "stdout",
     "output_type": "stream",
     "text": [
      "[('Kağan', 9), ('Hale', 9), ('Kad', 36), ('Alparslan', 37)]\n"
     ]
    }
   ],
   "source": [
    "#tuple icinde yaşlara gore lambda ile siralama\n",
    "liste =[(\"Alparslan\",37),(\"Kağan\", 9),(\"Kad\",36),(\"Hale\",9)]\n",
    "liste.sort(key=lambda x : x[1])\n",
    "print(liste)"
   ]
  },
  {
   "cell_type": "code",
   "execution_count": 21,
   "metadata": {},
   "outputs": [
    {
     "name": "stdout",
     "output_type": "stream",
     "text": [
      "[{'Ad': 'Zeki', 'Soyad': 'Asl', 'yas': 55}, {'Ad': 'Ahmet', 'Soyad': 'Caliskan', 'yas': 25}, {'Ad': 'Dudu', 'Soyad': 'Dal', 'yas': 28}]\n"
     ]
    }
   ],
   "source": [
    "#dic içinde soyada göre lambda ile siralama\n",
    "liste2 = [{\"Ad\" : \"Ahmet\", \"Soyad\" : \"Caliskan\", \"yas\" :25},\n",
    "          {\"Ad\" : \"Dudu\", \"Soyad\" : \"Dal\", \"yas\" :28},\n",
    "          {\"Ad\" : \"Zeki\", \"Soyad\" : \"Asl\", \"yas\" :55}]\n",
    "liste2.sort(key=lambda x : x[\"Soyad\"])\n",
    "print(liste2)"
   ]
  },
  {
   "attachments": {},
   "cell_type": "markdown",
   "metadata": {},
   "source": [
    "# lambda ile stringi tersten yazma"
   ]
  },
  {
   "cell_type": "code",
   "execution_count": 25,
   "metadata": {},
   "outputs": [
    {
     "data": {
      "text/plain": [
       "'orphcet'"
      ]
     },
     "execution_count": 25,
     "metadata": {},
     "output_type": "execute_result"
    }
   ],
   "source": [
    "isim = \"techpro\"\n",
    "(lambda str : str[::-1])(\"techpro\")"
   ]
  },
  {
   "attachments": {},
   "cell_type": "markdown",
   "metadata": {},
   "source": [
    "# palindrom kelime lambda"
   ]
  },
  {
   "cell_type": "code",
   "execution_count": null,
   "metadata": {},
   "outputs": [],
   "source": [
    "# kelimenin palindrome mu degilmi oldugunu kontrol etme. tersten ve duz yazilisi ayni\n",
    "\n",
    "string = input(\"Lutfen kelime girin\")\n",
    "if (lambda str : str[::-1])(string) == string :\n",
    "    print(f\"girdiginiz -{string}- kelime bir palindrome kelimedir\")\n",
    "else : \n",
    "    print(f\"girdiginiz -{string}- kelime bir palindrome degildir\")"
   ]
  },
  {
   "attachments": {},
   "cell_type": "markdown",
   "metadata": {},
   "source": [
    "# map() function"
   ]
  },
  {
   "cell_type": "code",
   "execution_count": 34,
   "metadata": {},
   "outputs": [
    {
     "data": {
      "text/plain": [
       "[1, 4, 9, 16, 25, 36, 49]"
      ]
     },
     "execution_count": 34,
     "metadata": {},
     "output_type": "execute_result"
    }
   ],
   "source": [
    "# bir listedeki elemanlara fonksiyona uygular ve bir map objesi doner. donen objeyi list, tuple, set gibi \n",
    "# data turleri ile sarariz\n",
    "# map()e 1den fazla list gonderebiliriz.Ancak function'da o kadar parametre almali\n",
    "\n",
    "def kare_al(x): \n",
    "    return x*x\n",
    "\n",
    "\n",
    "liste= [1,2,3,4,5,6,7]\n",
    "list(map(kare_al,liste)) # bir fonk, liste aldi içine"
   ]
  },
  {
   "cell_type": "code",
   "execution_count": 36,
   "metadata": {},
   "outputs": [
    {
     "name": "stdout",
     "output_type": "stream",
     "text": [
      "[1, 4, 9, 16, 25, 36, 49]\n"
     ]
    }
   ],
   "source": [
    "liste= [1,2,3,4,5,6,7]\n",
    "liste = list(map(lambda x : x*x, liste)) #--> lambda x : x*x bu ifade function oldu\n",
    "print(liste)"
   ]
  },
  {
   "cell_type": "code",
   "execution_count": 39,
   "metadata": {},
   "outputs": [
    {
     "data": {
      "text/plain": [
       "[15, 17]"
      ]
     },
     "execution_count": 39,
     "metadata": {},
     "output_type": "execute_result"
    }
   ],
   "source": [
    "liste1 = [1,2,3,4]\n",
    "liste2 = [5,6,7,8]\n",
    "liste3 = [9,9]\n",
    "\n",
    "list(map(lambda x,y,z : x+y+z , liste1, liste2, liste3)) #--> yaptigi islem liste1[0]+liste2[0]+liste3[0]\n",
    "\n",
    "# burda liste3, 2 elemanlı olduğu için toplama yaparken 2 elemanli liste gore islem yapti.\n"
   ]
  },
  {
   "cell_type": "code",
   "execution_count": 44,
   "metadata": {},
   "outputs": [
    {
     "name": "stdout",
     "output_type": "stream",
     "text": [
      "[['ayakkabi', 135.0], ['pantolan', 108.0], ['gomlek', 90.0], ['ceket', 180.0]]\n"
     ]
    }
   ],
   "source": [
    "#map() ile indirim yap\n",
    "urunler =[[\"ayakkabi\",150],[\"pantolan\", 120],[\"gomlek\",100],[\"ceket\",200]]\n",
    "\n",
    "def indirim_yap(x) :\n",
    "    urun,fiyat = x[0],x[1]\n",
    "    fiyat = fiyat*(9/10)\n",
    "    return [urun,fiyat]\n",
    "\n",
    "sonuc= list(map(indirim_yap,urunler))\n",
    "print(sonuc)\n"
   ]
  },
  {
   "cell_type": "code",
   "execution_count": 46,
   "metadata": {},
   "outputs": [
    {
     "name": "stdout",
     "output_type": "stream",
     "text": [
      "['ahmet', 'ayşe', 'onur', 'hüseyin']\n"
     ]
    }
   ],
   "source": [
    "isimler = [\"AhMeT\",\"aYşE\",\"oNur\",\"HÜSeyiN\"]\n",
    "\n",
    "isimler2 = list(map(lambda x :x.lower(),isimler))\n",
    "print(isimler2)\n"
   ]
  },
  {
   "attachments": {},
   "cell_type": "markdown",
   "metadata": {},
   "source": [
    "# recursive function"
   ]
  },
  {
   "cell_type": "code",
   "execution_count": null,
   "metadata": {},
   "outputs": [],
   "source": [
    "# function'in kendini icinde yeniden kendisini çağırmasi\n",
    "# fuction'in sonsuz donguye girmesini engellemek için bitiş şarti olmali\n"
   ]
  },
  {
   "cell_type": "code",
   "execution_count": 60,
   "metadata": {},
   "outputs": [
    {
     "name": "stdout",
     "output_type": "stream",
     "text": [
      "15\n"
     ]
    }
   ],
   "source": [
    "def topla(liste):\n",
    "    if (len(liste)) == 0 :  # bitiş koşulu oldu\n",
    "        return 0\n",
    "    else :\n",
    "        return liste[0] + topla(liste[1:]) # function tekrar cağirdigimiz yer\n",
    "\n",
    "#---------\n",
    "print(topla([1,2,3,4,5]))    "
   ]
  },
  {
   "attachments": {},
   "cell_type": "markdown",
   "metadata": {},
   "source": [
    "# try - except block -> try-except-else-finally"
   ]
  },
  {
   "cell_type": "code",
   "execution_count": 11,
   "metadata": {},
   "outputs": [
    {
     "name": "stdout",
     "output_type": "stream",
     "text": [
      "hata var hata vaar\n",
      "5--8--0.625\n"
     ]
    }
   ],
   "source": [
    "# except Exception :    # ---> EN GENEL HATA BLOGU BUDUR. BU BLOK DİGERLERİ CALİSMAZ İSE CALİSİR. GENEL HATA BASLİĞİ\n",
    "  #  print(\"Bilinmeyen bir hata oluştu\")   # --> BU BLOGU BASA YAZARSAK DAHA SPESİFİK OLAN DİĞER HATA BLOKLARİ CALİSMAZ.\n",
    "                                            # O YUZDEN SONA YAZMAK DAHA DOGRU \n",
    "\n",
    "# HATA KAYNAGI BELİRSİZ ISE SONA excep Exceotion kullanılır\n",
    "# else : blogu --> try :  blogu içindeki kodlarda hata çıkmazsa else blogu calisir. yani kod istendiği gibi çalışıyorsa else calisir\n",
    "#  finally blogu --> her sekilde calisir. hata olsa da olmasa da.\n",
    "\n",
    "# try kodlarin old blok.\n",
    "# except blogu --> try icinde hata ile karsilasirsa calisir. Eger hatayi siniflandiramiyorsak except Exception calisir\n",
    "# try blogunda hata yoksa --> else blok calisir\n",
    "# finally : -- > her sekilde calisir\n",
    "\n",
    "#---> try blogu içinde, bilinçli olarakda hata firlatmasini isteyebilriz.\n",
    "### bu gibi durumlarda try içinde ornegin \n",
    "# if == 0 :\n",
    "#     raise ZeroDivisionError -- > gibi bir hata blogu konabilir.\n",
    "\n",
    "\n",
    "\n",
    "try:\n",
    "    a = 5           # Try : --> try içi hatanın olmasi muhtemel kodlarin eklendiği yer\n",
    "    b= 8\n",
    "    c= a / b\n",
    "    d = x  # --> HATA\n",
    "except : # --> Buraya except Exception :  yazabilirsiniz\n",
    "    print(\"hata var hata vaar\")    # hata ile karsılasildiginda calisacak kodların yazılacağı yer\n",
    "\n",
    "print(a,b,c, sep = \"--\")"
   ]
  },
  {
   "cell_type": "code",
   "execution_count": 10,
   "metadata": {},
   "outputs": [
    {
     "name": "stdout",
     "output_type": "stream",
     "text": [
      "bölen 0 olamaz\n"
     ]
    }
   ],
   "source": [
    "# Eğer farkli hatalara göre farkli msjlar vermesini istiyorsak bunu uygulayabiliriz.\n",
    "\n",
    "try:\n",
    "    a = 5           # Try : --> try içi hatanın olmasi muhtemel kodlarin eklendiği yer\n",
    "    b= 0 #--> b=0 --> HATA\n",
    "    c= a / b\n",
    "    # d = x  # --> HATA . name error\n",
    "    isim = \"Ali\"\n",
    "    son_harf = isim[10] # --> index out of range hatasi\n",
    "\n",
    "except  ZeroDivisionError: # -->Eğer 0'a bölünme hatasi alirsak\n",
    "    print(\"bölen 0 olamaz\")    \n",
    "\n",
    "except NameError : # eğer name error olursa\n",
    "    print(\"Bu değişken daha önce tanımlanmamış\")             # TRY BLOGUNDA HATA BULURSA ORDA EXCEPT BLOGUNA ATLAR. \n",
    "                                                            # İLGİLİ HATA MSJINI VERİR\n",
    "except IndexError : # eger index error verirse\n",
    "    print(\"son harf bulunamadi. boyle bir index bulunmuyor\")\n",
    "\n",
    "except Exception :    # ---> EN GENEL HATA BLOGU BUDUR. BU BLOK DİGERLERİ CALİSMAZ İSE CALİSİR. GENEL HATA BASLİĞİ\n",
    "    print(\"Bilinmeyen bir hata oluştu\")   # --> BU BLOGU BASA YAZARSAK DAHA SPESİFİK OLAN DİĞER HATA BLOKLARİ CALİSMAZ.\n",
    "                                            # O YUZDEN SONA YAZMAK DAHA DOGRU \n",
    "\n",
    "else :\n",
    "    print(\"try blogu dogru sekilde calisti. Else blogu calisti\")                  \n",
    "\n",
    "finally : \n",
    "    print(\"finally blogu\")        # ne olursa olsun calisir. hata olması ya da olmaması farketmez                       "
   ]
  },
  {
   "cell_type": "code",
   "execution_count": 14,
   "metadata": {},
   "outputs": [
    {
     "name": "stdout",
     "output_type": "stream",
     "text": [
      "list index out of range\n",
      "finally blogu calisiyor her sekilde\n"
     ]
    }
   ],
   "source": [
    "# EGER BİZ ONEDEN TANIMLİ OLAN HATA YAZİSİNİN GORUNTULENMESİNİ İSTERSEK\n",
    "try:\n",
    "    a = 5           \n",
    "    b= 2 #--> b=0 --> HATA\n",
    "    c= a / b\n",
    "    # d = x  # --> HATA . name error\n",
    "    isim = \"Ali\"\n",
    "    son_harf = isim[2]\n",
    "    list_ = [1,2,3]\n",
    "    m = [list_[5]]\n",
    "except  ZeroDivisionError as e: # -->Eğer 0'a bölünme hatasi alirsak\n",
    "    print(e)    \n",
    "\n",
    "except NameError as e : # eğer name error olursa\n",
    "    print(e)             \n",
    "                                                           \n",
    "except IndexError as e :  # eger index error verirse\n",
    "    print(e) # --> string index out of range --> eger string ise hatasini yazar, list ise --> list index out of range\n",
    "\n",
    "except Exception as e :    # ---> EN GENEL HATA BLOGU BUDUR. BU BLOK DİGERLERİ CALİSMAZ İSE CALİSİR. GENEL HATA BASLİĞİ\n",
    "    print(e)   # --> BU BLOGU BASA YAZARSAK DAHA SPESİFİK OLAN DİĞER HATA BLOKLARİ CALİSMAZ.\n",
    "                                            # O YUZDEN SONA YAZMAK DAHA DOGRU \n",
    "  \n",
    "else :   # --> try blogunda hata yakalamazsa calisir\n",
    "    print(\"try blogu dogru sekilde calisti. Else blogu calisti\")                  \n",
    "\n",
    "finally : \n",
    "    print(\"finally blogu calisiyor her sekilde\")        # ne olursa olsun calisir. hata olması ya da olmaması farketmez "
   ]
  },
  {
   "attachments": {},
   "cell_type": "markdown",
   "metadata": {},
   "source": [
    "# try except - while ile kullanicidan veri alma"
   ]
  },
  {
   "cell_type": "code",
   "execution_count": 16,
   "metadata": {},
   "outputs": [
    {
     "name": "stdout",
     "output_type": "stream",
     "text": [
      "Girilen iki sayının bölümü: 0\n"
     ]
    }
   ],
   "source": [
    "\n",
    "while True:\n",
    "    x = (input(\"Bir sayı girin\")) \n",
    "    y = (input(\"Bir sayı girin\")) \n",
    "\n",
    "    try:\n",
    "        a = int(x) / int(y)\n",
    "        print(\"Girilen iki sayının bölümü:\", a)\n",
    "        break\n",
    "    except (ValueError,ZeroDivisionError):\n",
    "        print(\"Sayıları doğru girdiğinizden emin olun\")"
   ]
  },
  {
   "cell_type": "code",
   "execution_count": null,
   "metadata": {},
   "outputs": [],
   "source": []
  }
 ],
 "metadata": {
  "kernelspec": {
   "display_name": "Python 3",
   "language": "python",
   "name": "python3"
  },
  "language_info": {
   "codemirror_mode": {
    "name": "ipython",
    "version": 3
   },
   "file_extension": ".py",
   "mimetype": "text/x-python",
   "name": "python",
   "nbconvert_exporter": "python",
   "pygments_lexer": "ipython3",
   "version": "3.11.2"
  },
  "orig_nbformat": 4
 },
 "nbformat": 4,
 "nbformat_minor": 2
}
