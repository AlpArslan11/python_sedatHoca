{
 "cells": [
  {
   "attachments": {},
   "cell_type": "markdown",
   "metadata": {},
   "source": [
    "# Site linki --> https://www.algoritmaornekleri.com/python/python-calisma-sorulari-ve-cevaplari/"
   ]
  },
  {
   "attachments": {},
   "cell_type": "markdown",
   "metadata": {},
   "source": [
    "Örnek 5: Girilen Vize(%30) ve Final Notu(%70) Ortalaması Hesaplayan Python Örneği"
   ]
  },
  {
   "cell_type": "code",
   "execution_count": 3,
   "metadata": {},
   "outputs": [
    {
     "name": "stdout",
     "output_type": "stream",
     "text": [
      "80 vize notu ve 80 final notu ile ortalamanız : 88.0\n"
     ]
    }
   ],
   "source": [
    "vize = int(input(\"Vize notunuzu giriniz\"))\n",
    "final = int(input(\"Final notunu giriniz\"))\n",
    "\n",
    "ortalama = (vize*30/100) + (final*80/100)\n",
    "print(f\"{vize} vize notu ve {final} final notu ile ortalamanız : {ortalama}\")"
   ]
  },
  {
   "cell_type": "code",
   "execution_count": 1,
   "metadata": {},
   "outputs": [
    {
     "name": "stdout",
     "output_type": "stream",
     "text": [
      "Ortalama :80.0 \n"
     ]
    }
   ],
   "source": [
    "#yazilimkodlama.com\n",
    "vize = input('Vize Notunuz : ')\n",
    "final = input('Final Notunuz : ')\n",
    "ortalama=(float(vize)*0.3)+(float(final)*0.7)\n",
    "print(\"Ortalama :{0} \".format(ortalama))"
   ]
  },
  {
   "attachments": {},
   "cell_type": "markdown",
   "metadata": {},
   "source": [
    "Örnek 14: 1-100 Arası 3′ e ve 5′ e tam bölünen sayıları bulan Python Örneği"
   ]
  },
  {
   "cell_type": "code",
   "execution_count": 9,
   "metadata": {},
   "outputs": [
    {
     "name": "stdout",
     "output_type": "stream",
     "text": [
      "[15, 30, 45, 60, 75, 90]\n"
     ]
    }
   ],
   "source": [
    "liste=[]\n",
    "for i in range(1,101) :\n",
    "    if i %3 ==0 and i%5 ==0 :\n",
    "      liste.append(i)  \n",
    "print(liste)      "
   ]
  },
  {
   "cell_type": "code",
   "execution_count": 14,
   "metadata": {},
   "outputs": [
    {
     "name": "stdout",
     "output_type": "stream",
     "text": [
      "15,30,45,60,75,90,"
     ]
    }
   ],
   "source": [
    "for i in range(1,101):\n",
    "    if i%3==0 and i%5==0:\n",
    "        print(i,end=\",\")"
   ]
  },
  {
   "attachments": {},
   "cell_type": "markdown",
   "metadata": {},
   "source": [
    "Örnek 17: Girilen metnin harflerini alt alta yazdıran Python Örneği"
   ]
  },
  {
   "cell_type": "code",
   "execution_count": 1,
   "metadata": {},
   "outputs": [
    {
     "name": "stdout",
     "output_type": "stream",
     "text": [
      "a\n",
      "l\n",
      "i\n",
      " \n",
      "e\n",
      "v\n",
      "e\n",
      " \n",
      "e\n",
      "g\n",
      "i\n",
      "t\n",
      "t\n",
      "i\n"
     ]
    }
   ],
   "source": [
    "metin = input(\"cumlenizi yaziniz\")\n",
    "\n",
    "for i in metin :\n",
    "    print(i)"
   ]
  },
  {
   "cell_type": "code",
   "execution_count": 18,
   "metadata": {},
   "outputs": [
    {
     "name": "stdout",
     "output_type": "stream",
     "text": [
      "e\n",
      "l\n",
      "m\n",
      "a\n",
      " \n",
      "v\n",
      "e\n",
      " \n",
      "k\n",
      "a\n",
      "p\n",
      "r\n",
      "u\n",
      "z\n",
      "Adının harflerini listeledim.\n"
     ]
    }
   ],
   "source": [
    "#yazilimkodlama.com\n",
    "isim=input(\"Adınızı Girin \")\n",
    "sayac=0\n",
    "while sayac != len(isim):\n",
    "    print(isim[sayac])\n",
    "    sayac += 1\n",
    "else:\n",
    "    print(\"Adının harflerini listeledim.\")"
   ]
  },
  {
   "attachments": {},
   "cell_type": "markdown",
   "metadata": {},
   "source": [
    "Örnek 18: Kullanıcın girdiği iki sayı arasındaki sayıların toplamını gösteren Python Örneği."
   ]
  },
  {
   "cell_type": "code",
   "execution_count": 25,
   "metadata": {},
   "outputs": [
    {
     "name": "stdout",
     "output_type": "stream",
     "text": [
      "toplam =  9\n"
     ]
    }
   ],
   "source": [
    "sayi_1 = int(input(\"sayi 1 :\"))\n",
    "sayi_2 = int(input(\"sayi 2 :\"))\n",
    "toplam =0\n",
    "for i in range(sayi_1+1,sayi_2) :\n",
    "    toplam +=i\n",
    "\n",
    "print(\"toplam = \" , toplam)"
   ]
  },
  {
   "cell_type": "code",
   "execution_count": 26,
   "metadata": {},
   "outputs": [
    {
     "name": "stdout",
     "output_type": "stream",
     "text": [
      "1 ile 5 arasındaki sayıların toplamı : 9\n"
     ]
    }
   ],
   "source": [
    "#www.yazilimkodlama.com\n",
    "toplam=0;\n",
    "sayi1=input('1. Sayı: ')\n",
    "sayi2=input('2. Sayı: ')\n",
    "for i in range(int(sayi1)+1,int(sayi2)):\n",
    "      toplam+=i\n",
    "print(\"{0} ile {1} arasındaki sayıların toplamı : {2}\".format(sayi1,sayi2,toplam))"
   ]
  },
  {
   "attachments": {},
   "cell_type": "markdown",
   "metadata": {},
   "source": [
    "Örnek 20: 1 den kullanıcının girmiş olduğu sayıya kadar olan tek ve çift sayıların toplamını ayrı ayrı bulan ve sonucu ekranda gösteren Python Örneği\n"
   ]
  },
  {
   "cell_type": "code",
   "execution_count": 19,
   "metadata": {},
   "outputs": [
    {
     "name": "stdout",
     "output_type": "stream",
     "text": [
      "girdiğiniz sayiya kadar olan sayilar arasinda tek sayilarin top : 9 'dur. \n",
      "Cift sayilarin top : 6 'dir\n"
     ]
    }
   ],
   "source": [
    "sayi = int(input(\"lutfen bir sayi giriniz\"))\n",
    "\n",
    "cift_toplam=0\n",
    "tek_toplam=0\n",
    "for i in range(1,sayi):\n",
    "    if i %2 ==0 :\n",
    "        cift_toplam += i\n",
    "    else :\n",
    "        tek_toplam +=i    \n",
    "\n",
    "print(f\"girdiğiniz sayiya kadar olan sayilar arasinda tek sayilarin top : {tek_toplam} 'dur. \\nCift sayilarin top : {cift_toplam} 'dir\")        "
   ]
  },
  {
   "cell_type": "code",
   "execution_count": 4,
   "metadata": {},
   "outputs": [
    {
     "name": "stdout",
     "output_type": "stream",
     "text": [
      "Tek Sayıların Toplamı : 4\n",
      "Çift Sayıların Toplamı : 6\n"
     ]
    }
   ],
   "source": [
    "\n",
    "sayi = input('Sayıyı Girin : ')\n",
    "tekToplam=0\n",
    "ciftToplam=0\n",
    "for i in range(1,int(sayi)):\n",
    "      if(i%2==0):\n",
    "            ciftToplam+=i\n",
    "      else:\n",
    "            tekToplam+=i\n",
    "print(\"Tek Sayıların Toplamı : {0}\".format(tekToplam))\n",
    "print(\"Çift Sayıların Toplamı : {0}\".format(ciftToplam))"
   ]
  },
  {
   "attachments": {},
   "cell_type": "markdown",
   "metadata": {},
   "source": [
    "Örnek 21: Maaşı ve zam oranı girilen işçinin zamlı maaşını hesaplayarak ekranda gösteren Python örneği:"
   ]
  },
  {
   "cell_type": "code",
   "execution_count": 40,
   "metadata": {},
   "outputs": [
    {
     "name": "stdout",
     "output_type": "stream",
     "text": [
      "iscinin eski maasi 8000 \n",
      "Verilen zam orani - yüzde 15\n",
      "İscinin yeni maasi - 1200.0\n"
     ]
    }
   ],
   "source": [
    "i_maas = 8000\n",
    "zam_orani = 15\n",
    "\n",
    "yeni_maas = i_maas*zam_orani/100\n",
    "print(\"İscinin eski maasi {} \\nVerilen zam orani - yüzde {}\\nİscinin yeni maasi - {}\".format(i_maas,zam_orani,yeni_maas))"
   ]
  },
  {
   "attachments": {},
   "cell_type": "markdown",
   "metadata": {},
   "source": [
    "Örnek 23: Fonksiyon kullanarak genişliği ve yüksekliği girilen dikdörtgenin alanını hesaplayan Python örneği:\n"
   ]
  },
  {
   "cell_type": "code",
   "execution_count": 7,
   "metadata": {},
   "outputs": [
    {
     "name": "stdout",
     "output_type": "stream",
     "text": [
      "Genisliği 4 ve yüksekliği 5 olan \n",
      "Dikdörtgenin alani --> 20\n"
     ]
    }
   ],
   "source": [
    "def alan_hesapla() :\n",
    "        while True :\n",
    "                genislik = input(\"Dikdörtgenin genişliğini giriniz\")                   \n",
    "                if genislik.isnumeric() :\n",
    "                        genislik=int(genislik)\n",
    "                else :\n",
    "                        continue\n",
    "                \n",
    "                while True :\n",
    "                        yukseklik = input(\"Dikdörtgenin yüksekliğini giriniz\")\n",
    "                        if yukseklik.isnumeric() :    \n",
    "                                yukseklik=int(yukseklik)\n",
    "                                break\n",
    "                        else :\n",
    "                                continue\n",
    "                break        \n",
    "\n",
    "        return print(f\"Genisliği {genislik} ve yüksekliği {yukseklik} olan \\nDikdörtgenin alani --> {yukseklik * genislik}\")    \n",
    "          \n",
    "alan_hesapla()\n",
    "    "
   ]
  },
  {
   "cell_type": "code",
   "execution_count": 9,
   "metadata": {},
   "outputs": [
    {
     "data": {
      "text/plain": [
       "72.0"
      ]
     },
     "execution_count": 9,
     "metadata": {},
     "output_type": "execute_result"
    }
   ],
   "source": [
    "def alan(genislik, yukseklik) :\n",
    "    alan = float(genislik) * float(yukseklik)\n",
    "    return alan\n",
    "\n",
    "\n",
    "genislik = input(\"Dikdörtgenin genişliğini giriniz\")\n",
    "yukseklik = input(\"Dikdörtgenin yüksekliğini giriniz\")\n",
    "\n",
    "alan(genislik,yukseklik)"
   ]
  },
  {
   "attachments": {},
   "cell_type": "markdown",
   "metadata": {},
   "source": [
    "Örnek 26: Python ile bir liste içinde 5’in katları olan sayıları listeleme."
   ]
  },
  {
   "cell_type": "code",
   "execution_count": 10,
   "metadata": {},
   "outputs": [
    {
     "name": "stdout",
     "output_type": "stream",
     "text": [
      "verilen liste icinde [1, 15, 14, 56, 89, 80, 65] 5'e bolunebilen 3 sayi var. \n",
      "Bu sayilar [15, 80, 65]\n"
     ]
    }
   ],
   "source": [
    "list=[1,15,14,56,89,80,65]\n",
    "new_list =[]\n",
    "sayac = 0\n",
    "for i in list :\n",
    "    if i % 5 == 0 :\n",
    "        new_list.append(i)\n",
    "        sayac += 1\n",
    "\n",
    "print(\"verilen liste icinde {} 5'e bolunebilen {} sayi var. \\nBu sayilar {}\".format(list,sayac,new_list))        "
   ]
  },
  {
   "cell_type": "code",
   "execution_count": 11,
   "metadata": {},
   "outputs": [
    {
     "name": "stdout",
     "output_type": "stream",
     "text": [
      "15 : 5'in katıdır.\n",
      "85 : 5'in katıdır.\n",
      "65 : 5'in katıdır.\n",
      "30 : 5'in katıdır.\n",
      "10 : 5'in katıdır.\n",
      "20 : 5'in katıdır.\n",
      "5 : 5'in katıdır.\n",
      "Döngü Bitti\n",
      "5'in katı olan sayı adeti : 7\n"
     ]
    }
   ],
   "source": [
    "sayilar = [18,22,15,85,65,30,10,20,32,34,28,101,5,4,32]\n",
    "sayac=0 \n",
    "for sayi in sayilar:\n",
    "   if sayi%5 == 0:\n",
    "      print (str(sayi)+ (\" : 5'in katıdır.\"))\n",
    "      sayac=sayac+1\n",
    "else:\n",
    "   print ('Döngü Bitti')\n",
    "print(\"5'in katı olan sayı adeti : \"+str(sayac))"
   ]
  },
  {
   "attachments": {},
   "cell_type": "markdown",
   "metadata": {},
   "source": [
    "Örnek 27: Bir string içerisinde belirlenen bir karakterin olup olmadığını kontrol eden Python programı kodları. Kontrol etme işlemi fonksiyon içinde yapılmıştır."
   ]
  },
  {
   "cell_type": "code",
   "execution_count": 17,
   "metadata": {},
   "outputs": [
    {
     "name": "stdout",
     "output_type": "stream",
     "text": [
      "B i r   s t r i n g   i ç e r i s i n d e   b e l i r l e n e n   b i r   k a r a k t e r i n \n",
      "aranan z karakteri yok \n"
     ]
    }
   ],
   "source": [
    "str = \"Bir string içerisinde belirlenen bir karakterin\"\n",
    "a_karakter = \"z\"\n",
    "for i in str :\n",
    "    print(i,end = \" \")\n",
    "if a_karakter in str :\n",
    "        print(\"\\naranan {} karakteri var \".format(a_karakter))\n",
    "else :\n",
    "        print(\"\\naranan {} karakteri yok \".format(a_karakter))"
   ]
  },
  {
   "cell_type": "code",
   "execution_count": 25,
   "metadata": {},
   "outputs": [
    {
     "name": "stdout",
     "output_type": "stream",
     "text": [
      "aranan c karakteri yok \n"
     ]
    }
   ],
   "source": [
    "# Örnek 27: Bir string içerisinde belirlenen bir karakterin olup olmadığını kontrol eden Python programı kodları.  Kontrol etme işlemi fonksiyon içinde yapılmıştır.\n",
    "str = \"Bir string içerisinde belirlenen bir karakterin\"\n",
    "a_karakter = \"c\"\n",
    "print(\"aranan {} karakteri var \".format(a_karakter)) if a_karakter in str else print(\"aranan {} karakteri yok \".format(a_karakter))"
   ]
  },
  {
   "cell_type": "code",
   "execution_count": 26,
   "metadata": {},
   "outputs": [
    {
     "data": {
      "text/plain": [
       "['aranan c karakteri yok ']"
      ]
     },
     "execution_count": 26,
     "metadata": {},
     "output_type": "execute_result"
    }
   ],
   "source": [
    "str = \"Bir string içerisinde belirlenen bir karakterin\"\n",
    "a_karakter = \"c\"\n",
    "[\"aranan {} karakteri var \".format(a_karakter) if a_karakter in str else \"aranan {} karakteri yok \".format(a_karakter)]"
   ]
  },
  {
   "cell_type": "code",
   "execution_count": null,
   "metadata": {},
   "outputs": [],
   "source": [
    "def kontrol(str):\n",
    "  sayac = 0\n",
    "  for ch in str:\n",
    "    if ch == 'ğ':\n",
    "      sayac = sayac + 1\n",
    " \n",
    "  if sayac == 1:\n",
    "    return True\n",
    "  else:\n",
    "    return False\n",
    " \n",
    "metin=input('Metin : ')\n",
    "if(kontrol(metin)==True):\n",
    "      print('ğ karakteri metin içinde var')\n",
    "else:\n",
    "      print('ğ karakteri metin içinde yok')\n",
    " "
   ]
  },
  {
   "cell_type": "markdown",
   "metadata": {},
   "source": []
  }
 ],
 "metadata": {
  "kernelspec": {
   "display_name": "Python 3",
   "language": "python",
   "name": "python3"
  },
  "language_info": {
   "codemirror_mode": {
    "name": "ipython",
    "version": 3
   },
   "file_extension": ".py",
   "mimetype": "text/x-python",
   "name": "python",
   "nbconvert_exporter": "python",
   "pygments_lexer": "ipython3",
   "version": "3.11.2"
  },
  "orig_nbformat": 4
 },
 "nbformat": 4,
 "nbformat_minor": 2
}
