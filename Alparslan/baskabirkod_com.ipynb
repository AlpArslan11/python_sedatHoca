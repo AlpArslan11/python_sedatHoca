{
 "cells": [
  {
   "attachments": {},
   "cell_type": "markdown",
   "metadata": {},
   "source": [
    "https://baskabirkod.com/python-ornekleri/"
   ]
  },
  {
   "attachments": {},
   "cell_type": "markdown",
   "metadata": {},
   "source": [
    "2 Soru: İki vize ve bir final sınavına girilen üniversitede harf notuna vizeler %30 final ise %40 etkilidir. Bu üniversitenin harf ortalamasını hesaplayan kodu yazınız."
   ]
  },
  {
   "cell_type": "code",
   "execution_count": 29,
   "metadata": {},
   "outputs": [
    {
     "name": "stdout",
     "output_type": "stream",
     "text": [
      "ilk vize notunu tekrar giriniz\n",
      "Lutfen ILK VİZE notunuz 0 ile 100 arasinda girin notunuzu\n",
      "ikinci vize notunu tekrar giriniz\n",
      "Lutfen IKINCI VİZE notunuzu 0 ile 100 arasinda girin notunuzu\n",
      "Lutfen IKINCI VİZE notunuzu 0 ile 100 arasinda girin notunuzu\n",
      "FINAL notunu tekrar giriniz\n",
      "Lutfen FINAL notunuz 0 ile 100 arasinda girin notunuzu\n",
      "Notunuz 63.0 harf karsiligi - C -\n"
     ]
    }
   ],
   "source": [
    "# 2 Soru: İki vize ve bir final sınavına girilen üniversitede harf notuna vizeler %30 final ise %40 etkilidir. Bu üniversitenin harf ortalamasını hesaplayan kodu yazınız.\n",
    "\n",
    "while True :\n",
    "    vize_1 = input(\"ILK VİZE notunuzu giriniz\")\n",
    "    not_list=[]\n",
    "    if vize_1.isnumeric() :\n",
    "         if int(vize_1) <=100 and int(vize_1) >=0 :\n",
    "            not_list.append(int(vize_1)*30/100)\n",
    "         else :\n",
    "             print(\"Lutfen ILK VİZE notunuz 0 ile 100 arasinda girin notunuzu\")\n",
    "             continue   \n",
    "    else :\n",
    "        print(\"ilk vize notunu tekrar giriniz\") \n",
    "        continue   \n",
    "\n",
    "    while True :\n",
    "        vize_2 = input(\"IKINCI VİZE notunuzu giriniz\")\n",
    "        if vize_2.isnumeric() :\n",
    "            if int(vize_2) <=100 and int(vize_2) >=0 :\n",
    "                not_list.append(int(vize_2)*30/100)\n",
    "            else :\n",
    "             print(\"Lutfen IKINCI VİZE notunuzu 0 ile 100 arasinda girin notunuzu\")\n",
    "             continue    \n",
    "        else :\n",
    "            print(\"ikinci vize notunu tekrar giriniz\") \n",
    "            continue \n",
    "        while True :\n",
    "            final = input(\"FINAL notunuzu giriniz\")\n",
    "            if final.isnumeric() :\n",
    "                if int(final) <=100 and int(final) >=0 :\n",
    "                    not_list.append(int(final)*30/100)\n",
    "                    if sum(not_list) >=80 :\n",
    "                        print(f\"Notunuz {sum(not_list)} harf karsiligi - A -\")\n",
    "                    elif sum(not_list) >=70 :\n",
    "                        print(f\"Notunuz {sum(not_list)} harf karsiligi - B -\")  \n",
    "                    elif sum(not_list) >=50 :\n",
    "                        print(f\"Notunuz {sum(not_list)} harf karsiligi - C -\")\n",
    "                    elif sum(not_list) >=30 :\n",
    "                        print(f\"Notunuz {sum(not_list)} harf karsiligi - D -\")  \n",
    "                    elif sum(not_list) >=0 :\n",
    "                        print(f\"Notunuz {sum(not_list)} harf karsiligi - E - gozum gormesin seni -\")  \n",
    "                    else : \n",
    "                        print(\"Uzgunuz ya sizde bir hata var ya da hata ile karsilasildi\") \n",
    "                    break\n",
    "                else :\n",
    "                    print(\"Lutfen FINAL notunuz 0 ile 100 arasinda girin notunuzu\") \n",
    "                    continue           \n",
    "            else :\n",
    "                print(\"FINAL notunu tekrar giriniz\") \n",
    "                continue\n",
    "        break        \n",
    "    break\n",
    "\n"
   ]
  },
  {
   "cell_type": "code",
   "execution_count": 11,
   "metadata": {},
   "outputs": [
    {
     "name": "stdout",
     "output_type": "stream",
     "text": [
      "78.0\n",
      "CB\n"
     ]
    }
   ],
   "source": [
    "#Baska Bir Kod - Python Soru / Cevap \n",
    "vize1 = input(\"1. Vize:\") \n",
    "vize2 = input(\"2. Vize:\") \n",
    "Final = input(\"Final:\") \n",
    "sonuc = int(vize1)*(3/10) + int(vize2)*(3/10) + int(Final)*(4/10) \n",
    "print(sonuc)\n",
    "if(sonuc >=90): \n",
    "    print(\"AA\") \n",
    "elif(sonuc>=85): \n",
    "    print(\"BA\") \n",
    "elif(sonuc>=80): \n",
    "    print(\"BB\") \n",
    "elif(sonuc>=75): \n",
    "    print(\"CB\") \n",
    "elif(sonuc>=70): \n",
    "    print(\"CC\") \n",
    "elif(sonuc>=65): \n",
    "    print(\"DC\") \n",
    "elif(sonuc>=60): \n",
    "    print(\"DD\") \n",
    "elif(sonuc>=55): \n",
    "    print(\"FD\") \n",
    "elif(sonuc>=50): \n",
    "    print(\"FF\")"
   ]
  },
  {
   "attachments": {},
   "cell_type": "markdown",
   "metadata": {},
   "source": [
    "3 Soru: Bir sayının kendisi dışında bütün pozitif bölenlerinin toplamı kendisine eşit olan sayılara mükemmel sayı denir. Kullanıcıdan alınan sayının mükemmel sayı olup olmadığını kontrol eden kodu yazınız."
   ]
  },
  {
   "cell_type": "code",
   "execution_count": null,
   "metadata": {},
   "outputs": [],
   "source": []
  },
  {
   "attachments": {},
   "cell_type": "markdown",
   "metadata": {},
   "source": [
    "4 Soru: Kullanıcının girdiği sayının pozitif tam bölenlerini bulan kodu yazınız."
   ]
  },
  {
   "cell_type": "code",
   "execution_count": null,
   "metadata": {},
   "outputs": [],
   "source": []
  },
  {
   "attachments": {},
   "cell_type": "markdown",
   "metadata": {},
   "source": [
    "7 Soru: Beden kütle endeksi kilo/boy^2 formülü ile hesaplanarak bireyin kilolu normal zayıf veya obez sınıfına girdiği ile ilgili sonuç verir. Kütle Endeksi (KE) < 18.5 ise Zayıf , 18.5 < (KE) <=25 ise Normal , 25 < (KE) <= 30 ise Kilolu , (KE) > 25 ise birey obez sınıfına girmektedir. Kütle endeksi kodunu yazınız."
   ]
  },
  {
   "attachments": {},
   "cell_type": "markdown",
   "metadata": {},
   "source": [
    "8 Soru: Çarpım tablosunu ekrana yazan python kodunu yazınız.\n"
   ]
  },
  {
   "attachments": {},
   "cell_type": "markdown",
   "metadata": {},
   "source": [
    "9 Soru: Öğrencilerine 12 haneli öğrenci numarası veren üniversitenin verdiği numaranın ilk 4 hanesi giriş yılı 5. ve 6.  hanesi okuduğu fakültenin numarası 7. ve 8. hane bölüm numarası 9. hanesi öğrenim numarası 11. ve 12. hane ise öğrencinin üniversiteye giriş sırasıdır. 12 haneli öğrenci kodunu kullanıcıdan alarak anlamlı şekilde ayıran kodu yazınız."
   ]
  },
  {
   "attachments": {},
   "cell_type": "markdown",
   "metadata": {},
   "source": [
    "10 Soru: Kullanıcının girdiği üç kenar bilgisine göre üçgenin tipini belirleyen eğer girilen kenarları uzunlukları bir üçgen oluşturmuyorsa bunu bildiren kodu yazınız. ( mutlak değer içinde iki kenarın farkı alınır eğer fark diğer kenardan büyükse girilen değerler üçgen oluşturmaz. Bu işlem tüm kenarlar için yapılır."
   ]
  },
  {
   "attachments": {},
   "cell_type": "markdown",
   "metadata": {},
   "source": [
    "11 Soru: Kullanıcıdan alınan dört kenarın bilgisine göre şeklin kare,dikdörtgen veya diğer dörtgenlerden olduğunu belirten kodu yazınız."
   ]
  },
  {
   "attachments": {},
   "cell_type": "markdown",
   "metadata": {},
   "source": [
    "12 Soru: Kullanıcıdan ismini alarak harflere ayıran ve bu harflerle başlayan şehirleri sırasıyla ekrana yazdıran kodu yazınız. ( Ğ , Ü gibi harfler için farklı bir bilgi yazdırabilirsiniz. )\n",
    "\n",
    "sehirler = {\"A\":\"Antalya\",\"B\":\"Bilecik\",\"Cankırı\":\"\",\"Ç\":\"Çanakkale\",\"D\":\"Diyarbakır\",\"E\":\"Erzurum\",\"F\":\"Fetiye\",\n",
    "                \"G\":\"Giresun\",\"Ğ\":\"Gümüşhane\",\"H\":\"Hatay\",\"I\":\"Isparta\",\"İ\":\"İzmir\",\"L\":\"Lüleburgaz\",\n",
    "                \"K\":\"Kütahya\",\"M\":\"Mersin\",\"N\":\"Niğde\",\"O\":\"Osmaniye\",\"Ö\":\"Ordu\",\"P\":\"Pamukkale\",\"R\":\"Rize\",\n",
    "                \"S\":\"Samsun\",\"Ş\":\"Şırnak\",\"T\":\"Tokat\",\"U\":\"Uşak\",\"Ü\":\"Uşak\",\"V\":\"Van\",\n",
    "                \"Y\":\"Yozgat\",\"Z\":\"Zonguldak\"}"
   ]
  },
  {
   "attachments": {},
   "cell_type": "markdown",
   "metadata": {},
   "source": [
    "13 Soru: İsim ve Soy isimleri atadığınız listeden rastgele isim ve soy isimler seçerek isim oluşturan kodu yazınız."
   ]
  },
  {
   "attachments": {},
   "cell_type": "markdown",
   "metadata": {},
   "source": [
    "14 Soru: Kullanıcıdan alınan basamak sayısı kadar pascal üçgeninin basamaklarını hesaplayan kodu yazınız.\n"
   ]
  },
  {
   "attachments": {},
   "cell_type": "markdown",
   "metadata": {},
   "source": [
    "15 Soru: Kullanıcının girdiği sayının faktöriyelini hesaplayan kodu yazınız.\n"
   ]
  },
  {
   "attachments": {},
   "cell_type": "markdown",
   "metadata": {},
   "source": [
    "16 Soru: Kullanıcıdan kısa ve uzun kenar bilgisini aldığı dikdörtgenin alan ve çevre hesaplamasını yapan kodu yazınız.\n"
   ]
  },
  {
   "attachments": {},
   "cell_type": "markdown",
   "metadata": {},
   "source": [
    "17 Soru: Kullanıcının girdiği sayının pozitif tam bölenlerini bulan kodu yazınız."
   ]
  },
  {
   "attachments": {},
   "cell_type": "markdown",
   "metadata": {},
   "source": [
    "18 Soru: Kullanıcıdan aldığı iki sayı ile toplama, çıkartma, çarpma ve bölme işlemlerini yapan basit bir hesap makinesi kodunu yazınız."
   ]
  },
  {
   "attachments": {},
   "cell_type": "markdown",
   "metadata": {},
   "source": [
    "19 Soru: Permütasyon nesnelerin diziliş sayısını bulmamızı sağlar. 6 arkadaştan 4’ü masaya oturucaktır. Bu 4 kişi kaç farklı şekilde masaya oturabilir sorusuna çözüm bulmak için permütasyon kullanırız. Aldığı sayılara göre permütasyon hesabı yapan kodu yazınız.\n"
   ]
  },
  {
   "attachments": {},
   "cell_type": "markdown",
   "metadata": {},
   "source": [
    "20 Soru: Kombinasyon hesabı yapan python kodunu yazınız."
   ]
  },
  {
   "attachments": {},
   "cell_type": "markdown",
   "metadata": {},
   "source": [
    "21 Soru: Dairenin yarıçapını kullanıcıdan alarak alanını ve çevresini hesaplayan kodu yazınız. Formüller: Alan= π*r² – Çevre=2*π*r"
   ]
  }
 ],
 "metadata": {
  "kernelspec": {
   "display_name": "Python 3",
   "language": "python",
   "name": "python3"
  },
  "language_info": {
   "codemirror_mode": {
    "name": "ipython",
    "version": 3
   },
   "file_extension": ".py",
   "mimetype": "text/x-python",
   "name": "python",
   "nbconvert_exporter": "python",
   "pygments_lexer": "ipython3",
   "version": "3.11.2"
  },
  "orig_nbformat": 4
 },
 "nbformat": 4,
 "nbformat_minor": 2
}
