{
 "cells": [
  {
   "attachments": {},
   "cell_type": "markdown",
   "metadata": {},
   "source": [
    "https://www.bilisimkonulari.com/python-girilen-sayi-pozitif-negatif-sifir-oldugunu-bulma.html"
   ]
  },
  {
   "attachments": {},
   "cell_type": "markdown",
   "metadata": {},
   "source": [
    " SORU-1 -->\n",
    " 0-100 arasındaki puanı 5’lik sistemdeki karşılığını bularak bu nota çevirme işlemini yapan bir program yaziniz\n",
    " \n",
    "0-24 arası 0\n",
    "\n",
    "25-44 arası 1\n",
    "\n",
    "45-54 arası 2\n",
    "\n",
    "55-69 arası 3\n",
    "\n",
    "70-84 arası 4\n",
    "\n",
    "85-100 arası 5\n",
    "\n",
    "100’den sonrası ve 0’dan öncesi hatalı giriş\n",
    "\n",
    "OUTPUT --> 35 puanin 5'lik sistemde karşılığı : 1\n"
   ]
  },
  {
   "cell_type": "code",
   "execution_count": null,
   "metadata": {},
   "outputs": [],
   "source": []
  },
  {
   "attachments": {},
   "cell_type": "markdown",
   "metadata": {},
   "source": [
    "SORU-2 --> kullanıcının klavyeden girdiği yaş ve cinsiyetine göre ehliyet alıp alamayacağını kontrol eden program yazınız. Yaşı 20 ve üzerinde olan ve cinsiyeti erkek olan kişiler askere gidebilir bu şartların dışında kalanlar askere gidemezler."
   ]
  },
  {
   "cell_type": "code",
   "execution_count": null,
   "metadata": {},
   "outputs": [],
   "source": []
  },
  {
   "attachments": {},
   "cell_type": "markdown",
   "metadata": {},
   "source": [
    "SORU-3 --> klavyeden girilen herhangi bir sayının pozitif sayı mı yoksa negatif sayı mı yoksa sıfır mı olduğunu bulan ve sonucu ekrana yazdıran program yazınız"
   ]
  },
  {
   "attachments": {},
   "cell_type": "markdown",
   "metadata": {},
   "source": []
  },
  {
   "attachments": {},
   "cell_type": "markdown",
   "metadata": {},
   "source": [
    "SORU-4 --> klavyeden girilen üç sayının ortalamasını bulan ve sonucu ekrana yazdıran program"
   ]
  },
  {
   "cell_type": "code",
   "execution_count": null,
   "metadata": {},
   "outputs": [],
   "source": []
  },
  {
   "attachments": {},
   "cell_type": "markdown",
   "metadata": {},
   "source": [
    "SORU-5 --> kullanıcının klavyeden girmiş olduğu bir sayının tek sayı mı yoksa çift sayı mı olduğunu bulan ve ekrana yazdıran program"
   ]
  }
 ],
 "metadata": {
  "language_info": {
   "name": "python"
  },
  "orig_nbformat": 4
 },
 "nbformat": 4,
 "nbformat_minor": 2
}
