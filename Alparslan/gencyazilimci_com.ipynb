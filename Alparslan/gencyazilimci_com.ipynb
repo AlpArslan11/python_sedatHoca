{
 "cells": [
  {
   "attachments": {},
   "cell_type": "markdown",
   "metadata": {},
   "source": [
    "https://gencyazilimci.com/python-calisma-sorulari-ve-cevaplari-12-soru-259/"
   ]
  },
  {
   "attachments": {},
   "cell_type": "markdown",
   "metadata": {},
   "source": [
    "1-) Kullanıcın girdiği 5 basamaklı bir sayının, basamaklarının toplamını ekrana yazdıran python kodlarını yazınız?"
   ]
  },
  {
   "attachments": {},
   "cell_type": "markdown",
   "metadata": {},
   "source": [
    "2-) Klavyeden kullanıcının girdiği 3 adet integer türünde ki sayıyı büyükten küçüğe sıralayarak ortadaki sayı ile olan sayının arasındaki farkı ve yine ortadaki sayı ile küçük olan sayı ile arasındaki farkı ekrana yazdıran python kodlarını yazınız?"
   ]
  },
  {
   "attachments": {},
   "cell_type": "markdown",
   "metadata": {},
   "source": [
    "3-) Kullanıcının girdiği iki birbirine eşit ise ekrana “5” sonucu yazdıracak, eşit değil ise 25 defa “eşit değil” sonucunu ekrana yazdıran python kodlarını yazınız? (while döngüsü ile yapılacaktır)"
   ]
  },
  {
   "attachments": {},
   "cell_type": "markdown",
   "metadata": {},
   "source": [
    "4-) Rastgele 600 adet 0 ile 1000 arasında sayı oluşturup bir liste içerisine aktaran ve 100’den küçük olan sayıların adedini ekrana yazdıran python kodlarını yazınız?\n",
    "\n"
   ]
  },
  {
   "attachments": {},
   "cell_type": "markdown",
   "metadata": {},
   "source": [
    "5-) Kullanıcının girdiği iki sayı birbirine eşitse bu sayının 4’de göre modunu alıp ekrana yazdıran python kodlarını yazınız?"
   ]
  },
  {
   "attachments": {},
   "cell_type": "markdown",
   "metadata": {},
   "source": [
    "6-) Kullanıcının girdiği iki sayıyı toplayan ve toplam sonucu 40 ile 50 arasında ise ekrana “genç yazılımcı” yazdıran python kodlarını yazınız?"
   ]
  },
  {
   "attachments": {},
   "cell_type": "markdown",
   "metadata": {},
   "source": [
    "7-) Kullanıcının girdiği 4 basamaklı sayıyı basamaklarını ayırıp tek tek rakamlarını ve rakamlarının toplamını ekrana yazdıran python kodlarını yazınız?\n",
    "\n"
   ]
  },
  {
   "attachments": {},
   "cell_type": "markdown",
   "metadata": {},
   "source": [
    "8 -) Kullanıcının girdiği sayının, 5’e göre kalanını  ekrana yazdıran python kodlarını yazınız?"
   ]
  },
  {
   "attachments": {
    "image.png": {
     "image/png": "[encoded data removed]"
    }
   },
   "cell_type": "markdown",
   "metadata": {},
   "source": [
    "9-) Aşağıdaki görselin ekran çıktısını veren python kodlarını döngü kullanarak yazınız?\n",
    "![image.png](attachment:image.png)\n",
    "\n",
    "\n"
   ]
  },
  {
   "attachments": {},
   "cell_type": "markdown",
   "metadata": {},
   "source": [
    "10-) Kullanıcının satın aldığı benzinin kaç TL tuttuğunu ve bunun ne kadarının vergi olduğunu hesaplayıp ekrana yazdıran programı python kodları ile yazınız.\n",
    "(kullanıcı satın aldığı benzini litre cinsinden girecek - Benzin litre fiyatı: 5,37 TL  - Vergi oranı %66)"
   ]
  },
  {
   "attachments": {
    "image.png": {
     "image/png": "[encoded data removed]"
    }
   },
   "cell_type": "markdown",
   "metadata": {},
   "source": [
    "\n",
    "11-) ![image.png](attachment:image.png) Yukarıdaki denklemin sonucunu, kullanıcının girdiği x,y,c ve a değerlerine hesaplayıp sonucunu ekrana yazdıracak olan programın python kodları ile yazınız?"
   ]
  },
  {
   "attachments": {},
   "cell_type": "markdown",
   "metadata": {},
   "source": [
    "12-) Program çalıştırıldığında aşağıdaki gibi bir ekran çıktısı verecek:\n",
    "__________________________________________\n",
    "Giriş Yapacağınız Sıcaklık Değerinin Birimini Seçiniz\n",
    "\n",
    "   1 - Celsius\n",
    "\n",
    "   2 - Fahrenheit\n",
    "\n",
    "   3 - Kelvin\n",
    "\n",
    "Kullanıcı giriş değer birimini seçip, değerini girecek.\n",
    "\n",
    "Aşağıdaki gibi bir ekran çıktısı alacak:\n",
    "\n",
    "Dönüştürmek istediğiniz birimi seçiniz:\n",
    "\n",
    "   1 - Celsius\n",
    "\n",
    "   2 - Fahrenheit\n",
    "\n",
    "   3 - Kelvin\n",
    "   \n",
    "Eğer kullanıcı giriş yaptığı birime dönüştürmek isterse,\n",
    "\n",
    "(Örneğin giriş birimini Celsius seçti, dönüştürmek istediği birimi de Celsius seçti)\n",
    "\n",
    "O zaman aşağıdaki gibi bir hata mesajı verecek:\n",
    "\n",
    "Hata - Giriş yaptığınız birim değerine dönüştürme yapılamaz.\n",
    "\n",
    "Eğer kullanıcı giriş yaptığı birimden farklı bir birime dönüştürme yapmayı seçerse ekrana girilen sıcaklık biriminin dönüştürüldüğü sıcaklık değeri yazdırılacak.\n",
    "\n",
    "Örneğin kullanıcı giriş yapacağı değeri Celsius seçti ve değeri 30 olarak girdi\n",
    "\n",
    "Dönüştürülecek birimi de 2’yi seçip Fahrenheit birimine dönüştürmek istedi.\n",
    "\n",
    "Sonuç ekrana 86 Fahrenheit olarak yazdırılır.\n",
    "______________________________________________________________"
   ]
  }
 ],
 "metadata": {
  "language_info": {
   "name": "python"
  },
  "orig_nbformat": 4
 },
 "nbformat": 4,
 "nbformat_minor": 2
}
