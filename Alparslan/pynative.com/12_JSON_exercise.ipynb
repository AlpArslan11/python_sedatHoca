{
 "cells": [
  {
   "attachments": {},
   "cell_type": "markdown",
   "metadata": {},
   "source": [
    "### !!!!!!!! sorulari doğru şekilde görebilmek için üzerine cift tıklayarak edit penceresinden açınız\n",
    "\n",
    "#### --->  çözümler sitede\n",
    "\n",
    "https://pynative.com/python-json-exercise/"
   ]
  },
  {
   "attachments": {},
   "cell_type": "markdown",
   "metadata": {},
   "source": [
    "Exercise 1: Convert the following dictionary into JSON format\n",
    "data = {\"key1\" : \"value1\", \"key2\" : \"value2\"}\n",
    "Expected Output:\n",
    "\n",
    "data = {\"key1\" : \"value1\", \"key2\" : \"value2\"}"
   ]
  },
  {
   "cell_type": "code",
   "execution_count": null,
   "metadata": {
    "vscode": {
     "languageId": "plaintext"
    }
   },
   "outputs": [],
   "source": []
  },
  {
   "attachments": {},
   "cell_type": "markdown",
   "metadata": {},
   "source": [
    "Exercise 2: Access the value of key2 from the following JSON\n",
    "import json\n",
    "\n",
    "sampleJson = \"\"\"{\"key1\": \"value1\", \"key2\": \"value2\"}\"\"\"\n",
    "# write code to print the value of key2\n",
    "Expected Output:\n",
    "\n",
    "value2"
   ]
  },
  {
   "cell_type": "code",
   "execution_count": null,
   "metadata": {
    "vscode": {
     "languageId": "plaintext"
    }
   },
   "outputs": [],
   "source": []
  },
  {
   "attachments": {},
   "cell_type": "markdown",
   "metadata": {},
   "source": [
    "Exercise 3: PrettyPrint following JSON data\n",
    "PrettyPrint following JSON data with indent level 2 and key-value separators should be (\",\", \" = \").\n",
    "\n",
    "sampleJson = {\"key1\": \"value1\", \"key2\": \"value2\"}\n",
    "Expected Output:\n",
    "\n",
    "{\n",
    "  \"key1\" = \"value2\",\n",
    "  \"key2\" = \"value2\",\n",
    "  \"key3\" = \"value3\"\n",
    "}"
   ]
  },
  {
   "cell_type": "code",
   "execution_count": null,
   "metadata": {
    "vscode": {
     "languageId": "plaintext"
    }
   },
   "outputs": [],
   "source": []
  },
  {
   "attachments": {},
   "cell_type": "markdown",
   "metadata": {},
   "source": [
    "Exercise 4: Sort JSON keys in and write them into a file\n",
    "Sort following JSON data alphabetical order of keys\n",
    "\n",
    "sampleJson = {\"id\" : 1, \"name\" : \"value2\", \"age\" : 29}\n",
    "Expected Output:\n",
    "\n",
    "{\n",
    "    \"age\": 29,\n",
    "    \"id\": 1,\n",
    "    \"name\": \"value2\"\n",
    "}"
   ]
  },
  {
   "cell_type": "code",
   "execution_count": null,
   "metadata": {
    "vscode": {
     "languageId": "plaintext"
    }
   },
   "outputs": [],
   "source": []
  },
  {
   "attachments": {},
   "cell_type": "markdown",
   "metadata": {},
   "source": [
    "Exercise 5: Access the nested key ‘salary’ from the following JSON\n",
    "import json\n",
    "\n",
    "sampleJson = \"\"\"{ \n",
    "   \"company\":{ \n",
    "      \"employee\":{ \n",
    "         \"name\":\"emma\",\n",
    "         \"payble\":{ \n",
    "            \"salary\":7000,\n",
    "            \"bonus\":800\n",
    "         }\n",
    "      }\n",
    "   }\n",
    "}\"\"\"\n",
    "\n",
    "# write code to print the value of salary\n",
    "Expected Output:\n",
    "\n",
    "7000"
   ]
  },
  {
   "cell_type": "code",
   "execution_count": null,
   "metadata": {
    "vscode": {
     "languageId": "plaintext"
    }
   },
   "outputs": [],
   "source": []
  },
  {
   "attachments": {},
   "cell_type": "markdown",
   "metadata": {},
   "source": [
    "Exercise 6: Convert the following Vehicle Object into JSON\n",
    "import json\n",
    "\n",
    "class Vehicle:\n",
    "    def __init__(self, name, engine, price):\n",
    "        self.name = name\n",
    "        self.engine = engine\n",
    "        self.price = price\n",
    "\n",
    "vehicle = Vehicle(\"Toyota Rav4\", \"2.5L\", 32000)\n",
    "\n",
    "# Convert it into JSON format\n",
    "Expected Output:\n",
    "\n",
    "{\n",
    "    \"name\": \"Toyota Rav4\",\n",
    "    \"engine\": \"2.5L\",\n",
    "    \"price\": 32000\n",
    "}"
   ]
  },
  {
   "cell_type": "code",
   "execution_count": null,
   "metadata": {
    "vscode": {
     "languageId": "plaintext"
    }
   },
   "outputs": [],
   "source": []
  },
  {
   "attachments": {},
   "cell_type": "markdown",
   "metadata": {},
   "source": [
    "Exercise 7: Convert the following JSON into Vehicle Object\n",
    "{ \"name\": \"Toyota Rav4\", \"engine\": \"2.5L\", \"price\": 32000 }\n",
    "For example, we should be able to access Vehicle Object using the dot operator like this.\n",
    "\n",
    "vehicleObj.name, vehicleObj.engine, vehicleObj.price"
   ]
  },
  {
   "cell_type": "code",
   "execution_count": null,
   "metadata": {
    "vscode": {
     "languageId": "plaintext"
    }
   },
   "outputs": [],
   "source": []
  },
  {
   "attachments": {},
   "cell_type": "markdown",
   "metadata": {},
   "source": [
    "Exercise 8: Check whether following json is valid or invalid. If Invalid correct it\n",
    "{ \n",
    "   \"company\":{ \n",
    "      \"employee\":{ \n",
    "         \"name\":\"emma\",\n",
    "         \"payble\":{ \n",
    "            \"salary\":7000\n",
    "            \"bonus\":800\n",
    "         }\n",
    "      }\n",
    "   }\n",
    "}"
   ]
  },
  {
   "cell_type": "code",
   "execution_count": null,
   "metadata": {
    "vscode": {
     "languageId": "plaintext"
    }
   },
   "outputs": [],
   "source": []
  },
  {
   "attachments": {},
   "cell_type": "markdown",
   "metadata": {},
   "source": [
    "Exercise 9: Parse the following JSON to get all the values of a key ‘name’ within an array\n",
    "[ \n",
    "   { \n",
    "      \"id\":1,\n",
    "      \"name\":\"name1\",\n",
    "      \"color\":[ \n",
    "         \"red\",\n",
    "         \"green\"\n",
    "      ]\n",
    "   },\n",
    "   { \n",
    "      \"id\":2,\n",
    "      \"name\":\"name2\",\n",
    "      \"color\":[ \n",
    "         \"pink\",\n",
    "         \"yellow\"\n",
    "      ]\n",
    "   }\n",
    "]\n",
    "Expected Output:\n",
    "\n",
    "[\"name1\", \"name2\"]"
   ]
  },
  {
   "cell_type": "code",
   "execution_count": null,
   "metadata": {
    "vscode": {
     "languageId": "plaintext"
    }
   },
   "outputs": [],
   "source": []
  }
 ],
 "metadata": {
  "language_info": {
   "name": "python"
  },
  "orig_nbformat": 4
 },
 "nbformat": 4,
 "nbformat_minor": 2
}
