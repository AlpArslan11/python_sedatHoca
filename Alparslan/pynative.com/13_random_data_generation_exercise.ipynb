{
 "cells": [
  {
   "attachments": {},
   "cell_type": "markdown",
   "metadata": {},
   "source": [
    "### !!!!!!!! sorulari doğru şekilde görebilmek için üzerine cift tıklayarak edit penceresinden açınız\n",
    "\n",
    "#### --->  çözümler sitede\n",
    "\n",
    "https://pynative.com/python-random-number-generation-exercise-questions-and-challenge/"
   ]
  },
  {
   "attachments": {},
   "cell_type": "markdown",
   "metadata": {},
   "source": [
    "Exercise 1: Generate 3 random integers between 100 and 999 which is divisible by 5\n",
    "Reference article for help: Python get a random number within a range"
   ]
  },
  {
   "cell_type": "code",
   "execution_count": null,
   "metadata": {},
   "outputs": [],
   "source": []
  },
  {
   "attachments": {},
   "cell_type": "markdown",
   "metadata": {},
   "source": [
    "Exercise 2: Random Lottery Pick. Generate 100 random lottery tickets and pick two lucky tickets from it as a winner.\n",
    "Note you must adhere to the following conditions:\n",
    "\n",
    "The lottery number must be 10 digits long.\n",
    "All 100 ticket number must be unique.\n",
    "Hint: Generate a random list of 1000 numbers using randrange() and then use the sample() method to pick lucky 2 tickets."
   ]
  },
  {
   "cell_type": "code",
   "execution_count": null,
   "metadata": {},
   "outputs": [],
   "source": []
  },
  {
   "attachments": {},
   "cell_type": "markdown",
   "metadata": {},
   "source": [
    "Exercise 3: Generate 6 digit random secure OTP\n",
    "Reference article for help:\n",
    "\n",
    "Python secrets module to generate secure numbers\n",
    "Python get a random number within a range"
   ]
  },
  {
   "cell_type": "code",
   "execution_count": null,
   "metadata": {},
   "outputs": [],
   "source": []
  },
  {
   "attachments": {},
   "cell_type": "markdown",
   "metadata": {},
   "source": [
    "Exercise 4: Pick a random character from a given String\n",
    "Reference article for help: random.choice()"
   ]
  },
  {
   "cell_type": "code",
   "execution_count": null,
   "metadata": {},
   "outputs": [],
   "source": []
  },
  {
   "attachments": {},
   "cell_type": "markdown",
   "metadata": {},
   "source": [
    "Exercise 5: Generate random String of length 5\n",
    "Note: String must be the combination of the UPPER case and lower case letters only. No numbers and a special symbol.\n",
    "\n",
    "Reference article for help: Generate random String in Python."
   ]
  },
  {
   "cell_type": "code",
   "execution_count": null,
   "metadata": {},
   "outputs": [],
   "source": []
  },
  {
   "attachments": {},
   "cell_type": "markdown",
   "metadata": {},
   "source": [
    "Exercise 6: Generate a random Password which meets the following conditions\n",
    "- Password length must be 10 characters long.\n",
    "- It must contain at least 2 upper case letters, 1 digit, and 1 special symbol.\n",
    "Reference article for help: Generate random String and Password in Python"
   ]
  },
  {
   "cell_type": "code",
   "execution_count": null,
   "metadata": {},
   "outputs": [],
   "source": []
  },
  {
   "attachments": {},
   "cell_type": "markdown",
   "metadata": {},
   "source": [
    "Exercise 7: Calculate multiplication of two random float numbers\n",
    "Note:\n",
    "\n",
    "- First random float number must be between 0.1 and 1\n",
    "- Second random float number must be between 9.5 and 99.5\n",
    "Reference article for help: Generate a random float number between a float range"
   ]
  },
  {
   "cell_type": "code",
   "execution_count": null,
   "metadata": {},
   "outputs": [],
   "source": []
  },
  {
   "attachments": {},
   "cell_type": "markdown",
   "metadata": {},
   "source": [
    "Exercise 8: Generate random secure token of 64 bytes and random URL\n",
    "Reference article for help: Python secrets module to generate a secure token and URL"
   ]
  },
  {
   "cell_type": "code",
   "execution_count": null,
   "metadata": {},
   "outputs": [],
   "source": []
  },
  {
   "attachments": {},
   "cell_type": "markdown",
   "metadata": {},
   "source": [
    "Exercise 9: Roll dice in such a way that every time you get the same number\n",
    "Dice has 6 numbers (from 1 to 6). Roll dice in such a way that every time you must get the same output number. do this 5 times.\n",
    "\n",
    "Reference article for help:\n",
    "\n",
    "How to seed random number generator\n",
    "random.choice()"
   ]
  },
  {
   "cell_type": "code",
   "execution_count": null,
   "metadata": {},
   "outputs": [],
   "source": []
  },
  {
   "attachments": {},
   "cell_type": "markdown",
   "metadata": {},
   "source": [
    "Exercise 10: Generate a random date between given start and end dates"
   ]
  },
  {
   "cell_type": "code",
   "execution_count": null,
   "metadata": {},
   "outputs": [],
   "source": []
  },
  {
   "cell_type": "markdown",
   "metadata": {},
   "source": []
  },
  {
   "cell_type": "markdown",
   "metadata": {},
   "source": []
  },
  {
   "cell_type": "code",
   "execution_count": null,
   "metadata": {},
   "outputs": [],
   "source": []
  }
 ],
 "metadata": {
  "language_info": {
   "name": "python"
  },
  "orig_nbformat": 4
 },
 "nbformat": 4,
 "nbformat_minor": 2
}
