{
 "cells": [
  {
   "attachments": {},
   "cell_type": "markdown",
   "metadata": {},
   "source": [
    "### !!!!!!!! sorulari doğru şekilde görebilmek için üzerine cift tıklayarak edit penceresinden açınız\n",
    "\n",
    "#### --->  çözümler sitede\n",
    "\n",
    "https://pynative.com/python-numpy-exercise/"
   ]
  },
  {
   "attachments": {},
   "cell_type": "markdown",
   "metadata": {},
   "source": [
    "Exercise 1: Create a 4X2 integer array and Prints its attributes\n",
    "Note: The element must be a type of unsigned int16. And print the following Attributes: –\n",
    "\n",
    "The shape of an array.\n",
    "Array dimensions.\n",
    "The Length of each element of the array in bytes.\n",
    "Expected Output:\n",
    "\n",
    "Printing Array\n",
    "\n",
    "[[64392 31655]\n",
    " [32579     0]\n",
    " [49248   462]\n",
    " [    0     0]]\n",
    "\n",
    "Printing NumPy array Attributes\n",
    "\n",
    "Array Shape is:  (4, 2)\n",
    "Array dimensions are  2\n",
    "Length of each element of array in bytes is  2"
   ]
  },
  {
   "cell_type": "code",
   "execution_count": null,
   "metadata": {
    "vscode": {
     "languageId": "plaintext"
    }
   },
   "outputs": [],
   "source": []
  },
  {
   "attachments": {},
   "cell_type": "markdown",
   "metadata": {},
   "source": [
    "Exercise 2: Create a 5X2 integer array from a range between 100 to 200 such that the difference between each element is 10\n",
    "Expected Output:\n",
    "\n",
    "Creating 5X2 array using numpy.arange\n",
    "[[100 110]\n",
    " [120 130]\n",
    " [140 150]\n",
    " [160 170]\n",
    " [180 190]]"
   ]
  },
  {
   "cell_type": "code",
   "execution_count": null,
   "metadata": {
    "vscode": {
     "languageId": "plaintext"
    }
   },
   "outputs": [],
   "source": []
  },
  {
   "attachments": {},
   "cell_type": "markdown",
   "metadata": {},
   "source": [
    "Exercise 3: Following is the provided numPy array. Return array of items by taking the third column from all rows\n",
    "sampleArray = numpy.array([[11 ,22, 33], [44, 55, 66], [77, 88, 99]])\n",
    "Expected Output:\n",
    "\n",
    "Printing Input Array\n",
    "[[11 22 33]\n",
    " [44 55 66]\n",
    " [77 88 99]]\n",
    "\n",
    "Printing array of items in the third column from all rows\n",
    "[33 66 99]"
   ]
  },
  {
   "cell_type": "code",
   "execution_count": null,
   "metadata": {
    "vscode": {
     "languageId": "plaintext"
    }
   },
   "outputs": [],
   "source": []
  },
  {
   "attachments": {},
   "cell_type": "markdown",
   "metadata": {},
   "source": [
    "Exercise 4: Return array of odd rows and even columns from below numpy array\n",
    "sampleArray = numpy.array([[3 ,6, 9, 12], [15 ,18, 21, 24], \n",
    "[27 ,30, 33, 36], [39 ,42, 45, 48], [51 ,54, 57, 60]])\n",
    "Expected Output:\n",
    "\n",
    "Printing Input Array\n",
    "[[ 3  6  9 12]\n",
    " [15 18 21 24]\n",
    " [27 30 33 36]\n",
    " [39 42 45 48]\n",
    " [51 54 57 60]]\n",
    "\n",
    "Printing array of odd rows and even columns\n",
    "[[ 6 12]\n",
    " [30 36]\n",
    " [54 60]]"
   ]
  },
  {
   "cell_type": "code",
   "execution_count": null,
   "metadata": {
    "vscode": {
     "languageId": "plaintext"
    }
   },
   "outputs": [],
   "source": []
  },
  {
   "attachments": {},
   "cell_type": "markdown",
   "metadata": {},
   "source": [
    "Exercise 5: Create a result array by adding the following two NumPy arrays. Next, modify the result array by calculating the square of each element\n",
    "arrayOne = numpy.array([[5, 6, 9], [21 ,18, 27]])\n",
    "arrayTwo = numpy.array([[15 ,33, 24], [4 ,7, 1]])\n",
    "Expected Output:\n",
    "\n",
    "addition of two arrays is \n",
    "\n",
    "[[20 39 33]\n",
    " [25 25 28]]\n",
    "\n",
    "Result array after calculating the square root of all elements\n",
    "\n",
    "[[ 400 1521 1089]\n",
    " [ 625  625  784]]"
   ]
  },
  {
   "cell_type": "code",
   "execution_count": null,
   "metadata": {
    "vscode": {
     "languageId": "plaintext"
    }
   },
   "outputs": [],
   "source": []
  },
  {
   "attachments": {},
   "cell_type": "markdown",
   "metadata": {},
   "source": [
    "Exercise 6: Split the array into four equal-sized sub-arrays\n",
    "Note: Create an 8X3 integer array from a range between 10 to 34 such that the difference between each element is 1 and then Split the array into four equal-sized sub-arrays.\n",
    "\n",
    "Expected Output:\n",
    "\n",
    "Creating 8X3 array using numpy.arange\n",
    "[[10 11 12]\n",
    " [13 14 15]\n",
    " [16 17 18]\n",
    " [19 20 21]\n",
    " [22 23 24]\n",
    " [25 26 27]\n",
    " [28 29 30]\n",
    " [31 32 33]]\n",
    "\n",
    "Dividing 8X3 array into 4 sub array\n",
    "\n",
    "[array([[10, 11, 12],[13, 14, 15]]), \n",
    "array([[16, 17, 18],[19, 20, 21]]), \n",
    "array([[22, 23, 24],[25, 26, 27]]), \n",
    "array([[28, 29, 30],[31, 32, 33]])]"
   ]
  },
  {
   "cell_type": "code",
   "execution_count": null,
   "metadata": {
    "vscode": {
     "languageId": "plaintext"
    }
   },
   "outputs": [],
   "source": []
  },
  {
   "attachments": {},
   "cell_type": "markdown",
   "metadata": {},
   "source": [
    "Exercise 7: Sort following NumPy array\n",
    "Case 1: Sort array by the second row\n",
    "Case 2: Sort the array by the second column\n",
    "sampleArray = numpy.array([[34,43,73],[82,22,12],[53,94,66]])\n",
    "Expected Output:\n",
    "\n",
    "Printing Original array\n",
    "[[34 43 73]\n",
    " [82 22 12]\n",
    " [53 94 66]]\n",
    "\n",
    "Sorting Original array by second row\n",
    "[[73 43 34]\n",
    " [12 22 82]\n",
    " [66 94 53]]\n",
    "\n",
    "Sorting Original array by second column\n",
    "[[82 22 12]\n",
    " [34 43 73]\n",
    " [53 94 66]]"
   ]
  },
  {
   "cell_type": "code",
   "execution_count": null,
   "metadata": {
    "vscode": {
     "languageId": "plaintext"
    }
   },
   "outputs": [],
   "source": []
  },
  {
   "attachments": {},
   "cell_type": "markdown",
   "metadata": {},
   "source": [
    "Exercise 8: Print max from axis 0 and min from axis 1 from the following 2-D array.\n",
    "sampleArray = numpy.array([[34,43,73],[82,22,12],[53,94,66]])\n",
    "Expected Output:\n",
    "\n",
    "Printing Original array\n",
    "[[34 43 73]\n",
    " [82 22 12]\n",
    " [53 94 66]]\n",
    "\n",
    "Printing amin Of Axis 1\n",
    "[34 12 53]\n",
    "\n",
    "Printing amax Of Axis 0\n",
    "[82 94 73]"
   ]
  },
  {
   "cell_type": "code",
   "execution_count": null,
   "metadata": {
    "vscode": {
     "languageId": "plaintext"
    }
   },
   "outputs": [],
   "source": []
  },
  {
   "attachments": {},
   "cell_type": "markdown",
   "metadata": {},
   "source": [
    "Exercise 9: Delete the second column from a given array and insert the following new column in its place.\n",
    "sampleArray = numpy.array([[34,43,73],[82,22,12],[53,94,66]]) \n",
    "newColumn = numpy.array([[10,10,10]])\n",
    "Expected Output:\n",
    "\n",
    "Printing Original array\n",
    "[[34 43 73]\n",
    " [82 22 12]\n",
    " [53 94 66]]\n",
    "\n",
    "Array after deleting column 2 on axis 1\n",
    "[[34 73]\n",
    " [82 12]\n",
    " [53 66]]\n",
    "\n",
    "Array after inserting column 2 on axis 1\n",
    "[[34 10 73]\n",
    " [82 10 12]\n",
    " [53 10 66]]"
   ]
  },
  {
   "cell_type": "code",
   "execution_count": null,
   "metadata": {
    "vscode": {
     "languageId": "plaintext"
    }
   },
   "outputs": [],
   "source": []
  },
  {
   "attachments": {},
   "cell_type": "markdown",
   "metadata": {},
   "source": [
    "Exercise 10: Create two 2-D arrays and Plot them using matplotlib"
   ]
  },
  {
   "cell_type": "code",
   "execution_count": null,
   "metadata": {
    "vscode": {
     "languageId": "plaintext"
    }
   },
   "outputs": [],
   "source": []
  },
  {
   "cell_type": "markdown",
   "metadata": {},
   "source": []
  },
  {
   "cell_type": "markdown",
   "metadata": {},
   "source": []
  },
  {
   "cell_type": "markdown",
   "metadata": {},
   "source": []
  },
  {
   "cell_type": "markdown",
   "metadata": {},
   "source": []
  },
  {
   "cell_type": "markdown",
   "metadata": {},
   "source": []
  }
 ],
 "metadata": {
  "language_info": {
   "name": "python"
  },
  "orig_nbformat": 4
 },
 "nbformat": 4,
 "nbformat_minor": 2
}
