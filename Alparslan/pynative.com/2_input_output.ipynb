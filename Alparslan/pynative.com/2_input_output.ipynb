{
 "cells": [
  {
   "attachments": {},
   "cell_type": "markdown",
   "metadata": {},
   "source": [
    "### !!!!!!!! sorulari doğru şekilde görebilmek için üzerine cift tıklayarak edit penceresinden açınız\n",
    "\n",
    "#### --->  çözümler sitede"
   ]
  },
  {
   "attachments": {},
   "cell_type": "markdown",
   "metadata": {},
   "source": [
    "### https://pynative.com/python-input-and-output-exercise/"
   ]
  },
  {
   "cell_type": "code",
   "execution_count": null,
   "metadata": {},
   "outputs": [],
   "source": [
    "Exercise 1: Accept numbers from a user\n",
    "Write a program to accept two numbers from the user and calculate multiplication"
   ]
  },
  {
   "cell_type": "code",
   "execution_count": null,
   "metadata": {},
   "outputs": [],
   "source": []
  },
  {
   "attachments": {},
   "cell_type": "markdown",
   "metadata": {},
   "source": [
    "Exercise 2: Display three string “Name”, “Is”, “James” as “Name**Is**James”\n",
    "Use the print() function to format the given words in the mentioned format. Display the ** separator between each string.\n",
    "\n",
    "Expected Output:\n",
    "\n",
    "For example: print('Name', 'Is', 'James') will display Name**Is**James"
   ]
  },
  {
   "cell_type": "code",
   "execution_count": null,
   "metadata": {},
   "outputs": [],
   "source": []
  },
  {
   "attachments": {},
   "cell_type": "markdown",
   "metadata": {},
   "source": [
    "Exercise 3: Convert Decimal number to octal using print() output formatting\n",
    "Given:\n",
    "\n",
    "num = 8\n",
    "Expected Output:\n",
    "\n",
    "The octal number of decimal number 8 is 10"
   ]
  },
  {
   "cell_type": "code",
   "execution_count": null,
   "metadata": {},
   "outputs": [],
   "source": []
  },
  {
   "attachments": {},
   "cell_type": "markdown",
   "metadata": {},
   "source": [
    "Exercise 4: Display float number with 2 decimal places using print()\n",
    "Given:\n",
    "\n",
    "num = 458.541315\n",
    "Expected Output:\n",
    "\n",
    "458.54"
   ]
  },
  {
   "cell_type": "code",
   "execution_count": null,
   "metadata": {},
   "outputs": [],
   "source": []
  },
  {
   "attachments": {},
   "cell_type": "markdown",
   "metadata": {},
   "source": [
    "Exercise 5: Accept a list of 5 float numbers as an input from the user\n",
    "Refer:\n",
    "\n",
    "Take list as a input in Python.\n",
    "Python list\n",
    "Expected Output:\n",
    "\n",
    "[78.6, 78.6, 85.3, 1.2, 3.5]"
   ]
  },
  {
   "cell_type": "code",
   "execution_count": null,
   "metadata": {},
   "outputs": [],
   "source": []
  },
  {
   "attachments": {},
   "cell_type": "markdown",
   "metadata": {},
   "source": [
    "Exercise 6: Write all content of a given file into a new file by skipping line number 5\n",
    "\n",
    "See:\n",
    "\n",
    "Python file handling\n",
    "Python Read file\n",
    "Python write file\n",
    "Create a test.txt file and add the below content to it.\n",
    "\n",
    "Given test.txt file:\n",
    "\n",
    "line1\n",
    "line2\n",
    "line3\n",
    "line4\n",
    "line5\n",
    "line6\n",
    "line7\n",
    "\n",
    "Expected Output: new_file.txt\n",
    "\n",
    "line1\n",
    "line2\n",
    "line3\n",
    "line4\n",
    "line6\n",
    "line7"
   ]
  },
  {
   "cell_type": "code",
   "execution_count": null,
   "metadata": {},
   "outputs": [],
   "source": []
  },
  {
   "attachments": {},
   "cell_type": "markdown",
   "metadata": {},
   "source": [
    "Exercise 7: Accept any three string from one input() call\n",
    "Write a program to take three names as input from a user in the single input() function call."
   ]
  },
  {
   "cell_type": "code",
   "execution_count": null,
   "metadata": {},
   "outputs": [],
   "source": []
  },
  {
   "attachments": {},
   "cell_type": "markdown",
   "metadata": {},
   "source": [
    "Exercise 8: Format variables using a string.format() method.\n",
    "Write a program to use string.format() method to format the following three variables as per the expected output\n",
    "\n",
    "Given:\n",
    "\n",
    "totalMoney = 1000\n",
    "quantity = 3\n",
    "price = 450\n",
    "Expected Output:\n",
    "\n",
    "I have 1000 dollars so I can buy 3 football for 450.00 dollars."
   ]
  },
  {
   "attachments": {},
   "cell_type": "markdown",
   "metadata": {},
   "source": [
    "Exercise 9: Check file is empty or not\n",
    "Write a program to check if the given file is empty or no"
   ]
  },
  {
   "cell_type": "code",
   "execution_count": null,
   "metadata": {},
   "outputs": [],
   "source": []
  },
  {
   "attachments": {},
   "cell_type": "markdown",
   "metadata": {},
   "source": [
    "Exercise 10: Read line number 4 from the following file\n",
    "See:\n",
    "\n",
    "Read Specific Lines From a File in Python\n",
    "Python read file\n",
    "Create a test.txt file and add the below content to it.\n",
    "\n",
    "test.txt file:\n",
    "\n",
    "line1\n",
    "line2\n",
    "line3\n",
    "line4\n",
    "line5\n",
    "line6\n",
    "line7"
   ]
  },
  {
   "cell_type": "code",
   "execution_count": null,
   "metadata": {},
   "outputs": [],
   "source": []
  }
 ],
 "metadata": {
  "language_info": {
   "name": "python"
  },
  "orig_nbformat": 4
 },
 "nbformat": 4,
 "nbformat_minor": 2
}
