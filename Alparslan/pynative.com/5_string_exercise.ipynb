{
 "cells": [
  {
   "attachments": {},
   "cell_type": "markdown",
   "metadata": {},
   "source": [
    "### !!!!!!!! sorulari doğru şekilde görebilmek için üzerine cift tıklayarak edit penceresinden açınız\n",
    "\n",
    "#### --->  çözümler sitede\n",
    "\n",
    "https://pynative.com/python-string-exercise/"
   ]
  },
  {
   "cell_type": "code",
   "execution_count": null,
   "metadata": {},
   "outputs": [],
   "source": [
    "Exercise 1A: Create a string made of the first, middle and last character\n",
    "Write a program to create a new string made of an input string’s first, middle, and last character.\n",
    "\n",
    "Given:\n",
    "\n",
    "str1 = \"James\"\n",
    "Expected Output:\n",
    "\n",
    "Jms"
   ]
  },
  {
   "cell_type": "code",
   "execution_count": null,
   "metadata": {},
   "outputs": [],
   "source": []
  },
  {
   "attachments": {},
   "cell_type": "markdown",
   "metadata": {},
   "source": [
    "Exercise 1B: Create a string made of the middle three characters\n",
    "Write a program to create a new string made of the middle three characters of an input string.\n",
    "\n",
    "Given:\n",
    "\n",
    "Case 1\n",
    "\n",
    "str1 = \"JhonDipPeta\"\n",
    "Output  Dip\n",
    "\n",
    "\n",
    "Case 2\n",
    "\n",
    "str2 = \"JaSonAy\"\n",
    "Output Son"
   ]
  },
  {
   "cell_type": "code",
   "execution_count": null,
   "metadata": {},
   "outputs": [],
   "source": []
  },
  {
   "attachments": {},
   "cell_type": "markdown",
   "metadata": {},
   "source": [
    "Exercise 2: Append new string in the middle of a given string\n",
    "Given two strings, s1 and s2. Write a program to create a new string s3 by appending s2 in the middle of s1.\n",
    "\n",
    "Given:\n",
    "\n",
    "s1 = \"Ault\"\n",
    "s2 = \"Kelly\"\n",
    "Expected Output:\n",
    "\n",
    "AuKellylt"
   ]
  },
  {
   "cell_type": "code",
   "execution_count": null,
   "metadata": {},
   "outputs": [],
   "source": []
  },
  {
   "attachments": {},
   "cell_type": "markdown",
   "metadata": {},
   "source": [
    "Exercise 3: Create a new string made of the first, middle, and last characters of each input string\n",
    "Given two strings, s1 and s2, write a program to return a new string made of s1 and s2’s first, middle, and last characters.\n",
    "\n",
    "Given:\n",
    "\n",
    "s1 = \"America\"\n",
    "s2 = \"Japan\"\n",
    "Expected Output:\n",
    "\n",
    "AJrpan"
   ]
  },
  {
   "cell_type": "code",
   "execution_count": null,
   "metadata": {},
   "outputs": [],
   "source": []
  },
  {
   "attachments": {},
   "cell_type": "markdown",
   "metadata": {},
   "source": [
    "Exercise 4: Arrange string characters such that lowercase letters should come first\n",
    "Given string contains a combination of the lower and upper case letters. Write a program to arrange the characters of a string so that all lowercase letters should come first.\n",
    "\n",
    "Given:\n",
    "\n",
    "str1 = PyNaTive\n",
    "Expected Output:\n",
    "\n",
    "yaivePNT"
   ]
  },
  {
   "cell_type": "code",
   "execution_count": null,
   "metadata": {},
   "outputs": [],
   "source": []
  },
  {
   "attachments": {},
   "cell_type": "markdown",
   "metadata": {},
   "source": [
    "Exercise 5: Count all letters, digits, and special symbols from a given string\n",
    "Given:\n",
    "\n",
    "str1 = \"P@#yn26at^&i5ve\"\n",
    "Expected Outcome:\n",
    "\n",
    "Total counts of chars, digits, and symbols \n",
    "\n",
    "Chars = 8 \n",
    "Digits = 3 \n",
    "Symbol = 4"
   ]
  },
  {
   "cell_type": "code",
   "execution_count": null,
   "metadata": {},
   "outputs": [],
   "source": []
  },
  {
   "attachments": {},
   "cell_type": "markdown",
   "metadata": {},
   "source": [
    "Exercise 6: Create a mixed String using the following rules\n",
    "Given two strings, s1 and s2. Write a program to create a new string s3 made of the first char of s1, then the last char of s2, Next, the second char of s1 and second last char of s2, and so on. Any leftover chars go at the end of the result.\n",
    "\n",
    "Given:\n",
    "\n",
    "s1 = \"Abc\"\n",
    "s2 = \"Xyz\"\n",
    "Expected Output:\n",
    "\n",
    "AzbycX"
   ]
  },
  {
   "cell_type": "code",
   "execution_count": null,
   "metadata": {},
   "outputs": [],
   "source": []
  },
  {
   "attachments": {},
   "cell_type": "markdown",
   "metadata": {},
   "source": [
    "Exercise 7: String characters balance Test\n",
    "Write a program to check if two strings are balanced. For example, strings s1 and s2 are balanced if all the characters in the s1 are present in s2. The character’s position doesn’t matter.\n",
    "\n",
    "Given:\n",
    "\n",
    "Case 1:\n",
    "\n",
    "s1 = \"Yn\"\n",
    "s2 = \"PYnative\"\n",
    "Expected Output:  True\n",
    "\n",
    "\n",
    "Case 2:\n",
    "\n",
    "s1 = \"Ynf\"\n",
    "s2 = \"PYnative\"\n",
    "Expected Output:  False"
   ]
  },
  {
   "cell_type": "code",
   "execution_count": null,
   "metadata": {},
   "outputs": [],
   "source": []
  },
  {
   "attachments": {},
   "cell_type": "markdown",
   "metadata": {},
   "source": [
    "Exercise 8: Find all occurrences of a substring in a given string by ignoring the case\n",
    "Write a program to find all occurrences of “USA” in a given string ignoring the case.\n",
    "\n",
    "Given:\n",
    "\n",
    "str1 = \"Welcome to USA. usa awesome, isn't it?\"\n",
    "Expected Outcome:\n",
    "\n",
    "The USA count is: 2"
   ]
  },
  {
   "cell_type": "code",
   "execution_count": null,
   "metadata": {},
   "outputs": [],
   "source": []
  },
  {
   "attachments": {},
   "cell_type": "markdown",
   "metadata": {},
   "source": [
    "Exercise 9: Calculate the sum and average of the digits present in a string\n",
    "Given a string s1, write a program to return the sum and average of the digits that appear in the string, ignoring all other characters.\n",
    "\n",
    "Given:\n",
    "\n",
    "str1 = \"PYnative29@#8496\"\n",
    "Expected Outcome:\n",
    "\n",
    "Sum is: 38 Average is  6.333333333333333"
   ]
  },
  {
   "cell_type": "code",
   "execution_count": null,
   "metadata": {},
   "outputs": [],
   "source": []
  },
  {
   "attachments": {},
   "cell_type": "markdown",
   "metadata": {},
   "source": [
    "Exercise 10: Write a program to count occurrences of all characters within a string\n",
    "Given:\n",
    "\n",
    "str1 = \"Apple\"\n",
    "Expected Outcome:\n",
    "\n",
    "{'A': 1, 'p': 2, 'l': 1, 'e': 1}"
   ]
  },
  {
   "cell_type": "code",
   "execution_count": null,
   "metadata": {},
   "outputs": [],
   "source": []
  },
  {
   "attachments": {},
   "cell_type": "markdown",
   "metadata": {},
   "source": [
    "Exercise 11: Reverse a given string\n",
    "Given:\n",
    "\n",
    "str1 = \"PYnative\"\n",
    "Expected Output:\n",
    "\n",
    "evitanYP"
   ]
  },
  {
   "cell_type": "code",
   "execution_count": null,
   "metadata": {},
   "outputs": [],
   "source": []
  },
  {
   "attachments": {},
   "cell_type": "markdown",
   "metadata": {},
   "source": [
    "Exercise 12: Find the last position of a given substring\n",
    "Write a program to find the last position of a substring “Emma” in a given string.\n",
    "\n",
    "Given:\n",
    "\n",
    "str1 = \"Emma is a data scientist who knows Python. Emma works at google.\"\n",
    "Expected Output:\n",
    "\n",
    "Last occurrence of Emma starts at index 43"
   ]
  },
  {
   "cell_type": "code",
   "execution_count": null,
   "metadata": {},
   "outputs": [],
   "source": []
  },
  {
   "attachments": {},
   "cell_type": "markdown",
   "metadata": {},
   "source": [
    "Exercise 13: Split a string on hyphens\n",
    "Write a program to split a given string on hyphens and display each substring.\n",
    "\n",
    "Given:\n",
    "\n",
    "str1 = Emma-is-a-data-scientist\n",
    "Expected Output:\n",
    "\n",
    "Displaying each substring\n",
    "\n",
    "Emma\n",
    "is\n",
    "a\n",
    "data\n",
    "scientist"
   ]
  },
  {
   "cell_type": "code",
   "execution_count": null,
   "metadata": {},
   "outputs": [],
   "source": []
  },
  {
   "attachments": {},
   "cell_type": "markdown",
   "metadata": {},
   "source": [
    "Exercise 14: Remove empty strings from a list of strings\n",
    "Given:\n",
    "\n",
    "str_list = [\"Emma\", \"Jon\", \"\", \"Kelly\", None, \"Eric\", \"\"]\n",
    "Expected Output:\n",
    "\n",
    "Original list of sting\n",
    "['Emma', 'Jon', '', 'Kelly', None, 'Eric', '']\n",
    "\n",
    "After removing empty strings\n",
    "['Emma', 'Jon', 'Kelly', 'Eric']"
   ]
  },
  {
   "cell_type": "code",
   "execution_count": null,
   "metadata": {},
   "outputs": [],
   "source": []
  },
  {
   "attachments": {},
   "cell_type": "markdown",
   "metadata": {},
   "source": [
    "Exercise 15: Remove special symbols / punctuation from a string\n",
    "Given:\n",
    "\n",
    "str1 = \"/*Jon is @developer & musician\"\n",
    "Expected Output:\n",
    "\n",
    "\"Jon is developer musician\""
   ]
  },
  {
   "cell_type": "code",
   "execution_count": null,
   "metadata": {},
   "outputs": [],
   "source": []
  },
  {
   "attachments": {},
   "cell_type": "markdown",
   "metadata": {},
   "source": [
    "Exercise 16: Removal all characters from a string except integers\n",
    "Given:\n",
    "\n",
    "str1 = 'I am 25 years and 10 months old'\n",
    "Expected Output:\n",
    "\n",
    "2510"
   ]
  },
  {
   "cell_type": "code",
   "execution_count": null,
   "metadata": {},
   "outputs": [],
   "source": []
  },
  {
   "attachments": {},
   "cell_type": "markdown",
   "metadata": {},
   "source": [
    "Exercise 17: Find words with both alphabets and numbers\n",
    "Write a program to find words with both alphabets and numbers from an input string.\n",
    "\n",
    "Given:\n",
    "\n",
    "str1 = \"Emma25 is Data scientist50 and AI Expert\"\n",
    "Expected Output:\n",
    "\n",
    "Emma25\n",
    "scientist50"
   ]
  },
  {
   "cell_type": "code",
   "execution_count": null,
   "metadata": {},
   "outputs": [],
   "source": []
  },
  {
   "attachments": {},
   "cell_type": "markdown",
   "metadata": {},
   "source": [
    "Exercise 18: Replace each special symbol with # in the following string\n",
    "Given:\n",
    "\n",
    "str1 = '/*Jon is @developer & musician!!'\n",
    "Expected Output:\n",
    "\n",
    "##Jon is #developer # musician##"
   ]
  },
  {
   "cell_type": "code",
   "execution_count": null,
   "metadata": {},
   "outputs": [],
   "source": []
  }
 ],
 "metadata": {
  "language_info": {
   "name": "python"
  },
  "orig_nbformat": 4
 },
 "nbformat": 4,
 "nbformat_minor": 2
}
