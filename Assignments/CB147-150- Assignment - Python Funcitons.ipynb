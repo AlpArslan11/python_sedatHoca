{
 "cells": [
  {
   "cell_type": "markdown",
   "id": "386239ff",
   "metadata": {},
   "source": [
    "___\n",
    "\n",
    "<p style=\"text-align: center;\"><img src=\"https://techproeducation.com/wp-content/uploads/2022/01/Calisma-Yuzeyi-1-kopya-5-1-768x126.png\" class=\"img-fluid\" alt=\"TECHPRO\"></p>\n",
    "\n",
    "___"
   ]
  },
  {
   "cell_type": "markdown",
   "id": "aa93b12c",
   "metadata": {},
   "source": [
    "# Python Functions Assignment"
   ]
  },
  {
   "cell_type": "markdown",
   "id": "57c9c596",
   "metadata": {},
   "source": [
    "## 1. Write a Python function to find the maximum of three numbers."
   ]
  },
  {
   "cell_type": "code",
   "execution_count": 1,
   "id": "9655e704",
   "metadata": {},
   "outputs": [
    {
     "data": {
      "text/plain": [
       "15"
      ]
     },
     "execution_count": 1,
     "metadata": {},
     "output_type": "execute_result"
    }
   ],
   "source": [
    "max(9,5,15)"
   ]
  },
  {
   "cell_type": "markdown",
   "id": "d6d0667d",
   "metadata": {},
   "source": [
    "## 2. Write a Python function to sum all the numbers in a list.\n",
    "\n",
    "## Sample List : (8, 2, 3, 0, 7)\n",
    "\n",
    "## Expected Output : 20"
   ]
  },
  {
   "cell_type": "code",
   "execution_count": null,
   "id": "28fb6939",
   "metadata": {},
   "outputs": [],
   "source": []
  },
  {
   "cell_type": "markdown",
   "id": "8991e3fe",
   "metadata": {},
   "source": [
    "## 3. Write a Python function to multiply all the numbers in a list.\n",
    "## Sample List : (8, 2, 3, -1, 7)\n",
    "## Expected Output : -336\n"
   ]
  },
  {
   "cell_type": "code",
   "execution_count": null,
   "id": "325e7de4",
   "metadata": {},
   "outputs": [],
   "source": []
  },
  {
   "cell_type": "markdown",
   "id": "d0397d6a",
   "metadata": {},
   "source": [
    "## 4. Write a Python program to reverse a string.\n",
    "## Sample String : \"1234abcd\"\n",
    "## Expected Output : \"dcba4321\""
   ]
  },
  {
   "cell_type": "code",
   "execution_count": null,
   "id": "e6a79379",
   "metadata": {},
   "outputs": [],
   "source": []
  },
  {
   "cell_type": "markdown",
   "id": "c7a633ba",
   "metadata": {},
   "source": [
    "## 5. Write a Python function to calculate the factorial of a number (a non-negative integer). The function accepts the number as an argument."
   ]
  },
  {
   "cell_type": "code",
   "execution_count": 13,
   "id": "29d849d6",
   "metadata": {},
   "outputs": [],
   "source": [
    "# 1 yol\n",
    "\n",
    "def faktoryel_hesapla(sayi) :\n",
    "    if sayi < 0 :\n",
    "        print(\"Negative sayilarin faktoryeli hesaplanmaz\")\n",
    "       \n",
    "    elif sayi == 0 :                 \n",
    "        faktoryel = 1\n",
    "        return faktoryel \n",
    "    \n",
    "    else : \n",
    "        faktoryel=1   \n",
    "        for i in range(1,sayi+1) :\n",
    "            faktoryel *= i\n",
    "        return faktoryel    \n",
    "    "
   ]
  },
  {
   "cell_type": "code",
   "execution_count": 21,
   "id": "fe872e45",
   "metadata": {},
   "outputs": [],
   "source": [
    "# 2 yol   --> if sayi < 0 : return None Biz none donuyor\n",
    "\n",
    "def faktoryel_hesapla(sayi) :\n",
    "    if sayi < 0 :\n",
    "        print(\"Negative sayilar hesaplanamaz\")\n",
    "        return None\n",
    "        \n",
    "       \n",
    "    elif sayi == 0 :                 \n",
    "        faktoryel = 1\n",
    "        return  faktoryel\n",
    "    \n",
    "    else : \n",
    "        faktoryel=1   \n",
    "        for i in range(1,sayi+1) :\n",
    "            faktoryel *= i\n",
    "        return faktoryel    \n",
    "    "
   ]
  },
  {
   "cell_type": "code",
   "execution_count": 24,
   "id": "444ec92c",
   "metadata": {},
   "outputs": [],
   "source": [
    "# 3 yol   --> if sayi < 0 : return string ifade donduruyor\n",
    "\n",
    "def faktoryel_hesapla(sayi) :\n",
    "    if sayi < 0 :\n",
    "        return \"Negative sayilar hesaplanamaz\"\n",
    "        \n",
    "    elif sayi == 0 :                 \n",
    "        faktoryel = 1\n",
    "        return  faktoryel\n",
    "    \n",
    "    else : \n",
    "        faktoryel=1   \n",
    "        for i in range(1,sayi+1) :\n",
    "            faktoryel *= i\n",
    "        return faktoryel    \n",
    "    "
   ]
  },
  {
   "cell_type": "markdown",
   "id": "81f0c3d5",
   "metadata": {},
   "source": [
    "## 6. Write a Python function to check whether a number falls within a given range."
   ]
  },
  {
   "cell_type": "code",
   "execution_count": 35,
   "id": "bf393352",
   "metadata": {},
   "outputs": [],
   "source": [
    "# sayi_VarMi(sayi , aralik baslangici , aralik bitiş)\n",
    "#sayi_varmi(sayi) \n",
    "\n",
    "def sayi_VarMi(sayi,baslangic, bitis) :\n",
    "    sayi_araligi=list(range(baslangic,bitis))\n",
    "    if sayi in sayi_araligi :\n",
    "        print(f\"Aradiginiz {sayi} sayisi verdiğiniz {baslangic} ve {bitis} sayilari arasindadir  \")\n",
    "    else :\n",
    "        print(f\"Aradiginiz {sayi} sayisi verdiğiniz {baslangic} ve {bitis} sayilari arasinda değildir  \")\n",
    "  \n",
    "\n",
    "    "
   ]
  },
  {
   "cell_type": "code",
   "execution_count": 36,
   "id": "87aee1a2",
   "metadata": {},
   "outputs": [
    {
     "name": "stdout",
     "output_type": "stream",
     "text": [
      "Aradiginiz 25 sayisi verdiğiniz 26 ve 100 sayilari arasinda değildir  \n",
      "Aradiginiz 25 sayisi verdiğiniz [26, 27, 28, 29, 30, 31, 32, 33, 34, 35, 36, 37, 38, 39, 40, 41, 42, 43, 44, 45, 46, 47, 48, 49, 50, 51, 52, 53, 54, 55, 56, 57, 58, 59, 60, 61, 62, 63, 64, 65, 66, 67, 68, 69, 70, 71, 72, 73, 74, 75, 76, 77, 78, 79, 80, 81, 82, 83, 84, 85, 86, 87, 88, 89, 90, 91, 92, 93, 94, 95, 96, 97, 98, 99] arasinda değildir  \n"
     ]
    }
   ],
   "source": [
    "sayi_VarMi(25,26,100)"
   ]
  },
  {
   "cell_type": "code",
   "execution_count": null,
   "id": "f701d9dd",
   "metadata": {},
   "outputs": [],
   "source": [
    "#2. yol\n",
    "def num_check(num,range_1,range_2):\n",
    "    if num in range(range_1,range_2 + 1):\n",
    "        result = print(f\"{num} is between {range_1} and {range_2}\")\n",
    "    else:\n",
    "        result = print(f\"{num} is NOT between {range_1} and {range_2}\")\n",
    "    return result"
   ]
  },
  {
   "cell_type": "code",
   "execution_count": 16,
   "id": "4fe6c383",
   "metadata": {},
   "outputs": [],
   "source": [
    "#3.yol\n",
    "def sayi_VarMi2(sayi,baslangic, bitis) :\n",
    "    sayi_araligi=list(range(baslangic,bitis))\n",
    "    [print(f\"Aradiginiz {sayi} sayisi verdiğiniz {baslangic} ve {bitis} sayilari arasindadir\")\n",
    "      if sayi in sayi_araligi \n",
    "      else print(f\"Aradiginiz {sayi} sayisi verdiğiniz {baslangic} ve {bitis} sayilari arasinda değildir  \") ] #list comp\n",
    "\n",
    "\n"
   ]
  },
  {
   "cell_type": "code",
   "execution_count": 18,
   "id": "99ec6067",
   "metadata": {},
   "outputs": [
    {
     "name": "stdout",
     "output_type": "stream",
     "text": [
      "Aradiginiz 1 sayisi verdiğiniz 0 ve 10 sayilari arasindadir\n"
     ]
    }
   ],
   "source": [
    "sayi_VarMi2(1,0,10)"
   ]
  },
  {
   "cell_type": "markdown",
   "id": "46d9792b",
   "metadata": {},
   "source": [
    "## 7. Write a Python function that accepts a string and counts the number of upper and lower case letters.\n",
    "## Sample String : 'The quick Brow Fox'\n",
    "## Expected Output :\n",
    "### No. of Upper case characters : 3\n",
    "### No. of Lower case Characters : 12"
   ]
  },
  {
   "cell_type": "code",
   "execution_count": 145,
   "id": "5fae1acd",
   "metadata": {},
   "outputs": [
    {
     "name": "stdout",
     "output_type": "stream",
     "text": [
      "No. of Upper case characters : 0\n",
      "No. of Lower case Characters : 4\n"
     ]
    }
   ],
   "source": [
    "## 7. Write a Python function that accepts a string and counts the number of upper and lower case letters.\n",
    "## Sample String : 'The quick Brow Fox'\n",
    "## Expected Output :\n",
    "### No. of Upper case characters : 3\n",
    "### No. of Lower case Characters : 12\n",
    "def harfleri_say(cumle) :\n",
    "    \"\"\" Kullanim Sekli : harfleri_say(\"str expressions\")\n",
    "     elements except letters will be deleted \"\"\"\n",
    "    \n",
    "    if type(cumle) == str :\n",
    "        cumle=[i  for i in cumle if i.isalpha()]   \n",
    "        b_harf = []\n",
    "        k_harf = []\n",
    "    \n",
    "        [b_harf.append(i) if i.isupper() else  k_harf.append(i) for i in cumle]\n",
    "        if len(b_harf) == 0 and len(k_harf) == 0:\n",
    "            print(\"No letters! Harf yok bir daha.\")\n",
    "        else :    \n",
    "            print(f\"No. of Upper case characters : {len(b_harf)}\")\n",
    "            print(f\"No. of Lower case Characters : {len(k_harf)}\")\n",
    "        \n",
    "    else : print(\"String turunde bir data giriniz\")    \n",
    "\n",
    "\n",
    "harfleri_say(\"ğasd123.&%\")\n",
    "# ?harfleri_say --> fonksiyon kullanimi\n",
    "    "
   ]
  },
  {
   "cell_type": "code",
   "execution_count": 59,
   "id": "195a965b",
   "metadata": {},
   "outputs": [],
   "source": [
    "#1.yol\n",
    "def buyuk_kucuk_harf_say(cumle) :\n",
    "    buyuk_harf = 0\n",
    "    kucuk_harf = 0\n",
    "\n",
    "    for i in cumle :\n",
    "        \n",
    "        if 'A' <= i <= 'Z' :\n",
    "                buyuk_harf += 1\n",
    "        elif 'a' <= i <= 'z' :\n",
    "                kucuk_harf += 1   \n",
    "        else : \n",
    "            print (\"harfleri kullanin\")   \n",
    "            break \n",
    "        \n",
    "    print(f\"No. of Upper case characters : {buyuk_harf}\")\n",
    "    print(f\"No. of Lower case Characters : {kucuk_harf}\")\n",
    "\n",
    "                      "
   ]
  },
  {
   "cell_type": "code",
   "execution_count": 65,
   "id": "dabb1ee7",
   "metadata": {},
   "outputs": [],
   "source": [
    "# 2.yol \n",
    "def buyuk_kucuk_harf_say(cumle) :\n",
    "    buyuk_harf = 0\n",
    "    kucuk_harf = 0\n",
    "\n",
    "    for i in cumle :\n",
    "        if i.isupper() :\n",
    "            buyuk_harf += 1\n",
    "        elif i.islower() :\n",
    "            kucuk_harf += 1   \n",
    "        else : \n",
    "            print (\"harfleri kullanin\")\n",
    "            break    \n",
    "       \n",
    "    print(f\"No. of Upper case characters : {buyuk_harf}\")\n",
    "    print(f\"No. of Lower case Characters : {kucuk_harf}\")"
   ]
  },
  {
   "cell_type": "code",
   "execution_count": 70,
   "id": "7fb7411f",
   "metadata": {},
   "outputs": [
    {
     "name": "stdout",
     "output_type": "stream",
     "text": [
      "Büyük Harf 1\n",
      "Küçük Harf 2\n"
     ]
    }
   ],
   "source": [
    "#3.yol\n",
    "def search(x):\n",
    "    buyuk = 0\n",
    "    kucuk = 0\n",
    "\n",
    "    for i in x:\n",
    "        buyuk += i.islower()\n",
    "        kucuk += i.isupper()\n",
    "\n",
    "    print(\"Büyük Harf {0}\\nKüçük Harf {1}\".format(kucuk,buyuk))\n",
    "\n",
    "kelimeler = input(\"Bir kelime giriniz: \")\n",
    "search(kelimeler)"
   ]
  },
  {
   "cell_type": "code",
   "execution_count": 73,
   "id": "1a87813a",
   "metadata": {},
   "outputs": [
    {
     "name": "stdout",
     "output_type": "stream",
     "text": [
      "Büyük Harf 3\n",
      "Küçük Harf 2\n"
     ]
    }
   ],
   "source": [
    "# 4.yol\n",
    "# Sample String : 'The quick Brow Fox'\n",
    "kelimeler = input(\"Bir kelime giriniz: \")\n",
    "\n",
    "buyuk = sum(1 for i in kelimeler if i.isupper())         \n",
    "kucuk = sum(1 for i in kelimeler if i.islower())\n",
    "\n",
    "print(\"Büyük Harf {0}\\nKüçük Harf {1}\".format(buyuk,kucuk))"
   ]
  },
  {
   "cell_type": "code",
   "execution_count": 67,
   "id": "57209928",
   "metadata": {},
   "outputs": [
    {
     "name": "stdout",
     "output_type": "stream",
     "text": [
      "harf giriniz\n",
      "No. of Upper case characters : 1\n",
      "No. of Lower case Characters : 3\n"
     ]
    }
   ],
   "source": [
    "buyuk_kucuk_harf_say(\"asdD32yyy\")"
   ]
  },
  {
   "cell_type": "code",
   "execution_count": null,
   "metadata": {},
   "outputs": [],
   "source": []
  },
  {
   "cell_type": "markdown",
   "id": "be714b42",
   "metadata": {},
   "source": [
    "## 8. Write a Python function that takes a list and returns a new list with distinct elements from the first list.\n",
    "### Sample List : [1,2,3,3,3,3,4,5]\n",
    "### Unique List : [1, 2, 3, 4, 5]"
   ]
  },
  {
   "cell_type": "code",
   "execution_count": 2,
   "id": "ab0e34d8",
   "metadata": {},
   "outputs": [
    {
     "data": {
      "text/plain": [
       "[1, 2, 3, 5, 6, 78, 4, 9]"
      ]
     },
     "execution_count": 2,
     "metadata": {},
     "output_type": "execute_result"
    }
   ],
   "source": [
    "\n",
    "## 8. Write a Python function that takes a list and returns a new list \n",
    "# with distinct elements from the first list.\n",
    "### Sample List : [1,2,3,3,3,3,4,5]\n",
    "### Unique List : [1, 2, 3, 4, 5]\n",
    "def unique_list(* list):\n",
    "  bos_list = []\n",
    "  [bos_list.append(i) for i in list if i not in bos_list]\n",
    "  return bos_list  \n",
    "\n",
    "#-----------------------------------------------\n",
    "list =[1,2,3,3,3,4,4,5]\n",
    "unique_list(1,2,3,5,6,78,4,4,4,4,4,4,4,4,9)\n"
   ]
  },
  {
   "cell_type": "code",
   "execution_count": null,
   "id": "b3762b29",
   "metadata": {},
   "outputs": [],
   "source": [
    "## 8. Write a Python function that takes a list and returns a new list with distinct elements from the first list.\n",
    "### Sample List : [1,2,3,3,3,3,4,5]\n",
    "### Unique List : [1, 2, 3, 4, 5]\n",
    "def unique_list(x):\n",
    "    return list(set(x))\n",
    "\n",
    "#----\n",
    "Sample_List = [1,2,3,3,3,3,4,5]\n",
    "unique_list(Sample_List)"
   ]
  },
  {
   "cell_type": "code",
   "execution_count": null,
   "id": "d8acb9ed",
   "metadata": {},
   "outputs": [],
   "source": [
    "## 8. Write a Python function that takes a list and returns a new list with distinct elements from the first list.\n",
    "### Sample List : [1,2,3,3,3,3,4,5]\n",
    "### Unique List : [1, 2, 3, 4, 5]\n",
    "\n",
    "def unique_list(list) :\n",
    "      \n",
    "   bos_list=[]\n",
    "   [bos_list.append(i) for i in list if  i not in bos_list] \n",
    "   return bos_list\n",
    "   \n",
    "   \n",
    "#---\n",
    "Sample_List = [1,2,3,3,3,3,4,5]\n",
    "unique_list(Sample_List)"
   ]
  },
  {
   "cell_type": "markdown",
   "id": "b3400547",
   "metadata": {},
   "source": [
    "## 9. Write a Python function that takes a number as a parameter and checks whether the number is prime or not.\n",
    "### Note : A prime number (or a prime) is a natural number greater than 1 and that has no positive divisors other than 1 and itself."
   ]
  },
  {
   "cell_type": "code",
   "execution_count": 1,
   "id": "9179b32b",
   "metadata": {},
   "outputs": [
    {
     "name": "stdout",
     "output_type": "stream",
     "text": [
      "Asal degil\n"
     ]
    }
   ],
   "source": [
    "# 9. Write a Python function that takes a number as a parameter and \n",
    "# checks whether the number is prime or not.\n",
    "# Note : A prime number (or a prime) is a natural number greater than 1 and that has no positive divisors \n",
    "# other than 1 and itself.\n",
    "def prime_number(sayi) :\n",
    "    \n",
    "    if sayi == 1 :\n",
    "        print(\"Asal degil\")\n",
    "    for i in list(range(2,sayi+1)) :\n",
    "        if sayi % i == 0 :\n",
    "            if sayi == i :\n",
    "                print(f\"Girilen {sayi} sayisi asal sayidir\")\n",
    "                break\n",
    "            else :\n",
    "                print(f\"Girilen sayi asal değildir\")\n",
    "                break\n",
    "# ---------------------------\n",
    "prime_number(1)           "
   ]
  },
  {
   "cell_type": "code",
   "execution_count": 20,
   "id": "6cada297",
   "metadata": {},
   "outputs": [
    {
     "name": "stdout",
     "output_type": "stream",
     "text": [
      "Girilen 7 sayisi asal sayidir\n"
     ]
    }
   ],
   "source": [
    "## 9. Write a Python function that takes a number as a parameter and \n",
    "#checks whether the number is prime or not.\n",
    "### Note : A prime number (or a prime) is a natural number greater than 1 \n",
    "# and that has no positive divisors other than 1 and itself.\n",
    "\n",
    "def prime_number(number):\n",
    "    list_1 =[1,number]\n",
    "    list_2 =[]\n",
    "    i = 1\n",
    "    while i<=number:\n",
    "        if (number%i == 0) :\n",
    "            list_2.append(i)\n",
    "        i +=1\n",
    "    if list_1 == list_2 :\n",
    "        print(\"sayi asaldir\")\n",
    "    else:\n",
    "        print(\"sayi asal degildir\")       "
   ]
  },
  {
   "cell_type": "code",
   "execution_count": null,
   "metadata": {},
   "outputs": [],
   "source": [
    "## 9. Write a Python function that takes a number as a parameter and \n",
    "#checks whether the number is prime or not.\n",
    "### Note : A prime number (or a prime) is a natural number greater than 1 \n",
    "# and that has no positive divisors other than 1 and itself.\n",
    "\n",
    "def asal_mi(x):                         # sayının asal olup olmadığını döndüren fonksiyon\n",
    "    i = 2\n",
    "    if (x == 1):\n",
    "        return \"Asal değil\"       # 1'in durum\n",
    "    else:\n",
    "        while(i < x):\n",
    "            if (x % i == 0):      # sayımızın 2'den sonrası için bölünebilirlik kontrolü\n",
    "                return \"Asal değil\"  \n",
    "            i += 1\n",
    "    return print(\"asal sayidir\")\n",
    "\n",
    "number = int(input(\"Asal sayı kontrolü için bir sayı giriniz: \"))\n",
    "asal_mi(number)"
   ]
  },
  {
   "cell_type": "markdown",
   "id": "9743a8c3",
   "metadata": {},
   "source": [
    "## 10. Write a Python program to print the even numbers from a given list.\n",
    "### Sample List : [1, 2, 3, 4, 5, 6, 7, 8, 9]\n",
    "### Expected Result : [2, 4, 6, 8]"
   ]
  },
  {
   "cell_type": "code",
   "execution_count": 7,
   "id": "122c43d5",
   "metadata": {},
   "outputs": [
    {
     "name": "stdout",
     "output_type": "stream",
     "text": [
      "Even numbers from the given numbers are [2, 4, 6, 8, 12, 0]\n"
     ]
    }
   ],
   "source": [
    "## 10. Write a Python program to print the even numbers from a given list.\n",
    "### Sample List : [1, 2, 3, 4, 5, 6, 7, 8, 9]\n",
    "### Expected Result : [2, 4, 6, 8]\n",
    "\n",
    "list = [1, 2, 3, 4, 5, 6, 7, 8, 9,11,12,85,45,0]\n",
    "cift_s=[]\n",
    "for i in list :\n",
    "    if i % 2 ==0 :\n",
    "        cift_s.append(i)\n",
    "\n",
    "print(f\"Even numbers from the given numbers are {cift_s}\")"
   ]
  },
  {
   "cell_type": "code",
   "execution_count": 6,
   "id": "039185d2",
   "metadata": {},
   "outputs": [
    {
     "name": "stdout",
     "output_type": "stream",
     "text": [
      "Even numbers from the given numbers are [2, 4, 6, 8] \n"
     ]
    }
   ],
   "source": [
    "## 10. Write a Python program to print the even numbers from a given list.\n",
    "### Sample List : [1, 2, 3, 4, 5, 6, 7, 8, 9]\n",
    "### Expected Result : [2, 4, 6, 8]\n",
    "list = [1, 2, 3, 4, 5, 6, 7, 8, 9]\n",
    "evens = []\n",
    "\n",
    "[evens.append(i) for i in list if i % 2 == 0] \n",
    "print(f\"Even numbers from the given numbers are {evens} \")        "
   ]
  },
  {
   "attachments": {},
   "cell_type": "markdown",
   "id": "408616d5",
   "metadata": {},
   "source": [
    "# Lambda filter kullanimi"
   ]
  },
  {
   "cell_type": "code",
   "execution_count": null,
   "id": "4244afb6",
   "metadata": {},
   "outputs": [],
   "source": [
    " ## 10. Write a Python program to print the even numbers from a given list.\n",
    "### Sample List : [1, 2, 3, 4, 5, 6, 7, 8, 9]\n",
    "### Expected Result : [2, 4, 6, 8]\n",
    "liste = [1, 2, 3, 4, 5, 6, 7, 8, 9,11,12,85,45,0]\n",
    "list(filter(lambda i: i %2 == 0 ,liste ))\n",
    "\n",
    "# list(filter(lambda i : i % 2 == 0, Sample_List)) "
   ]
  },
  {
   "cell_type": "markdown",
   "id": "6c80fb99",
   "metadata": {},
   "source": [
    "## 11. Write a Python function to check whether a number is \"Perfect\" or not.\n",
    "### According to Wikipedia : In number theory, a perfect number is a positive integer that is equal to the sum of its proper positive divisors, that is, the sum of its positive divisors excluding the number itself (also known as its aliquot sum). Equivalently, a perfect number is a number that is half the sum of all of its positive divisors (including itself).\n",
    "### Example : The first perfect number is 6, because 1, 2, and 3 are its proper positive divisors, and 1 + 2 + 3 = 6. Equivalently, the number 6 is equal to half the sum of all its positive divisors: ( 1 + 2 + 3 + 6 ) / 2 = 6. The next perfect number is 28 = 1 + 2 + 4 + 7 + 14. This is followed by the perfect numbers 496 and 8128."
   ]
  },
  {
   "cell_type": "code",
   "execution_count": null,
   "id": "39ffa501",
   "metadata": {},
   "outputs": [],
   "source": [
    "## 11. Write a Python function to check whether a number is \"Perfect\" or not.\n",
    "\n",
    "def perfect_number(x) :\n",
    "\n",
    "    toplam = 0\n",
    "    for i in range(1,x) :\n",
    "        if x % i == 0 :\n",
    "            toplam += i    \n",
    "\n",
    "    if x == toplam :\n",
    "        print(\"sayi mukemmel sayidir\")\n",
    "    else : print(\"mukemmel sayi değildir\")    \n",
    "\n",
    "#---\n",
    "perfect_number(15)\n"
   ]
  },
  {
   "cell_type": "code",
   "execution_count": null,
   "id": "b7f4e907",
   "metadata": {},
   "outputs": [],
   "source": [
    "## 11. Write a Python function to check whether a number is \"Perfect\" or not.\n",
    "\n",
    "def perfect_number(x) :\n",
    "    toplam = sum(list(filter(lambda i: x % i == 0 ,range(1,x) )))\n",
    "\n",
    "    print(\"sayi mukemmel sayidir\") if x == toplam  else print(\"mukemmel sayi değildir\")\n",
    "\n",
    "   \n",
    "#---\n",
    "perfect_number(5)    "
   ]
  },
  {
   "cell_type": "code",
   "execution_count": null,
   "id": "4a0b7809",
   "metadata": {},
   "outputs": [],
   "source": [
    "## 11. Write a Python function to check whether a number is \"Perfect\" or not.\n",
    "\n",
    "x=6 \n",
    "toplam = sum(list(filter(lambda i: x % i == 0 ,range(1,x) ))) \n",
    "\"sayi mukemmel sayidir\" if x == toplam  else \"mukemmel sayi değildir\" # print kullanmdan cikti veriyor\n"
   ]
  },
  {
   "cell_type": "markdown",
   "id": "795dc6b0",
   "metadata": {},
   "source": [
    "## 12. Write a Python function that checks whether a passed string is a palindrome or not.\n",
    "### Note: A palindrome is a word, phrase, or sequence that reads the same backward as forward, e.g., madam or nurses run."
   ]
  },
  {
   "cell_type": "code",
   "execution_count": null,
   "id": "dd3ceb6f",
   "metadata": {},
   "outputs": [],
   "source": [
    "def palindrome(kelime) :\n",
    "    y= kelime[::-1]\n",
    "    if kelime==y:\n",
    "        return \"kelime palindrome'dur\"\n",
    "    else:\n",
    "        return \"kelime palindrome degildir\"\n",
    "    \n",
    "palindrome(\"kazak\")\n",
    "palindrome(\"ey edip pide ye\")"
   ]
  },
  {
   "attachments": {
    "250px-Pascal's_triangle_5.svg.png": {
     "image/png": "[encoded data removed]"
    }
   },
   "cell_type": "markdown",
   "id": "1e155158",
   "metadata": {},
   "source": [
    "## 13. Write a Python function that prints out the first n rows of Pascal's triangle.\n",
    "### Note : Pascal's triangle is an arithmetic and geometric figure first imagined by Blaise Pascal.\n",
    "### Sample Pascal's triangle :\n",
    "### Each number is the two numbers above it added together\n",
    "\n",
    "![250px-Pascal's_triangle_5.svg.png](attachment:250px-Pascal's_triangle_5.svg.png)"
   ]
  },
  {
   "cell_type": "code",
   "execution_count": 20,
   "id": "a0defda3",
   "metadata": {},
   "outputs": [
    {
     "name": "stdout",
     "output_type": "stream",
     "text": [
      "[1]\n",
      "[1, 1]\n",
      "[1, 2, 1]\n",
      "[1, 3, 3, 1]\n",
      "[1, 4, 6, 4, 1]\n",
      "[1, 5, 10, 10, 5, 1]\n",
      "[1, 6, 15, 20, 15, 6, 1]\n",
      "[1, 7, 21, 35, 35, 21, 7, 1]\n",
      "[1, 8, 28, 56, 70, 56, 28, 8, 1]\n",
      "[1, 9, 36, 84, 126, 126, 84, 36, 9, 1]\n"
     ]
    }
   ],
   "source": [
    "pascal =[[1],[1,1]]\n",
    "\n",
    "for i in range(2,10) :\n",
    "    liste = [1]\n",
    "    for j in range(1,i) :\n",
    "            liste.append(pascal[i-1][j-1] + pascal[i-1][j])\n",
    "    liste.append(1)\n",
    "    pascal.append(liste)\n",
    "   \n",
    "# print(pascal)\n",
    "for i in pascal :\n",
    "     print(i)\n",
    "      "
   ]
  },
  {
   "cell_type": "markdown",
   "id": "b89febf6",
   "metadata": {},
   "source": [
    "## 14. Write a Python function to check whether a string is a pangram or not.\n",
    "### Note : Pangrams are words or sentences containing every letter of the alphabet at least once.\n",
    "### For example : \"The quick brown fox jumps over the lazy dog\""
   ]
  },
  {
   "cell_type": "code",
   "execution_count": 24,
   "id": "2a8ffc45",
   "metadata": {},
   "outputs": [
    {
     "ename": "AttributeError",
     "evalue": "'list' object has no attribute 'intersection'",
     "output_type": "error",
     "traceback": [
      "\u001b[1;31m---------------------------------------------------------------------------\u001b[0m",
      "\u001b[1;31mAttributeError\u001b[0m                            Traceback (most recent call last)",
      "Cell \u001b[1;32mIn[24], line 6\u001b[0m\n\u001b[0;32m      4\u001b[0m set_alf \u001b[39m=\u001b[39m [\u001b[39m\"\u001b[39m\u001b[39ma\u001b[39m\u001b[39m\"\u001b[39m,\u001b[39m\"\u001b[39m\u001b[39mb\u001b[39m\u001b[39m\"\u001b[39m,\u001b[39m\"\u001b[39m\u001b[39mc\u001b[39m\u001b[39m\"\u001b[39m,\u001b[39m\"\u001b[39m\u001b[39md\u001b[39m\u001b[39m\"\u001b[39m]\n\u001b[0;32m      5\u001b[0m set_kul \u001b[39m=\u001b[39m [\u001b[39m\"\u001b[39m\u001b[39ma\u001b[39m\u001b[39m\"\u001b[39m,\u001b[39m\"\u001b[39m\u001b[39mb\u001b[39m\u001b[39m\"\u001b[39m,\u001b[39m\"\u001b[39m\u001b[39mc\u001b[39m\u001b[39m\"\u001b[39m]\n\u001b[1;32m----> 6\u001b[0m \u001b[39mprint\u001b[39m(\u001b[39mlist\u001b[39m(set_alf\u001b[39m.\u001b[39;49mintersection(set_kul)))\n",
      "\u001b[1;31mAttributeError\u001b[0m: 'list' object has no attribute 'intersection'"
     ]
    }
   ],
   "source": [
    "set1={1,2,3,4}\n",
    "set2 ={1,2,3,4}\n",
    "#print(set1.intersection(set2))\n",
    "set_alf = [\"a\",\"b\",\"c\",\"d\"]\n",
    "set_kul = [\"a\",\"b\",\"c\"]\n",
    "print(list(set_alf.intersection(set_kul)))"
   ]
  },
  {
   "cell_type": "code",
   "execution_count": 8,
   "id": "ced839d2",
   "metadata": {},
   "outputs": [
    {
     "name": "stdout",
     "output_type": "stream",
     "text": [
      "Yes\n"
     ]
    }
   ],
   "source": [
    "import string\n",
    "alphabet = set(string.ascii_lowercase)\n",
    " \n",
    "def ispangram(string):\n",
    "    return set(string.lower()) >= alphabet\n",
    "     \n",
    "# Driver code\n",
    "string = \"The quick brown fox jumps over the lazy dog\"\n",
    "if(ispangram(string) == True):\n",
    "    print(\" girdiğiniz cumle pangramdır\")\n",
    "else:\n",
    "    print(\"girdiginiz kelime pangram degildi\")\n",
    "\n",
    "    "
   ]
  },
  {
   "cell_type": "markdown",
   "id": "d45e3b07",
   "metadata": {},
   "source": [
    "## 15. Write a Python program that accepts a hyphen-separated sequence of words as input and prints the words in a hyphen-separated sequence after sorting them alphabetically.\n",
    "### Sample Items : green-red-yellow-black-white\n",
    "### Expected Result : black-green-red-white-yellow"
   ]
  },
  {
   "cell_type": "code",
   "execution_count": null,
   "id": "131ce2fd",
   "metadata": {},
   "outputs": [],
   "source": []
  },
  {
   "cell_type": "markdown",
   "id": "12d7472a",
   "metadata": {},
   "source": [
    "## 16. Write a Python function to create and print a list where the values are the squares of numbers between 1 and 30 (both included)."
   ]
  },
  {
   "cell_type": "code",
   "execution_count": null,
   "id": "76dfd6cd",
   "metadata": {},
   "outputs": [],
   "source": []
  },
  {
   "cell_type": "markdown",
   "id": "5f116f5d",
   "metadata": {},
   "source": [
    "## 17. Write a Python program to create a chain of function decorators (bold, italic, underline etc.).\n"
   ]
  },
  {
   "cell_type": "code",
   "execution_count": null,
   "id": "17ad2f2a",
   "metadata": {},
   "outputs": [],
   "source": []
  },
  {
   "cell_type": "markdown",
   "id": "e44f734a",
   "metadata": {},
   "source": [
    "## 18. Write a Python program to execute a string containing Python code."
   ]
  },
  {
   "cell_type": "code",
   "execution_count": null,
   "id": "a635119a",
   "metadata": {},
   "outputs": [],
   "source": []
  },
  {
   "cell_type": "markdown",
   "id": "323501dc",
   "metadata": {},
   "source": [
    "## 19. Write a Python program to access a function inside a function."
   ]
  },
  {
   "cell_type": "code",
   "execution_count": null,
   "id": "9272d6d6",
   "metadata": {},
   "outputs": [],
   "source": []
  },
  {
   "cell_type": "markdown",
   "id": "ad42d26f",
   "metadata": {},
   "source": [
    "## 20. Write a Python program to detect the number of local variables declared in a function.\n",
    "### Sample Output:\n",
    "### 3"
   ]
  },
  {
   "cell_type": "code",
   "execution_count": null,
   "id": "d7fff293",
   "metadata": {},
   "outputs": [],
   "source": []
  },
  {
   "cell_type": "markdown",
   "id": "d9df7ef3",
   "metadata": {},
   "source": [
    "## 21. Write a Python program that invokes a function after a specified period of time.\n",
    "### Sample Output:\n",
    "### Square root after specific miliseconds:\n",
    "### 4.0\n",
    "### 10.0\n",
    "### 158.42979517754858 (edited) "
   ]
  },
  {
   "cell_type": "code",
   "execution_count": null,
   "id": "34f77a91",
   "metadata": {},
   "outputs": [],
   "source": []
  },
  {
   "cell_type": "markdown",
   "id": "49c0309b",
   "metadata": {},
   "source": [
    "___\n",
    "\n",
    "<p style=\"text-align: center;\"><img src=\"https://techproeducation.com/wp-content/uploads/2022/01/Calisma-Yuzeyi-1-kopya-5-1-768x126.png\" class=\"img-fluid\" alt=\"TECHPRO\"></p>\n",
    "\n",
    "___"
   ]
  }
 ],
 "metadata": {
  "kernelspec": {
   "display_name": "Python 3",
   "language": "python",
   "name": "python3"
  },
  "language_info": {
   "codemirror_mode": {
    "name": "ipython",
    "version": 3
   },
   "file_extension": ".py",
   "mimetype": "text/x-python",
   "name": "python",
   "nbconvert_exporter": "python",
   "pygments_lexer": "ipython3",
   "version": "3.11.2"
  }
 },
 "nbformat": 4,
 "nbformat_minor": 5
}
