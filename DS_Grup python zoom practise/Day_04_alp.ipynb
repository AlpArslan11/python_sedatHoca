{
 "cells": [
  {
   "cell_type": "markdown",
   "metadata": {},
   "source": [
    "# Question 14\n",
    "\n",
    "### **Question:**\n",
    "\n",
    "> **_Write a program that accepts a sentence and calculate the number of upper case letters and lower case letters._**\n",
    "\n",
    "> **_Suppose the following input is supplied to the program:_**\n",
    "\n",
    "\n",
    "Hello world!\n",
    "\n",
    "\n",
    "> **_Then, the output should be:_**\n",
    "\n",
    "\n",
    "UPPER CASE 1\n",
    "\n",
    "LOWER CASE 9\n",
    "\n",
    "\n",
    "---\n",
    "\n",
    "### Hints:\n",
    "\n",
    "> **_In case of input data being supplied to the question, it should be assumed to be a console input._**\n",
    "\n",
    "---\n",
    "\n",
    "\n",
    "\n",
    "**Solutions:**"
   ]
  },
  {
   "cell_type": "code",
   "execution_count": 1,
   "metadata": {},
   "outputs": [
    {
     "name": "stdout",
     "output_type": "stream",
     "text": [
      "UPPER CASE -->  3\n",
      "LOWER CASE --> 6 \n"
     ]
    }
   ],
   "source": [
    "# BENİM YAPTIGIM\n",
    "\"Ali Eve Gel 3 upper 6 lower\"\n",
    "\"Ali-Eve-Gel.   --> 3büyük 6 kucuk 3 tane HARF OLMAYAN\"\n",
    "k_input = input(\"Lutfen bir cumle giriniz\")\n",
    "\n",
    "kucuk_harfler = [i for i in k_input if i.islower()]\n",
    "buyuk_harfler = [i for i in k_input if i.isupper()]\n",
    "\n",
    "\n",
    "print(f\"UPPER CASE -->  {len(buyuk_harfler)}\\nLOWER CASE --> {len(kucuk_harfler)} \")"
   ]
  },
  {
   "cell_type": "code",
   "execution_count": 12,
   "metadata": {},
   "outputs": [
    {
     "name": "stdout",
     "output_type": "stream",
     "text": [
      "UPPER CASE 3\n",
      "LOWER CASE 6\n"
     ]
    }
   ],
   "source": [
    "word = input()\n",
    "upper, lower = 0, 0\n",
    "\n",
    "for i in word:\n",
    "    if \"a\" <= i and i <= \"z\":\n",
    "        lower += 1\n",
    "    if \"A\" <= i and i <= \"Z\":\n",
    "        upper += 1\n",
    "\n",
    "print(\"UPPER CASE {0}\\nLOWER CASE {1}\".format(upper, lower))"
   ]
  },
  {
   "cell_type": "markdown",
   "metadata": {},
   "source": [
    "**OR**"
   ]
  },
  {
   "cell_type": "code",
   "execution_count": 7,
   "metadata": {},
   "outputs": [
    {
     "name": "stdout",
     "output_type": "stream",
     "text": [
      "UPPER CASE 3\n",
      "LOWER CASE 6\n"
     ]
    }
   ],
   "source": [
    "word = input()\n",
    "upper, lower = 0, 0\n",
    "\n",
    "for i in word:\n",
    "    lower += i.islower()\n",
    "    upper += i.isupper()\n",
    "\n",
    "print(\"UPPER CASE {0}\\nLOWER CASE {1}\".format(upper, lower))"
   ]
  },
  {
   "cell_type": "markdown",
   "metadata": {},
   "source": [
    "**OR**"
   ]
  },
  {
   "cell_type": "code",
   "execution_count": 14,
   "metadata": {},
   "outputs": [
    {
     "name": "stdout",
     "output_type": "stream",
     "text": [
      "UPPER CASE 3\n",
      "LOWER CASE 6\n"
     ]
    }
   ],
   "source": [
    "word = input()\n",
    "upper = sum(1 for i in word if i.isupper())\n",
    "            \n",
    "# sum function cumulatively sum up 1's if the condition is True\n",
    "lower = sum(1 for i in word if i.islower())\n",
    "\n",
    "print(\"UPPER CASE {0}\\nLOWER CASE {1}\".format(upper, lower))"
   ]
  },
  {
   "cell_type": "markdown",
   "metadata": {},
   "source": [
    "**OR**"
   ]
  },
  {
   "cell_type": "code",
   "execution_count": null,
   "metadata": {},
   "outputs": [],
   "source": [
    "# solution by Amitewu\n",
    "\n",
    "string = input(\"Enter the sentense\")\n",
    "upper = 0\n",
    "lower = 0\n",
    "for x in string:\n",
    "    if x.isupper() == True:\n",
    "        upper += 1\n",
    "    if x.islower() == True:\n",
    "        lower += 1\n",
    "\n",
    "print(\"UPPER CASE: \", upper)\n",
    "print(\"LOWER CASE: \", lower)"
   ]
  },
  {
   "cell_type": "markdown",
   "metadata": {},
   "source": [
    "---\n",
    "\n",
    "# Question 15\n",
    "\n",
    "### **Question:**\n",
    "\n",
    "> **_Write a program that computes the value of a+aa+aaa+aaaa with a given digit as the value of a._**\n",
    "\n",
    "> **_Suppose the following input is supplied to the program:_**\n",
    "\n",
    "\n",
    "9\n",
    "\n",
    "\n",
    "> **_Then, the output should be:_**\n",
    "\n",
    "\n",
    "11106\n",
    "\n",
    "\n",
    "---\n",
    "\n",
    "### Hints:\n",
    "\n",
    "> **_In case of input data being supplied to the question, it should be assumed to be a console input._**\n",
    "\n",
    "---\n",
    "\n",
    "\n",
    "\n",
    "**Solutions:**"
   ]
  },
  {
   "cell_type": "code",
   "execution_count": 15,
   "metadata": {},
   "outputs": [
    {
     "name": "stdout",
     "output_type": "stream",
     "text": [
      "liste ['9', '99', '999', '9999']\n",
      "11106\n"
     ]
    }
   ],
   "source": [
    "\n",
    "# ---------->>>>>>>> BENIM COZUM\n",
    "\n",
    "k_input = input(\"sayi girin\")\n",
    "liste = []\n",
    "for i in range(1,5) :\n",
    "    liste.append(k_input*i)\n",
    "# print(\"liste\" ,liste) range icine (4) yazinca 0 oalrak bos ekliyor\n",
    "print(sum(int(i) for i in liste))  "
   ]
  },
  {
   "cell_type": "code",
   "execution_count": 18,
   "metadata": {},
   "outputs": [
    {
     "name": "stdout",
     "output_type": "stream",
     "text": [
      "1111111101\n"
     ]
    }
   ],
   "source": [
    "# ---------->>>>>>>> BENIM COZUM SORUYU YANLIS ANLADİM\n",
    "# girilen sayi kadar oluşan herbir basamağı toplayın\n",
    "k_input = input(\"sayi girin\")\n",
    "liste = []\n",
    "for i in range(1,int(k_input)+1) :\n",
    "    liste.append(k_input*i)\n",
    "\n",
    "print(sum(int(i) for i in liste))        \n"
   ]
  },
  {
   "cell_type": "code",
   "execution_count": 12,
   "metadata": {},
   "outputs": [
    {
     "name": "stdout",
     "output_type": "stream",
     "text": [
      "9999\n",
      "11106\n"
     ]
    }
   ],
   "source": [
    "a = input()\n",
    "total, tmp = 0, str()  # initialing an integer and empty string\n",
    "\n",
    "for i in range(4):\n",
    "    tmp += a  # concatenating 'a' to 'tmp'\n",
    "    total += int(tmp)  # converting string type to integer type\n",
    "\n",
    "print(tmp)\n",
    "#9 +99 +999+9999\n",
    "print(total)"
   ]
  },
  {
   "attachments": {},
   "cell_type": "markdown",
   "metadata": {},
   "source": [
    "**OR**\n",
    "\n",
    "```python\n",
    "a = input()\n",
    "total = int(a) + int(2*a) + int(3*a) + int(4*a)  # N*a=Na, for example  a=\"23\", 2*a=\"2323\",3*a=\"232323\"\n",
    "print(total)\n",
    "```"
   ]
  }
 ],
 "metadata": {
  "kernelspec": {
   "display_name": "Python 3",
   "language": "python",
   "name": "python3"
  },
  "language_info": {
   "codemirror_mode": {
    "name": "ipython",
    "version": 3
   },
   "file_extension": ".py",
   "mimetype": "text/x-python",
   "name": "python",
   "nbconvert_exporter": "python",
   "pygments_lexer": "ipython3",
   "version": "3.11.2"
  },
  "vscode": {
   "interpreter": {
    "hash": "562b4dc50e94c0c24759cc517e955833adbe31bddbf34cfe5098f5955523ff4d"
   }
  }
 },
 "nbformat": 4,
 "nbformat_minor": 4
}
