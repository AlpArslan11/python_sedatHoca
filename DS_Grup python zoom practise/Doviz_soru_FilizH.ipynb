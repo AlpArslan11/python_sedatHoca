{
 "cells": [
  {
   "attachments": {},
   "cell_type": "markdown",
   "metadata": {},
   "source": [
    "A.Müşterinin ne kadar döviz aldığını hesaplayan bir program yazınız.\n",
    "avro. Program, aşağıdaki para birimleri için tutarı hesaplar:\n",
    "• Amerikan Doları\n",
    "• GB pound\n",
    "• Yen\n",
    "Yalnızca bir tam sayı Euro bozdurulabilir.\n",
    "giriş ve çıkışından emin olun.\n",
    "Kullanılacak tutar (yalnızca tam sayılar): 200\n",
    "Bunun için 247.69 dolar alacaksınız. (Değiş tokuş 1.23843)\n",
    "Bunun için 176,92 Pound alacaksınız. (fiyat 0,88459)\n",
    "Bunun için 26929,42 Yen alacaksınız. (Değiş tokuş 134.64711)\n",
    "B. Müşteri değişim için işlem masraflarını ödemek zorundadır. Bunlar %1,5'a tekabül ediyor ve\n",
    "işlem başına minimum 2 Euro ve işlem başına maksimum 15 Euro. bunun için yaz\n",
    "işlem maliyetlerini, değiştirilecek tutara dayalı bir fonksiyon olarak hesaplayın\n",
    "euro maliyetleri hesaplar ve iade eder (iade edilir).\n",
    "Programın girdi ve çıktısının aşağıdaki gibi olduğundan emin olun:\n",
    "Kullanılacak tutar (yalnızca tam sayılar): 100\n",
    "İşlem maliyeti 2,0 Euro'dur.\n",
    "Bu nedenle 98 Euro'yu sizin için çeviriyoruz.\n",
    "Bunun için 121 dolar alacaksınız. (Değiş tokuş 1.23843)\n",
    "Bunun için 87 Pound alacaksınız. (fiyat 0,88459)\n",
    "Bunun için 13195 Yen alacaksınız. (Değiş tokuş 134.64711)\n",
    "12:40\n",
    "bu da sorusu hemen yapistiri verin diye"
   ]
  },
  {
   "cell_type": "code",
   "execution_count": null,
   "metadata": {},
   "outputs": [],
   "source": [
    "def bozdurulacak_parayi_hesaplama(avro,kur):\n",
    "       return round(avro*kur,2)\n",
    "\n",
    "def komisyon_hesaplama(avro):\n",
    "       min_ucret=2\n",
    "       max_ucret=15\n",
    "       komisyon= 0.015 * avro\n",
    "       if komisyon < min_ucret:\n",
    "              komisyon = min_ucret\n",
    "       if komisyon > max_ucret:\n",
    "              komisyon = max_ucret\n",
    "       return round(komisyon,2)\n",
    "\n",
    "dolar_kur = 1.23843\n",
    "pound_kur = 0.88459\n",
    "yen_kur = 134.64711\n",
    "\n",
    "avro=int(input(\"bozdurmak istediginiz miktari tam sayi olarak girin:\"))\n",
    "bozdurma_ucreti=komisyon_hesaplama(avro)\n",
    "bozdurulacak_kisim= avro - bozdurma_ucreti\n",
    "\n",
    "print(f\"Bozdurma ucreti: {bozdurma_ucreti}\")\n",
    "print(f\"Alacaginiz miktar:{bozdurulacak_kisim} \")\n",
    "print(f\"alacaginiz miktar(dolar):{bozdurulacak_parayi_hesaplama(bozdurulacak_kisim,dolar_kur)} dolar\")\n",
    "print(f\"alacaginiz miktar(pound):{bozdurulacak_parayi_hesaplama(bozdurulacak_kisim,pound_kur)}pound\")\n",
    "print(f\"alacaginiz miktar(yen):{bozdurulacak_parayi_hesaplama(bozdurulacak_kisim,yen_kur)} yen.\")"
   ]
  }
 ],
 "metadata": {
  "language_info": {
   "name": "python"
  },
  "orig_nbformat": 4
 },
 "nbformat": 4,
 "nbformat_minor": 2
}
