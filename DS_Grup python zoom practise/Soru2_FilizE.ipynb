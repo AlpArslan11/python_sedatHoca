{
 "cells": [
  {
   "attachments": {},
   "cell_type": "markdown",
   "metadata": {},
   "source": [
    "Soru:2\n",
    "Öğretmenlerin sınav sonuçlarını analiz etmesine yardımcı olacak bir uygulama yazın. bu\n",
    "uygulama önce öğretmenin girmek istediği basamak sayısını sorar. Bundan sonra öğretmen yürütür\n",
    "sayıları girin. Ardından program basamak sayısını, ortalama notu, sayıyı gösterir.\n",
    "geçmek ve en yüksek not.\n",
    "Aşağıda bu uygulamanın girdi/çıktısına bir örnek verilmiştir.\n",
    "Kaç basamak girmek istiyorsunuz? 0\n",
    "Basamak sayısı 0'dan büyük olmalıdır!\n",
    "Kaç basamak girmek istiyorsunuz? 12\n",
    "1. sınıf öğrencisi: 5.8\n",
    "2. sınıf öğrencisi: 9.1\n",
    "3. sınıf öğrencisi: 3.5\n",
    "4. sınıf öğrencisi: 6\n",
    "5. Sınıf Öğrencisi: 5.1\n",
    "Öğrenci 6. sınıf: 8\n",
    "7. sınıf öğrencisi: 7.2\n",
    "8. sınıf öğrencisi: 4.9\n",
    "9. sınıf öğrencisi: 9.3\n",
    "10. sınıf öğrencisi: 7.7\n",
    "Öğrenci 11. sınıf: 5\n",
    "12. Sınıf Öğrencisi: 6.2\n",
    "Basamak sayısı : 12\n",
    "Ortalama not: 6.5\n",
    "Geçiş sayısı: 8\n",
    "En yüksek not: 9.3\n",
    "yol haritası\n",
    "1. Kullanıcılara basamak sayısını sorun ve okuyun. Bu sayının 0'dan büyük olup olmadığını test edin. Değilse,\n",
    "girilen sayı 0'dan büyük olana kadar giriş istemeye devam edin.\n",
    "2. Numarayı okuduktan sonra, numaraları saklamak için bir liste oluşturun ve ilan edin.\n",
    "3. Tüm öğrencilerin notlarını girin. Basamak sayısı, elbette, soru sayısını belirler.\n",
    "4. Ardından puan sayısını, ortalama puanı, geçiş sayısını ve\n",
    "en yüksek not.\n",
    "Bu uygulamanın ana yöntemi kullanılarak çok daha basit hale getirilebilir.\n",
    "üçlü bir yöntem. Aşağıdaki adım adım planı izleyin ve ipuçlarını kullanın.\n",
    "Adım adım plan devam ediyor\n",
    "1. Bir ondalık sayı dizisinin ortalamasını döndüren bir getAverage yöntemi yazın\n",
    "İadeler.\n",
    "2. Bir dizideki sayıların sayısını >= 5.5 olarak döndüren bir getNumberSufficient yöntemi yazın.\n",
    "ondalık sayıları döndürür.\n",
    "3. Bir ondalık sayı dizisinin en yüksek sayısını döndüren getHighestNumber yöntemini yazın\n",
    "İadeler.\n",
    "4. Ardından, istenen çıktıyı oluşturacak şekilde main'inizi ayarlayın\n",
    "yukarıdaki yöntemlerden yapılmıştır. Main'inizdeki kod artık daha kısa olmalı ve\n",
    "anlaşılması daha kolay."
   ]
  },
  {
   "cell_type": "code",
   "execution_count": null,
   "metadata": {},
   "outputs": [],
   "source": []
  }
 ],
 "metadata": {
  "language_info": {
   "name": "python"
  },
  "orig_nbformat": 4
 },
 "nbformat": 4,
 "nbformat_minor": 2
}
