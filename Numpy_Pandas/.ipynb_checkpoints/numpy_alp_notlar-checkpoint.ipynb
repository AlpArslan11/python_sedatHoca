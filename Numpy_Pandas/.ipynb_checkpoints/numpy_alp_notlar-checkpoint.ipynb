{
 "cells": [
  {
   "cell_type": "code",
   "execution_count": null,
   "id": "5f82118f",
   "metadata": {},
   "outputs": [],
   "source": [
    "# vector --> tek satırlı array'ler\n",
    "# matrix rows x columns bulunan arrayler. nested gibi\n",
    "# arraylerde vectorel işemleri (ayni indexe sahip elementleri bir biri ile işleme sokmak) rahatlıkla yapariz.\n",
    "\n",
    "# Broadcasting \n",
    "\n",
    "\n",
    "#axis 0 --> satırlara gore islem yapma. altalta\n",
    "#axis 1 --> sutunlara gore islem yapma -> yanyana\n",
    "\n",
    "\n",
    "#  ---> ARRAY İCERİSİNE AYNI TURDE ELEMAN KABUL EDER. \n",
    "#  ICERISINDE FLOAT VE INT ELEMENT OLSA DA BIZE FLOAT OLARAK VERİR\n",
    "\n"
   ]
  }
 ],
 "metadata": {
  "kernelspec": {
   "display_name": "Python 3 (ipykernel)",
   "language": "python",
   "name": "python3"
  },
  "language_info": {
   "codemirror_mode": {
    "name": "ipython",
    "version": 3
   },
   "file_extension": ".py",
   "mimetype": "text/x-python",
   "name": "python",
   "nbconvert_exporter": "python",
   "pygments_lexer": "ipython3",
   "version": "3.10.9"
  }
 },
 "nbformat": 4,
 "nbformat_minor": 5
}
