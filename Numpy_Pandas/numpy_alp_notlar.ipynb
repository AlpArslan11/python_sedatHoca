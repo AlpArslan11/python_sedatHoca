{
 "cells": [
  {
   "cell_type": "code",
   "execution_count": null,
   "id": "5f82118f",
   "metadata": {},
   "outputs": [],
   "source": [
    "# vector --> tek satırlı array'ler\n",
    "# matrix rows x columns bulunan arrayler. nested gibi\n",
    "# arraylerde vectorel işemleri (ayni indexe sahip elementleri bir biri ile işleme sokmak) rahatlıkla yapariz.\n",
    "\n",
    "# Broadcasting \n",
    "\n",
    "\n",
    "#axis 0 --> satırlara gore islem yapma. altalta\n",
    "#axis 1 --> sutunlara gore islem yapma -> yanyana\n",
    "\n",
    "\n",
    "#  ---> ARRAY İCERİSİNE AYNI TURDE ELEMAN KABUL EDER. \n",
    "#  ICERISINDE FLOAT VE INT ELEMENT OLSA DA BIZE FLOAT OLARAK VERİR\n",
    "\n",
    "# !pip install numpy yazarak numpy yukleriz ardından -import numpy as np- olarak kullaniriz.\n",
    "# np.array() --> array olusturma yontemi. içine list ya da istediğimiz elemanlari yazarak olusturabiliriz.\n",
    "# array_adi.shape --> bize seklini verir\n",
    "# array_adi.reshape(satir, sutun) --> yeniden arrayi şekillendirmek için kullanilir.\n",
    "# array_adi.reshape(-1)\n",
    "\n",
    "#ndmin istedigin boyuta ceviriyor, ndim ise kac boyutlu oldugunu veriyor\n",
    "# n = adet\n",
    "\n",
    "# dim= dimention\n"
   ]
  },
  {
   "cell_type": "code",
   "execution_count": 1,
   "id": "c48b6bd2",
   "metadata": {},
   "outputs": [],
   "source": [
    "import matplotlib.pyplot as plt"
   ]
  },
  {
   "cell_type": "code",
   "execution_count": null,
   "id": "cce36f97",
   "metadata": {},
   "outputs": [],
   "source": []
  }
 ],
 "metadata": {
  "kernelspec": {
   "display_name": "Python 3 (ipykernel)",
   "language": "python",
   "name": "python3"
  },
  "language_info": {
   "codemirror_mode": {
    "name": "ipython",
    "version": 3
   },
   "file_extension": ".py",
   "mimetype": "text/x-python",
   "name": "python",
   "nbconvert_exporter": "python",
   "pygments_lexer": "ipython3",
   "version": "3.10.9"
  }
 },
 "nbformat": 4,
 "nbformat_minor": 5
}
