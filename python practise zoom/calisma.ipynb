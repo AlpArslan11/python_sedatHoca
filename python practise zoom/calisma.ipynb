{
 "cells": [
  {
   "cell_type": "code",
   "execution_count": null,
   "metadata": {},
   "outputs": [],
   "source": [
    "\"\"\" 3-) Kullanicinin girdiği iki sayi birbirine eşit ise ekrana “5” sonucu yazdiracak, \n",
    "eşit değil ise 25 defa “eşit değil” sonucunu ekrana yazdiran python kodlarini yaziniz? \n",
    "(while döngüsü ile)\"\"\"\n",
    "\n",
    "sayi_1 = input(\"1.sayiyi giriniz\")\n",
    "sayi_2 = input(\"2.sayiyi giriniz\")\n",
    "\n",
    "while sayi_1 != sayi_2 :\n",
    "    print(\"eşit degil \\n\" * 25) \n",
    "    break\n",
    "else :\n",
    "    print (\"5\")    \n"
   ]
  },
  {
   "cell_type": "code",
   "execution_count": 4,
   "metadata": {},
   "outputs": [
    {
     "name": "stdout",
     "output_type": "stream",
     "text": [
      "100'den küçük olan sayilar :\n",
      " [82, 89, 93, 87, 72, 17, 83, 85, 27, 59, 4, 69, 96, 27, 92, 16, 34, 29, 91, 2, 64, 31, 15, 69, 75, 23, 22, 62, 34, 13, 29, 65, 96, 90, 91, 83, 14, 65, 22, 94, 29, 85, 42, 34, 69, 34, 59, 70, 48, 16, 91, 24, 76, 75, 12, 14]\n",
      "100'den küçük olan sayilar adedi : 56\n"
     ]
    }
   ],
   "source": [
    "\"\"\"4-) Rastgele 600 adet\n",
    " 0 ile 1000 arasinda sayi oluşturup bir liste içerisine aktaran \n",
    "ve 100'den küçük olan sayilarin adedini ekrana yazdiran \n",
    "python kodlarini yaziniz?\"\"\"\n",
    "\n",
    "import random\n",
    "liste=[]\n",
    "for i in range(600) :\n",
    "    sayilar = random.randint(0,1000)\n",
    "    if sayilar < 100 :\n",
    "        liste.append(sayilar)\n",
    "liste_uzunluk = len(liste)        \n",
    "print(f\"100'den küçük olan sayilar :\\n {liste}\" )\n",
    "print(f\"100'den küçük olan sayilar adedi : {liste_uzunluk}\")"
   ]
  },
  {
   "cell_type": "code",
   "execution_count": null,
   "metadata": {},
   "outputs": [],
   "source": [
    "\"\"\"5-) Kullanicinin girdiği iki sayi birbirine eşitse bu sayinin 4’de göre modunu alip ekrana yazdiran \n",
    "python kodlarini yaziniz?\"\"\""
   ]
  },
  {
   "cell_type": "code",
   "execution_count": null,
   "metadata": {},
   "outputs": [],
   "source": [
    "\"\"\"6-) Kullanicinin girdiği iki sayiyi toplayan ve toplam sonucu 40 ile 50 arasinda ise ekrana\n",
    " “genç yazilimci” yazdiran python kodlarini yaziniz?\"\"\""
   ]
  },
  {
   "cell_type": "code",
   "execution_count": null,
   "metadata": {},
   "outputs": [],
   "source": [
    "\"\"\"7-) Kullanıcının girdiği 4 basamaklı sayıyı basamaklarını ayırıp tek tek rakamlarını \n",
    "ve rakamlarının toplamını ekrana yazdıran python kodlarını yazınız? \"\"\""
   ]
  },
  {
   "cell_type": "code",
   "execution_count": null,
   "metadata": {},
   "outputs": [],
   "source": [
    "\"\"\"8 -) Kullanıcının girdiği sayının, 5’e göre kalanını  ekrana yazdıran python kodlarını yazınız?\"\"\""
   ]
  },
  {
   "cell_type": "code",
   "execution_count": null,
   "metadata": {},
   "outputs": [],
   "source": [
    "\"\"\"9-) Aşağıdaki görselin ekran çıktısını veren python kodlarını döngü kullanarak yazınız?\"\"\""
   ]
  },
  {
   "cell_type": "code",
   "execution_count": null,
   "metadata": {},
   "outputs": [],
   "source": [
    "\"\"\"10-) Kullanıcının satın aldığı benzinin kaç TL tuttuğunu ve bunun ne kadarının vergi olduğunu\n",
    " hesaplayıp ekrana yazdıran programı python kodları ile yazınız. \"\"\""
   ]
  },
  {
   "attachments": {
    "image.png": {
     "image/png": "[encoded data removed]"
    }
   },
   "cell_type": "markdown",
   "metadata": {},
   "source": [
    "![image.png](attachment:image.png)"
   ]
  },
  {
   "cell_type": "code",
   "execution_count": null,
   "metadata": {},
   "outputs": [],
   "source": [
    "\"\"\"11-) \n",
    "Yukarıdaki denklemin sonucunu, kullanıcının girdiği x,y,c ve a değerlerine hesaplayıp \n",
    "sonucunu ekrana yazdıracak olan programın python kodları ile yazınız?\"\"\""
   ]
  },
  {
   "cell_type": "code",
   "execution_count": null,
   "metadata": {},
   "outputs": [],
   "source": [
    "\"\"\"Giriş Yapacağınız Sıcaklık Değerinin Birimini Seçiniz\n",
    "   1 - Celsius\n",
    "   2 - Fahrenheit\n",
    "   3 - Kelvin\n",
    "Kullanıcı giriş değer birimini seçip, değerini girecek.\n",
    "Aşağıdaki gibi bir ekran çıktısı alacak:\n",
    "Dönüştürmek istediğiniz birimi seçiniz:\n",
    "   1 - Celsius\n",
    "   2 - Fahrenheit\n",
    "   3 - Kelvin\n",
    "Eğer kullanıcı giriş yaptığı birime dönüştürmek isterse,\n",
    "(Örneğin giriş birimini Celsius seçti, dönüştürmek istediği birimi de Celsius seçti)\n",
    "O zaman aşağıdaki gibi bir hata mesajı verecek:\n",
    "Hata - Giriş yaptığınız birim değerine dönüştürme yapılamaz.\n",
    "Eğer kullanıcı giriş yaptığı birimden farklı bir birime dönüştürme yapmayı seçerse ekrana girilen \n",
    "sıcaklık biriminin dönüştürüldüğü sıcaklık değeri yazdırılacak.\n",
    "Örneğin kullanıcı giriş yapacağı değeri Celsius seçti ve değeri 30 olarak girdi\n",
    "Dönüştürülecek birimi de 2’yi seçip Fahrenheit birimine dönüştürmek istedi.\n",
    "Sonuç ekrana 86 Fahrenheit olarak yazdırılır.\"\"\""
   ]
  },
  {
   "cell_type": "code",
   "execution_count": 1,
   "metadata": {},
   "outputs": [
    {
     "name": "stdout",
     "output_type": "stream",
     "text": [
      "(30, 40)\n"
     ]
    }
   ],
   "source": [
    "h_tuple= (30,40)\n",
    "print(h_tuple)"
   ]
  },
  {
   "cell_type": "code",
   "execution_count": 24,
   "metadata": {},
   "outputs": [
    {
     "ename": "TypeError",
     "evalue": "type() takes 1 or 3 arguments",
     "output_type": "error",
     "traceback": [
      "\u001b[1;31m---------------------------------------------------------------------------\u001b[0m",
      "\u001b[1;31mTypeError\u001b[0m                                 Traceback (most recent call last)",
      "Cell \u001b[1;32mIn[24], line 4\u001b[0m\n\u001b[0;32m      2\u001b[0m y \u001b[39m=\u001b[39m \u001b[39m3\u001b[39m\n\u001b[0;32m      3\u001b[0m (x,y) \u001b[39m=\u001b[39m(y,x) \n\u001b[1;32m----> 4\u001b[0m \u001b[39mprint\u001b[39m(\u001b[39mtype\u001b[39;49m(x,y))   \u001b[39m# tuple'da iki farkli degişkenin değeri değişiyor\u001b[39;00m\n\u001b[0;32m      5\u001b[0m \u001b[39mprint\u001b[39m(\u001b[39mf\u001b[39m\u001b[39m\"\u001b[39m\u001b[39mx = \u001b[39m\u001b[39m{\u001b[39;00mx\u001b[39m}\u001b[39;00m\u001b[39m    y = \u001b[39m\u001b[39m{\u001b[39;00my\u001b[39m}\u001b[39;00m\u001b[39m\"\u001b[39m)  \n",
      "\u001b[1;31mTypeError\u001b[0m: type() takes 1 or 3 arguments"
     ]
    }
   ],
   "source": [
    "x = 2\n",
    "y = 3\n",
    "(x,y) =(y,x)    # tuple'da iki farkli degişkenin değeri değişiyor\n",
    "print(f\"x = {x}    y = {y}\")  "
   ]
  },
  {
   "cell_type": "code",
   "execution_count": 20,
   "metadata": {},
   "outputs": [
    {
     "name": "stdout",
     "output_type": "stream",
     "text": [
      "x = 3    y = 2\n"
     ]
    }
   ],
   "source": [
    "x = 2\n",
    "y = 3\n",
    "x, y = y, x          # tuple'da iki farkli degişkenin değeri değişiyor\n",
    "print(f\"x = {x}    y = {y}\")     "
   ]
  },
  {
   "cell_type": "code",
   "execution_count": 28,
   "metadata": {},
   "outputs": [
    {
     "name": "stdout",
     "output_type": "stream",
     "text": [
      "x = 3    y = 2\n"
     ]
    }
   ],
   "source": [
    "x = 2\n",
    "y = 3\n",
    "[x,y] = [y,x]   # list'de iki farkli degişkenin değeri değişiyor\n",
    "print(f\"x = {x}    y = {y}\")    "
   ]
  },
  {
   "cell_type": "code",
   "execution_count": 23,
   "metadata": {},
   "outputs": [
    {
     "name": "stdout",
     "output_type": "stream",
     "text": [
      "\u001b[1;31mInit signature:\u001b[0m \u001b[0mtuple\u001b[0m\u001b[1;33m(\u001b[0m\u001b[0miterable\u001b[0m\u001b[1;33m=\u001b[0m\u001b[1;33m(\u001b[0m\u001b[1;33m)\u001b[0m\u001b[1;33m,\u001b[0m \u001b[1;33m/\u001b[0m\u001b[1;33m)\u001b[0m\u001b[1;33m\u001b[0m\u001b[1;33m\u001b[0m\u001b[0m\n",
      "\u001b[1;31mDocstring:\u001b[0m     \n",
      "Built-in immutable sequence.\n",
      "\n",
      "If no argument is given, the constructor returns an empty tuple.\n",
      "If iterable is specified the tuple is initialized from iterable's items.\n",
      "\n",
      "If the argument is a tuple, the return value is the same object.\n",
      "\u001b[1;31mType:\u001b[0m           type\n",
      "\u001b[1;31mSubclasses:\u001b[0m     int_info, float_info, UnraisableHookArgs, hash_info, version_info, flags, getwindowsversion, thread_info, asyncgen_hooks, _ExceptHookArgs, ..."
     ]
    }
   ],
   "source": [
    "??tuple"
   ]
  },
  {
   "cell_type": "code",
   "execution_count": null,
   "metadata": {},
   "outputs": [],
   "source": [
    "a =\"ali\",\n",
    "a.count()\n",
    "range()"
   ]
  }
 ],
 "metadata": {
  "kernelspec": {
   "display_name": "Python 3",
   "language": "python",
   "name": "python3"
  },
  "language_info": {
   "codemirror_mode": {
    "name": "ipython",
    "version": 3
   },
   "file_extension": ".py",
   "mimetype": "text/x-python",
   "name": "python",
   "nbconvert_exporter": "python",
   "pygments_lexer": "ipython3",
   "version": "3.11.2"
  },
  "orig_nbformat": 4
 },
 "nbformat": 4,
 "nbformat_minor": 2
}
