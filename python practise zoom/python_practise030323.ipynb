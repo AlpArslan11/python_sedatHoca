{
 "cells": [
  {
   "attachments": {},
   "cell_type": "markdown",
   "metadata": {},
   "source": [
    "## while\n",
    " while True: --> sart sağlanana\n",
    " \n",
    "            print(\"Sonsuz döngü\")  --- > \"indentation\" olmasi gerekiyor. \n",
    "\n",
    " sonsuz döngüye girmesini engellemek için while loop oncesinde bir variable belirleriz. index, sayac vb..\n",
    " \n",
    " while'dan sonraki condition False olursa calismayacaktir.\n",
    "\n",
    "Kaç defa çalışağı belli degildir, şarta bağlıdır\n",
    "\n"
   ]
  },
  {
   "attachments": {},
   "cell_type": "markdown",
   "metadata": {},
   "source": [
    "# for loop\n",
    "\n",
    "for i in \"elma\" :\n",
    "\n",
    "         print (\"asd\")\n",
    "\n",
    "başlangıç ve bitiş noktasi belirlemiyoruz.\n",
    "\n",
    "kaç defa çalışacağı bellidir. üzerinde gezdiğimiz iterable elemanın len'i kadar olur.\n",
    "\n",
    "for loop içerisinde in'den sonra yazdig imiz eleman mutlaka iterable olmalıdır. int, float(numeric olanlarin hiç \n",
    "\n",
    "birisi) ve boolean olmaz. Bunlar str'a type casting yapılırsa iterable yapılablir ve loop içerisinde kullanilabilir.\n",
    "\n",
    "iterable elemanlar --> list, tuple, string, set \n",
    "\n",
    "for loop için genelde range(100) yapisi kullanılır.\n",
    "\n",
    "\n",
    "\n",
    "\n",
    "\n"
   ]
  },
  {
   "cell_type": "code",
   "execution_count": 18,
   "metadata": {},
   "outputs": [
    {
     "name": "stdout",
     "output_type": "stream",
     "text": [
      "15\n"
     ]
    }
   ],
   "source": [
    "list = [35,20,25,15]\n",
    "\n",
    "x = list[0]\n",
    "for i in range(len(list)) : # burda uzunlugu kadar calistirdik. i bize 0,1,2,3 getiriyor\n",
    "   if x >= list[i] :\n",
    "      x = list[i]\n",
    "\n",
    "print(x)"
   ]
  },
  {
   "cell_type": "code",
   "execution_count": 17,
   "metadata": {},
   "outputs": [
    {
     "name": "stdout",
     "output_type": "stream",
     "text": [
      "15\n"
     ]
    }
   ],
   "source": [
    "list = [35,20,25,15]\n",
    "\n",
    "x = list[0]\n",
    "for i in list : # burda i bize listin elemanlarini getiriyor.\n",
    "   if x >= i :\n",
    "      x = i\n",
    "\n",
    "print(x)      "
   ]
  },
  {
   "cell_type": "code",
   "execution_count": 2,
   "metadata": {},
   "outputs": [
    {
     "name": "stdout",
     "output_type": "stream",
     "text": [
      "e\n",
      "l\n",
      "m\n",
      "a\n"
     ]
    }
   ],
   "source": [
    "for i in \"elma\" :\n",
    "    print (i)"
   ]
  },
  {
   "cell_type": "code",
   "execution_count": 6,
   "metadata": {},
   "outputs": [
    {
     "name": "stdout",
     "output_type": "stream",
     "text": [
      "e e e e "
     ]
    }
   ],
   "source": [
    "for i in \"elma\" :\n",
    "    print (\"e\",end=\" \")"
   ]
  },
  {
   "cell_type": "code",
   "execution_count": 3,
   "metadata": {},
   "outputs": [
    {
     "name": "stdout",
     "output_type": "stream",
     "text": [
      "bcd\n"
     ]
    }
   ],
   "source": [
    "while [] :\n",
    "    print(\"asd\")\n",
    "\n",
    "print(\"bcd\")    "
   ]
  },
  {
   "cell_type": "code",
   "execution_count": 4,
   "metadata": {},
   "outputs": [
    {
     "name": "stdout",
     "output_type": "stream",
     "text": [
      "15\n"
     ]
    }
   ],
   "source": [
    " # 1-) Kullanıcın girdiği 5 basamaklı bir sayının, \n",
    "# basamaklarının toplamını ekrana yazdıran python kodlarını yazınız?\n",
    "\n",
    "x = input(\"Lutfen bir 5 basamakli bir sayi giriniz\")\n",
    "\n",
    "sum = 0\n",
    "for i in x :\n",
    "    sum +=int(i)\n",
    "print(sum)    \n",
    "\n",
    "\n"
   ]
  },
  {
   "cell_type": "code",
   "execution_count": 12,
   "metadata": {},
   "outputs": [
    {
     "name": "stdout",
     "output_type": "stream",
     "text": [
      "12345 sayisinin basamaklarinin toplami: 15\n",
      "12345 sayisinin basamaklarinin toplami :  15\n"
     ]
    }
   ],
   "source": [
    " # 1-) Kullanıcın girdiği 5 basamaklı bir sayının, \n",
    "# basamaklarının toplamını ekrana yazdıran python kodlarını yazınız?\n",
    "\n",
    "x = int(input(\"Lutfen bir 5 basamakli bir sayi giriniz\"))\n",
    "basamak_toplam = 0\n",
    "temp = x\n",
    "\n",
    "while x > 0 :\n",
    "    basamak_toplam += x%10\n",
    "    x //= 10\n",
    "\n",
    "print(f\"{temp} sayisinin basamaklarinin toplami: {basamak_toplam}\")    \n",
    "print(temp, \"sayisinin basamaklarinin toplami : \", basamak_toplam)"
   ]
  },
  {
   "cell_type": "code",
   "execution_count": 27,
   "metadata": {},
   "outputs": [
    {
     "name": "stdout",
     "output_type": "stream",
     "text": [
      "12345 sayisinin basamaklarinin toplami : 15\n",
      "12345 sayisinin basamaklarinin toplami : 15\n"
     ]
    }
   ],
   "source": [
    " # 1-) Kullanıcın girdiği 5 basamaklı bir sayının, \n",
    "# basamaklarının toplamını ekrana yazdıran python kodlarını yazınız?\n",
    "\n",
    "x = input(\"Lutfen bir 5 basamakli bir sayi giriniz\")\n",
    "\n",
    "if x.isnumeric() and len(x) == 5 :\n",
    "    x = int(x)\n",
    "    basamak_toplam = 0\n",
    "    temp = x\n",
    "    while x > 0 :\n",
    "        basamak_toplam += x%10\n",
    "        x //= 10\n",
    "    print(f\"{temp} sayisinin basamaklarinin toplami : {basamak_toplam}\")    \n",
    "    print(temp, \"sayisinin basamaklarinin toplami :\", basamak_toplam)    \n",
    "else : \n",
    "        print(\"Lutfen 5 basamakli bir sayi giriniz\")\n",
    "       \n"
   ]
  },
  {
   "cell_type": "code",
   "execution_count": null,
   "metadata": {},
   "outputs": [],
   "source": [
    "\"\"\" 2-) Klavyeden kullanicinin girdiği 3 adet integer türünde ki sayiyi \n",
    "büyükten küçüğe siralayarak ortadaki sayi ile büyük olan sayinin arasindaki farki ve \n",
    "yine ortadaki sayi ile küçük olan sayi ile arasindaki farki ekrana yazdiran \n",
    "python kodlarini yaziniz?\"\"\""
   ]
  },
  {
   "cell_type": "code",
   "execution_count": 15,
   "metadata": {},
   "outputs": [
    {
     "name": "stdout",
     "output_type": "stream",
     "text": [
      "girdiğiniz rakamlar [15, 10, 5]\n",
      " \n",
      "büyük sayi ile ortadaki sayinin farki : 5\n",
      "\n",
      "küçük sayi ile ortadaki sayinin farki : 5\n"
     ]
    }
   ],
   "source": [
    "\n",
    "\n",
    "sayilar_list = []\n",
    "count = 1\n",
    "while count <= 3:\n",
    "    k_sayi = input(f\"Lutfen {count}. sayinizi giriniz\")\n",
    "    if k_sayi.isnumeric() :\n",
    "        sayilar_list.append(int(k_sayi))\n",
    "        count += 1\n",
    "    else : \n",
    "      print(\"Lutfen bir tamsayi giriniz\")\n",
    "      count -= 1\n",
    "\n",
    "sayilar_list.sort()\n",
    "sayilar_list.reverse() #büyükten küçüğe siralamak için\n",
    "print(f\"\"\"girdiğiniz rakamlar {sayilar_list}\\n \n",
    "büyük sayi ile ortadaki sayinin farki : {max(sayilar_list)-sayilar_list[1]}\\n\n",
    "küçük sayi ile ortadaki sayinin farki : {sayilar_list[1] - min(sayilar_list)}\"\"\")\n",
    "   \n",
    "\n"
   ]
  },
  {
   "cell_type": "code",
   "execution_count": 4,
   "metadata": {},
   "outputs": [
    {
     "name": "stdout",
     "output_type": "stream",
     "text": [
      "eşit degil \n",
      "eşit degil \n",
      "eşit degil \n",
      "eşit degil \n",
      "eşit degil \n",
      "eşit degil \n",
      "eşit degil \n",
      "eşit degil \n",
      "eşit degil \n",
      "eşit degil \n",
      "eşit degil \n",
      "eşit degil \n",
      "eşit degil \n",
      "eşit degil \n",
      "eşit degil \n",
      "eşit degil \n",
      "eşit degil \n",
      "eşit degil \n",
      "eşit degil \n",
      "eşit degil \n",
      "eşit degil \n",
      "eşit degil \n",
      "eşit degil \n",
      "eşit degil \n",
      "eşit degil \n",
      "\n"
     ]
    }
   ],
   "source": [
    "\"\"\" 3-) Kullanicinin girdiği iki sayi birbirine eşit ise ekrana “5” sonucu yazdiracak, \n",
    "eşit değil ise 25 defa “eşit değil” sonucunu ekrana yazdiran python kodlarini yaziniz? \n",
    "(while döngüsü ile)\"\"\"\n",
    "\n",
    "sayi_1 = input(\"1.sayiyi giriniz\")\n",
    "sayi_2 = input(\"2.sayiyi giriniz\")\n",
    "\n",
    "while sayi_1 != sayi_2 :\n",
    "    print(\"eşit degil \\n\" * 25) \n",
    "    break\n",
    "else :\n",
    "    print (\"5\")      \n",
    "       \n",
    "\n"
   ]
  },
  {
   "cell_type": "code",
   "execution_count": null,
   "metadata": {},
   "outputs": [],
   "source": []
  },
  {
   "cell_type": "code",
   "execution_count": null,
   "metadata": {},
   "outputs": [],
   "source": [
    "\"\"\"4-) Rastgele 600 adet 0 ile 1000 arasinda sayi oluşturup bir liste içerisine aktaran \n",
    "ve 100'den küçük olan sayilarin adedini ekrana yazdiran python kodlarini yaziniz?\"\"\""
   ]
  },
  {
   "cell_type": "code",
   "execution_count": null,
   "metadata": {},
   "outputs": [],
   "source": []
  },
  {
   "cell_type": "code",
   "execution_count": null,
   "metadata": {},
   "outputs": [],
   "source": []
  },
  {
   "cell_type": "code",
   "execution_count": null,
   "metadata": {},
   "outputs": [],
   "source": [
    "\"\"\"7-) Kullanıcının girdiği 4 basamaklı sayıyı basamaklarını ayırıp tek tek rakamlarını \n",
    "ve rakamlarının toplamını ekrana yazdıran python kodlarını yazınız? \"\"\""
   ]
  },
  {
   "cell_type": "code",
   "execution_count": null,
   "metadata": {},
   "outputs": [],
   "source": []
  },
  {
   "cell_type": "code",
   "execution_count": null,
   "metadata": {},
   "outputs": [],
   "source": []
  }
 ],
 "metadata": {
  "kernelspec": {
   "display_name": "Python 3",
   "language": "python",
   "name": "python3"
  },
  "language_info": {
   "codemirror_mode": {
    "name": "ipython",
    "version": 3
   },
   "file_extension": ".py",
   "mimetype": "text/x-python",
   "name": "python",
   "nbconvert_exporter": "python",
   "pygments_lexer": "ipython3",
   "version": "3.11.2"
  },
  "orig_nbformat": 4
 },
 "nbformat": 4,
 "nbformat_minor": 2
}
