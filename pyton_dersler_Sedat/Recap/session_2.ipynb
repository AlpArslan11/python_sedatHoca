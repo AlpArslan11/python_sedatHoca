{
 "cells": [
  {
   "cell_type": "code",
   "execution_count": 12,
   "metadata": {},
   "outputs": [
    {
     "name": "stdout",
     "output_type": "stream",
     "text": [
      "5\n",
      "2 saat  5 dakika ve 5 saniyedir\n"
     ]
    }
   ],
   "source": [
    "# 8765 sn kaç saat kac dk ve kac sndir\n",
    "saniye = int(input(\"Lutfen  saniye giriniz\"))\n",
    "\n",
    "dk = saniye % 60 \n",
    "saat = (saniye // 60)//60\n",
    "sn= saniye % 60\n",
    "print(sn)\n",
    "print(\"{} saat  {} dakika ve {} saniyedir\".format(saat,dk,sn))\n",
    "# (saniye/60)//60"
   ]
  },
  {
   "cell_type": "code",
   "execution_count": null,
   "metadata": {},
   "outputs": [],
   "source": []
  }
 ],
 "metadata": {
  "kernelspec": {
   "display_name": "Python 3",
   "language": "python",
   "name": "python3"
  },
  "language_info": {
   "codemirror_mode": {
    "name": "ipython",
    "version": 3
   },
   "file_extension": ".py",
   "mimetype": "text/x-python",
   "name": "python",
   "nbconvert_exporter": "python",
   "pygments_lexer": "ipython3",
   "version": "3.11.2"
  },
  "orig_nbformat": 4
 },
 "nbformat": 4,
 "nbformat_minor": 2
}
