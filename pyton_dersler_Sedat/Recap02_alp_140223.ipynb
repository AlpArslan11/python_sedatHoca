{
 "cells": [
  {
   "cell_type": "code",
   "execution_count": 8,
   "metadata": {},
   "outputs": [
    {
     "name": "stdout",
     "output_type": "stream",
     "text": [
      "dakika ->  146.08333333333334 saat -->  2.4347222222222222\n"
     ]
    }
   ],
   "source": [
    "#8765 sn kaç saat kaç dk ve kac sndir\n",
    "dak= 8765 // 60\n",
    "saat=dak // 60\n",
    "print(\"dakika -> \", dak , \"saat --> \" , saat)\n"
   ]
  },
  {
   "cell_type": "code",
   "execution_count": 11,
   "metadata": {},
   "outputs": [
    {
     "name": "stdout",
     "output_type": "stream",
     "text": [
      "8765 saniye =  2 saat 26 dakika 5 saniye eder\n"
     ]
    }
   ],
   "source": [
    "verilen_saniye=8765\n",
    "saat = verilen_saniye // 3600               #1 saat 60 dk veya 3600 sn dir.\n",
    "dakika = (verilen_saniye % 3600)  // 60                            # verilen_saniye - (saat * 3600) // 60\n",
    "saniye = (verilen_saniye % 3600) % 60     \n",
    "print (verilen_saniye , \"saniye = \" , saat , \"saat\" ,  dakika, \"dakika\" , saniye ,\"saniye eder\")"
   ]
  },
  {
   "cell_type": "code",
   "execution_count": 13,
   "metadata": {},
   "outputs": [
    {
     "name": "stdout",
     "output_type": "stream",
     "text": [
      "8765 saniye = 2 saat 26 dakika 5 saniye eder\n"
     ]
    }
   ],
   "source": [
    "print(f\"{verilen_saniye} saniye = {saat} saat {dakika} dakika {saniye} saniye eder\")"
   ]
  },
  {
   "cell_type": "code",
   "execution_count": 15,
   "metadata": {},
   "outputs": [
    {
     "name": "stdout",
     "output_type": "stream",
     "text": [
      "8765 saniye =  2 saat 26 dakika 5 saniye eder\n"
     ]
    }
   ],
   "source": [
    "verilen_saniye=8765\n",
    "saat = verilen_saniye // 3600               #1 saat 60 dk veya 3600 sn dir.\n",
    "dakika = (verilen_saniye % 3600)  // 60     # verilen_saniye - (saat * 3600) // 60\n",
    "saniye = (verilen_saniye % 3600) % 60 \n",
    "print (verilen_saniye , \"saniye = \" , saat , \"saat\" ,  dakika, \"dakika\" , saniye ,\"saniye eder\") "
   ]
  },
  {
   "cell_type": "code",
   "execution_count": 17,
   "metadata": {},
   "outputs": [
    {
     "name": "stdout",
     "output_type": "stream",
     "text": [
      "8765 saniye = 2 saat 26 dakika 5 saniye eder\n"
     ]
    }
   ],
   "source": [
    "print(\"{} saniye = {} saat {} dakika {} saniye eder\".format(verilen_saniye,saat,dakika,saniye))"
   ]
  },
  {
   "attachments": {},
   "cell_type": "markdown",
   "metadata": {},
   "source": [
    "##len()"
   ]
  },
  {
   "cell_type": "code",
   "execution_count": 19,
   "metadata": {},
   "outputs": [
    {
     "data": {
      "text/plain": [
       "9"
      ]
     },
     "execution_count": 19,
     "metadata": {},
     "output_type": "execute_result"
    }
   ],
   "source": [
    "name= \"alparslan\"\n",
    "len(name)"
   ]
  },
  {
   "cell_type": "code",
   "execution_count": 20,
   "metadata": {},
   "outputs": [
    {
     "data": {
      "text/plain": [
       "7"
      ]
     },
     "execution_count": 20,
     "metadata": {},
     "output_type": "execute_result"
    }
   ],
   "source": [
    "len(\"Techpro\")"
   ]
  },
  {
   "cell_type": "code",
   "execution_count": 23,
   "metadata": {},
   "outputs": [
    {
     "name": "stdout",
     "output_type": "stream",
     "text": [
      "3.0\n"
     ]
    }
   ],
   "source": [
    "name=\"Mehmet\"  \n",
    "print(len(name)/2)"
   ]
  },
  {
   "cell_type": "code",
   "execution_count": 25,
   "metadata": {},
   "outputs": [
    {
     "data": {
      "text/plain": [
       "'Meh'"
      ]
     },
     "execution_count": 25,
     "metadata": {},
     "output_type": "execute_result"
    }
   ],
   "source": [
    "\"Mehmet\"[:len(\"Mehmet\")//2]"
   ]
  },
  {
   "cell_type": "code",
   "execution_count": 26,
   "metadata": {},
   "outputs": [
    {
     "data": {
      "text/plain": [
       "'met'"
      ]
     },
     "execution_count": 26,
     "metadata": {},
     "output_type": "execute_result"
    }
   ],
   "source": [
    "\"Mehmet\"[len(\"Mehmet\")//2:]"
   ]
  },
  {
   "cell_type": "code",
   "execution_count": 1,
   "metadata": {},
   "outputs": [
    {
     "name": "stdout",
     "output_type": "stream",
     "text": [
      "samehmetri\n",
      "samehmetri\n"
     ]
    }
   ],
   "source": [
    "str1 = \"sari\"\n",
    "str2 = \"mehmet\"         #\"samehmetri\"\n",
    "sayi=2\n",
    "\n",
    "ek1=str1[:len(str1)//2]\n",
    "ek2=str1[len(str1)//2:]\n",
    "\n",
    "print(ek1,str2,ek2, sep=\"\")\n",
    "print(ek1+str2+ek2)\n",
    "\n"
   ]
  },
  {
   "attachments": {},
   "cell_type": "markdown",
   "metadata": {},
   "source": [
    "# If - Elif - Else "
   ]
  },
  {
   "cell_type": "code",
   "execution_count": 6,
   "metadata": {},
   "outputs": [
    {
     "name": "stdout",
     "output_type": "stream",
     "text": [
      "5,4 ten büyüktür\n"
     ]
    }
   ],
   "source": [
    "if 5 > 4: print(\"5,4 ten büyüktür\")"
   ]
  },
  {
   "cell_type": "code",
   "execution_count": null,
   "metadata": {},
   "outputs": [],
   "source": [
    "if 5 < 4:\n",
    "    print(\"5,4 ten küçüktürtür\") # bir TAB boşluk olmalı. yoksa hata veriyor. ya da tek satirda yazmak lazim\n",
    "    "
   ]
  },
  {
   "attachments": {},
   "cell_type": "markdown",
   "metadata": {},
   "source": []
  },
  {
   "cell_type": "code",
   "execution_count": 14,
   "metadata": {},
   "outputs": [
    {
     "name": "stdout",
     "output_type": "stream",
     "text": [
      "Notunuz = C\n"
     ]
    }
   ],
   "source": [
    "# Kullanicidan sınavdan aldıgı notu isteyin. \n",
    "# 100 lük sisteme gore. girilen notu harf sistemine dönüştürün. \n",
    "# 90 ve üstü A\n",
    "# 75 ve üstü B\n",
    "# 60 ve üstü C\n",
    "# 45 ve üstü D\n",
    "# 45'in altı F\n",
    "\n",
    "girilen_not=int(input(\"Lutfen notunuzu giriniz\"))\n",
    "\n",
    "if 0 <= girilen_not <=100 :\n",
    "    if girilen_not >= 90 : harf_degeri=\"A\"\n",
    "    elif girilen_not >= 75 : harf_degeri=\"B\"\n",
    "    elif girilen_not >= 60 : harf_degeri=\"C\"\n",
    "    elif girilen_not >= 45 : harf_degeri=\"D\"\n",
    "    else : harf_degeri=\"F\" \n",
    "    print(\"Notunuz =\",harf_degeri )\n",
    "else: print(\"hatali giris yaptiniz\")    "
   ]
  },
  {
   "cell_type": "code",
   "execution_count": 17,
   "metadata": {},
   "outputs": [
    {
     "name": "stdout",
     "output_type": "stream",
     "text": [
      "sınavdan aldığınız not F harfine denk gelmektedir\n"
     ]
    }
   ],
   "source": [
    "sinav_notu = int(input(\"Sinav notunuzu girin.(0 ile 100 arasinda)\"))\n",
    "\n",
    "if 0 <= sinav_notu <= 100:\n",
    "    if sinav_notu >= 90:\n",
    "        harf_notu = \"A\"\n",
    "    elif sinav_notu >= 75:\n",
    "        harf_notu = \"B\"\n",
    "    elif sinav_notu >= 60:\n",
    "        harf_notu = \"C\"\n",
    "    elif sinav_notu >= 45:\n",
    "        harf_notu = \"D\"\n",
    "    else:\n",
    "        harf_notu = \"F\"\n",
    "    print(f\"sinavdan aldiğiniz not {harf_notu} harfine denk gelmektedir\")\n",
    "else:\n",
    "    print(\"hatali giriş yaptiniz\")"
   ]
  },
  {
   "cell_type": "markdown",
   "metadata": {},
   "source": []
  },
  {
   "cell_type": "code",
   "execution_count": null,
   "metadata": {},
   "outputs": [],
   "source": []
  },
  {
   "cell_type": "code",
   "execution_count": null,
   "metadata": {},
   "outputs": [],
   "source": []
  },
  {
   "cell_type": "code",
   "execution_count": null,
   "metadata": {},
   "outputs": [],
   "source": []
  },
  {
   "cell_type": "code",
   "execution_count": null,
   "metadata": {},
   "outputs": [],
   "source": []
  },
  {
   "cell_type": "code",
   "execution_count": null,
   "metadata": {},
   "outputs": [],
   "source": []
  }
 ],
 "metadata": {
  "kernelspec": {
   "display_name": "Python 3",
   "language": "python",
   "name": "python3"
  },
  "language_info": {
   "codemirror_mode": {
    "name": "ipython",
    "version": 3
   },
   "file_extension": ".py",
   "mimetype": "text/x-python",
   "name": "python",
   "nbconvert_exporter": "python",
   "pygments_lexer": "ipython3",
   "version": "3.11.2"
  },
  "orig_nbformat": 4,
  "vscode": {
   "interpreter": {
    "hash": "562b4dc50e94c0c24759cc517e955833adbe31bddbf34cfe5098f5955523ff4d"
   }
  }
 },
 "nbformat": 4,
 "nbformat_minor": 2
}
