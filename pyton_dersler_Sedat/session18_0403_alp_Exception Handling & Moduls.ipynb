{
 "cells": [
  {
   "cell_type": "code",
   "execution_count": 9,
   "metadata": {},
   "outputs": [
    {
     "name": "stdout",
     "output_type": "stream",
     "text": [
      "hata var hata vaar\n",
      "5--8--0.625\n"
     ]
    }
   ],
   "source": [
    "\n",
    "try:\n",
    "    a = 5\n",
    "    b= 8\n",
    "    c= a / b\n",
    "    d = x \n",
    "except :\n",
    "    print(\"hata var hata vaar\")    \n",
    "\n",
    "print(a,b,c, sep = \"--\")\n"
   ]
  }
 ],
 "metadata": {
  "kernelspec": {
   "display_name": "Python 3",
   "language": "python",
   "name": "python3"
  },
  "language_info": {
   "codemirror_mode": {
    "name": "ipython",
    "version": 3
   },
   "file_extension": ".py",
   "mimetype": "text/x-python",
   "name": "python",
   "nbconvert_exporter": "python",
   "pygments_lexer": "ipython3",
   "version": "3.11.2"
  },
  "orig_nbformat": 4
 },
 "nbformat": 4,
 "nbformat_minor": 2
}
