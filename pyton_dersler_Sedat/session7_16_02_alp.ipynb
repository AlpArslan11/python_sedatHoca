{
 "cells": [
  {
   "cell_type": "code",
   "execution_count": 1,
   "metadata": {},
   "outputs": [],
   "source": [
    "str = \"Kimseyi arkada bırakmadık\""
   ]
  },
  {
   "cell_type": "code",
   "execution_count": 6,
   "metadata": {},
   "outputs": [
    {
     "data": {
      "text/plain": [
       "'Ximseyi arXada bıraXmadıX'"
      ]
     },
     "execution_count": 6,
     "metadata": {},
     "output_type": "execute_result"
    }
   ],
   "source": [
    "str.lower().replace(\"k\",\"X\",-2)"
   ]
  },
  {
   "cell_type": "code",
   "execution_count": 3,
   "metadata": {},
   "outputs": [
    {
     "name": "stdout",
     "output_type": "stream",
     "text": [
      "Kimseyi arkada bırakmadık\n"
     ]
    }
   ],
   "source": [
    "print(str)"
   ]
  },
  {
   "cell_type": "code",
   "execution_count": null,
   "metadata": {},
   "outputs": [],
   "source": [
    "str.replace(\"d\",\"X\",len-3)"
   ]
  },
  {
   "cell_type": "code",
   "execution_count": 21,
   "metadata": {},
   "outputs": [],
   "source": [
    "str1= \"a a a a a\""
   ]
  },
  {
   "cell_type": "code",
   "execution_count": 25,
   "metadata": {},
   "outputs": [
    {
     "data": {
      "text/plain": [
       "'x x x x x'"
      ]
     },
     "execution_count": 25,
     "metadata": {},
     "output_type": "execute_result"
    }
   ],
   "source": [
    "str1.replace(\"a\",\"x\",-1)"
   ]
  },
  {
   "cell_type": "code",
   "execution_count": 26,
   "metadata": {},
   "outputs": [
    {
     "data": {
      "text/plain": [
       "False"
      ]
     },
     "execution_count": 26,
     "metadata": {},
     "output_type": "execute_result"
    }
   ],
   "source": [
    "\"ıgdır\".isascii()"
   ]
  },
  {
   "cell_type": "code",
   "execution_count": 27,
   "metadata": {},
   "outputs": [
    {
     "name": "stdout",
     "output_type": "stream",
     "text": [
      "True\n"
     ]
    }
   ],
   "source": [
    "print(\"emre\".isascii())"
   ]
  },
  {
   "cell_type": "code",
   "execution_count": 28,
   "metadata": {},
   "outputs": [
    {
     "data": {
      "text/plain": [
       "'No'"
      ]
     },
     "execution_count": 28,
     "metadata": {},
     "output_type": "execute_result"
    }
   ],
   "source": [
    "\"no\".title()"
   ]
  },
  {
   "cell_type": "code",
   "execution_count": 29,
   "metadata": {},
   "outputs": [
    {
     "data": {
      "text/plain": [
       "'Nooooooooasdadsads'"
      ]
     },
     "execution_count": 29,
     "metadata": {},
     "output_type": "execute_result"
    }
   ],
   "source": [
    "\"NOOOOOOOOASDADSADS\".title()"
   ]
  },
  {
   "cell_type": "code",
   "execution_count": 55,
   "metadata": {},
   "outputs": [],
   "source": [
    "uzun_yazi= \"\"\"Ana hatlı kodda çalışırken, üzerinde çalışmak istediğiniz bölümleri genişletebilir, \n",
    "işiniz bittiğinde bunları daraltabilir ve ardından diğer bölümlere geçebilirsiniz. \n",
    "Ana hat oluşturmanın görüntülenmesini istemediğinizde, temel alınan kodunuzu bozmadan \n",
    "ana hat bilgilerini kaldırmak için Ana Hat Oluşturma'yı Durdur komutunu kullanabilirsiniz.\"\"\""
   ]
  },
  {
   "cell_type": "code",
   "execution_count": 56,
   "metadata": {},
   "outputs": [],
   "source": [
    "uzun_yazi= uzun_yazi.replace(\"ı\",\"i\")"
   ]
  },
  {
   "cell_type": "code",
   "execution_count": 57,
   "metadata": {},
   "outputs": [
    {
     "name": "stdout",
     "output_type": "stream",
     "text": [
      "Ana hatli kodda çalişirken, üzerinde çalişmak istediğiniz bölümleri genişletebilir, \n",
      "işiniz bittiğinde bunlari daraltabilir ve ardindan diğer bölümlere geçebilirsiniz. \n",
      "Ana hat oluşturmanin görüntülenmesini istemediğinizde, temel alinan kodunuzu bozmadan \n",
      "ana hat bilgilerini kaldirmak için Ana Hat Oluşturma'yi Durdur komutunu kullanabilirsiniz.\n"
     ]
    }
   ],
   "source": [
    "print(uzun_yazi)"
   ]
  },
  {
   "cell_type": "code",
   "execution_count": 58,
   "metadata": {},
   "outputs": [
    {
     "data": {
      "text/plain": [
       "2"
      ]
     },
     "execution_count": 58,
     "metadata": {},
     "output_type": "execute_result"
    }
   ],
   "source": [
    "uzun_yazi.count(\"Ana\",5)"
   ]
  },
  {
   "cell_type": "code",
   "execution_count": 69,
   "metadata": {},
   "outputs": [
    {
     "data": {
      "text/plain": [
       "2"
      ]
     },
     "execution_count": 69,
     "metadata": {},
     "output_type": "execute_result"
    }
   ],
   "source": [
    "uzun_yazi.count(\"ana\",150,\n",
    "                900)"
   ]
  },
  {
   "cell_type": "code",
   "execution_count": null,
   "metadata": {},
   "outputs": [],
   "source": [
    "uzun_yazi.find()"
   ]
  },
  {
   "cell_type": "code",
   "execution_count": 70,
   "metadata": {},
   "outputs": [
    {
     "data": {
      "text/plain": [
       "['Ana',\n",
       " 'hatli',\n",
       " 'kodda',\n",
       " 'çalişirken,',\n",
       " 'üzerinde',\n",
       " 'çalişmak',\n",
       " 'istediğiniz',\n",
       " 'bölümleri',\n",
       " 'genişletebilir,',\n",
       " 'işiniz',\n",
       " 'bittiğinde',\n",
       " 'bunlari',\n",
       " 'daraltabilir',\n",
       " 've',\n",
       " 'ardindan',\n",
       " 'diğer',\n",
       " 'bölümlere',\n",
       " 'geçebilirsiniz.',\n",
       " 'Ana',\n",
       " 'hat',\n",
       " 'oluşturmanin',\n",
       " 'görüntülenmesini',\n",
       " 'istemediğinizde,',\n",
       " 'temel',\n",
       " 'alinan',\n",
       " 'kodunuzu',\n",
       " 'bozmadan',\n",
       " 'ana',\n",
       " 'hat',\n",
       " 'bilgilerini',\n",
       " 'kaldirmak',\n",
       " 'için',\n",
       " 'Ana',\n",
       " 'Hat',\n",
       " \"Oluşturma'yi\",\n",
       " 'Durdur',\n",
       " 'komutunu',\n",
       " 'kullanabilirsiniz.']"
      ]
     },
     "execution_count": 70,
     "metadata": {},
     "output_type": "execute_result"
    }
   ],
   "source": [
    "uzun_yazi.split()"
   ]
  },
  {
   "cell_type": "code",
   "execution_count": 72,
   "metadata": {},
   "outputs": [],
   "source": [
    "cumle = \"eve cabuk gel, ders calismalisin\""
   ]
  },
  {
   "cell_type": "code",
   "execution_count": 73,
   "metadata": {},
   "outputs": [
    {
     "data": {
      "text/plain": [
       "['eve', 'cabuk', 'gel,', 'ders', 'calismalisin']"
      ]
     },
     "execution_count": 73,
     "metadata": {},
     "output_type": "execute_result"
    }
   ],
   "source": [
    "cumle.split()"
   ]
  },
  {
   "cell_type": "code",
   "execution_count": 75,
   "metadata": {},
   "outputs": [
    {
     "name": "stdout",
     "output_type": "stream",
     "text": [
      "eve cabuk gel, ders calismalisin\n"
     ]
    }
   ],
   "source": [
    "print(cumle)"
   ]
  },
  {
   "cell_type": "code",
   "execution_count": 76,
   "metadata": {},
   "outputs": [
    {
     "data": {
      "text/plain": [
       "['eve cabuk gel', ' ders calismalisin']"
      ]
     },
     "execution_count": 76,
     "metadata": {},
     "output_type": "execute_result"
    }
   ],
   "source": [
    "cumle.split(\",\")"
   ]
  },
  {
   "cell_type": "code",
   "execution_count": 77,
   "metadata": {},
   "outputs": [
    {
     "name": "stdout",
     "output_type": "stream",
     "text": [
      "<class 'list'>\n"
     ]
    }
   ],
   "source": [
    "print(type(cumle.split()))"
   ]
  },
  {
   "cell_type": "code",
   "execution_count": 10,
   "metadata": {},
   "outputs": [
    {
     "name": "stdout",
     "output_type": "stream",
     "text": [
      "ORTA YASLI\n"
     ]
    }
   ],
   "source": [
    "age=int(input(\"Lutfen yaşınızı giriniz\"))\n",
    "\n",
    "if 0 < age <= 30 :\n",
    "    print(\"GENC\")\n",
    "elif 30 < age <=50 : \n",
    "    print(\"ORTA YASLI\")    \n",
    "elif age >50 : \n",
    "    print(\"YASLANMISSIN BE ABI\")    \n",
    "else : \n",
    "    print(\"Hatali giriş\")    "
   ]
  },
  {
   "cell_type": "code",
   "execution_count": 13,
   "metadata": {},
   "outputs": [
    {
     "name": "stdout",
     "output_type": "stream",
     "text": [
      "Hatali giriş yada 3 e ve 5e bolunemiyor. Girdiginiz sayi : 23\n"
     ]
    }
   ],
   "source": [
    "sayi=int(input(\"Lutfen bir sayi giriniz\"))\n",
    "\n",
    "if  sayi % 3 ==0 and sayi % 5 == 0 :\n",
    "    print(\"Techpro 3'e ve 5'e bolunuyor\")\n",
    "elif sayi % 5 == 0 : \n",
    "    print(\"Pro  5'e bolunebiliyor\")    \n",
    "elif  sayi % 3 ==0 : \n",
    "    print(\"Tech 3'e bolunuyor\")    \n",
    "else : \n",
    "    print(f\"Hatali giriş yada 3 e ve 5e bolunemiyor. Girdiginiz sayi : {sayi}\")  "
   ]
  },
  {
   "cell_type": "code",
   "execution_count": null,
   "metadata": {},
   "outputs": [],
   "source": []
  },
  {
   "cell_type": "code",
   "execution_count": null,
   "metadata": {},
   "outputs": [],
   "source": []
  },
  {
   "cell_type": "code",
   "execution_count": null,
   "metadata": {},
   "outputs": [],
   "source": []
  },
  {
   "cell_type": "code",
   "execution_count": null,
   "metadata": {},
   "outputs": [],
   "source": []
  }
 ],
 "metadata": {
  "kernelspec": {
   "display_name": "Python 3",
   "language": "python",
   "name": "python3"
  },
  "language_info": {
   "codemirror_mode": {
    "name": "ipython",
    "version": 3
   },
   "file_extension": ".py",
   "mimetype": "text/x-python",
   "name": "python",
   "nbconvert_exporter": "python",
   "pygments_lexer": "ipython3",
   "version": "3.11.2"
  },
  "orig_nbformat": 4,
  "vscode": {
   "interpreter": {
    "hash": "562b4dc50e94c0c24759cc517e955833adbe31bddbf34cfe5098f5955523ff4d"
   }
  }
 },
 "nbformat": 4,
 "nbformat_minor": 2
}
