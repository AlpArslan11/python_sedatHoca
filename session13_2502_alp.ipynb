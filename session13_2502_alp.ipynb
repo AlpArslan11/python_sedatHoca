{
 "cells": [
  {
   "cell_type": "code",
   "execution_count": 2,
   "metadata": {},
   "outputs": [],
   "source": [
    "import random\n",
    "import time"
   ]
  },
  {
   "cell_type": "code",
   "execution_count": 8,
   "metadata": {},
   "outputs": [
    {
     "name": "stdout",
     "output_type": "stream",
     "text": [
      "listin içinbdeki elementlerin karelerinin toplami 55 'dir.\n"
     ]
    }
   ],
   "source": [
    "liste = [1,2,3,4,5] # len 5 verir\n",
    "\n",
    "x = 0\n",
    "toplam=0\n",
    "while x < len(liste) :  #ya da x < len(liste)-1\n",
    "    toplam += liste[x] ** 2\n",
    "    x += 1\n",
    "print(f\"listin içinbdeki elementlerin karelerinin toplami {toplam} 'dir.\")    "
   ]
  },
  {
   "cell_type": "code",
   "execution_count": 5,
   "metadata": {},
   "outputs": [
    {
     "name": "stdout",
     "output_type": "stream",
     "text": [
      "tahmin edilecek sayi 0\n",
      "biraz azalt\n",
      "biraz azalt\n",
      "biraz azalt\n",
      "biraz azalt\n",
      "biraz azalt\n",
      "biraz azalt\n",
      "biraz azalt\n",
      "Woow tebrikler. 8 denemede buldun\n"
     ]
    }
   ],
   "source": [
    "#SAYI TAHMIN OYUNU\n",
    "sayi = random.randint(0,100)\n",
    "print(f\"tahmin edilecek sayi {sayi}\")\n",
    "\n",
    "tahmin = 0\n",
    "sayac = 0\n",
    "stoper = False\n",
    "while stoper == False :\n",
    "    tahmin = int(input(\"lutfen bir sayi giriniz\"))\n",
    "    sayac += 1\n",
    "    if tahmin != sayi :\n",
    "        if tahmin < sayi :\n",
    "            print(\"biraz yükselt\")\n",
    "        else : print(\"biraz azalt\")    \n",
    "    else : \n",
    "        print(f\"Woow tebrikler. {sayac} denemede buldun\") \n",
    "        stoper=True\n",
    "\n"
   ]
  },
  {
   "cell_type": "code",
   "execution_count": 8,
   "metadata": {},
   "outputs": [
    {
     "name": "stdout",
     "output_type": "stream",
     "text": [
      "biraz azaltmalisin\n",
      "biraz azaltmalisin\n",
      "biraz arttırmalisin\n",
      "biraz arttırmalisin\n",
      "biraz azaltmalisin\n",
      "biraz arttırmalisin\n",
      "biraz azaltmalisin\n",
      "biraz azaltmalisin\n",
      "biraz azaltmalisin\n",
      "biraz azaltmalisin\n",
      "tebrikler. Bildin\n"
     ]
    }
   ],
   "source": [
    "\n",
    "sayi = random.randint(0,100)\n",
    "\n",
    "while True :\n",
    "    tahmin_sayi = int(input(\"sayi giriniz\"))\n",
    "\n",
    "    if tahmin_sayi < sayi :\n",
    "        print(\"biraz arttırmalisin\")\n",
    "    elif tahmin_sayi > sayi :\n",
    "        print(\"biraz azaltmalisin\")    \n",
    "    else : \n",
    "        print(\"tebrikler. Bildin\")    \n",
    "        break"
   ]
  },
  {
   "cell_type": "code",
   "execution_count": null,
   "metadata": {},
   "outputs": [],
   "source": []
  },
  {
   "cell_type": "code",
   "execution_count": null,
   "metadata": {},
   "outputs": [],
   "source": []
  },
  {
   "cell_type": "code",
   "execution_count": null,
   "metadata": {},
   "outputs": [],
   "source": []
  },
  {
   "cell_type": "code",
   "execution_count": null,
   "metadata": {},
   "outputs": [],
   "source": []
  },
  {
   "cell_type": "code",
   "execution_count": 3,
   "metadata": {},
   "outputs": [
    {
     "name": "stdout",
     "output_type": "stream",
     "text": [
      "Girdiğiniz sayi 15. Tahminini azalt\n",
      "Girdiğiniz sayi 10.Bravo. Doğru tahmin\n"
     ]
    }
   ],
   "source": [
    "import random\n",
    "sayi = random.randint(0,100)\n",
    "sayaç = 0\n",
    "time.sleep(1)\n",
    "while sayaç < 5:\n",
    "    tahmin = int(input(\"Bir sayi girin\"))\n",
    "    sayaç += 1\n",
    "    time.sleep(1)\n",
    "    if sayi < tahmin:\n",
    "        print(f\"Girdiğiniz sayi {tahmin}. Tahminini azalt\")\n",
    "        time.sleep(1)\n",
    "    elif sayi > tahmin:\n",
    "        print(f\"Girdiğiniz sayi {tahmin}. Tahminini arttır\")\n",
    "        time.sleep(1)\n",
    "    else:\n",
    "        print(f\"Girdiğiniz sayi {tahmin}.Bravo. Doğru tahmin\")\n",
    "        time.sleep(1)\n",
    "        break"
   ]
  },
  {
   "cell_type": "code",
   "execution_count": 16,
   "metadata": {},
   "outputs": [
    {
     "name": "stdout",
     "output_type": "stream",
     "text": [
      "Listenin en büyük elemani 325\n"
     ]
    }
   ],
   "source": [
    "sayılar_listesi = [1,4,56,18,47,96,325,1,5,4,7,8,-8,-400,0,47]\n",
    "max(sayılar_listesi)\n",
    "\n",
    "index = 0\n",
    "max_sayi =sayılar_listesi[0]\n",
    "\n",
    "while index < len(sayılar_listesi)-1 :\n",
    "\n",
    "    if max_sayi < sayılar_listesi[index] :\n",
    "        max_sayi = sayılar_listesi[index]\n",
    "    index += 1     \n",
    "\n",
    "print(f\"Listenin en büyük elemani {max_sayi}\")\n",
    "\n",
    "\n",
    "\n",
    "\n"
   ]
  },
  {
   "cell_type": "code",
   "execution_count": 22,
   "metadata": {},
   "outputs": [
    {
     "name": "stdout",
     "output_type": "stream",
     "text": [
      "even(cift) numbers: [22, 58, 46, 48, 50, 40] \n",
      "odd(tek) numbers : [1, 45, 69, 55, 47, 45, 49]\n"
     ]
    }
   ],
   "source": [
    "liste_1 = [1,45,22,69,58,55,47,45,46,48,49,50,40]\n",
    "\n",
    "even_mumber=[]\n",
    "odd_number=[]\n",
    "\n",
    "index = 0\n",
    "\n",
    "while index <len(liste_1) :\n",
    "    if liste_1[index] % 2 ==0 :\n",
    "        even_mumber.append(liste_1[index])\n",
    "    else :\n",
    "        odd_number.append(liste_1[index])    \n",
    "    index += 1\n",
    "    \n",
    "print(f\"even(cift) numbers: {even_mumber} \\nodd(tek) numbers : {odd_number}\")    "
   ]
  },
  {
   "cell_type": "code",
   "execution_count": null,
   "metadata": {},
   "outputs": [],
   "source": []
  },
  {
   "cell_type": "code",
   "execution_count": null,
   "metadata": {},
   "outputs": [],
   "source": []
  },
  {
   "cell_type": "code",
   "execution_count": null,
   "metadata": {},
   "outputs": [],
   "source": []
  },
  {
   "cell_type": "code",
   "execution_count": null,
   "metadata": {},
   "outputs": [],
   "source": []
  },
  {
   "cell_type": "code",
   "execution_count": null,
   "metadata": {},
   "outputs": [],
   "source": []
  },
  {
   "cell_type": "code",
   "execution_count": 2,
   "metadata": {},
   "outputs": [
    {
     "name": "stdout",
     "output_type": "stream",
     "text": [
      "çiftler: [22, 58, 46, 48, 50, 40]\n",
      "tekler: [1, 45, 69, 55, 47, 45, 49]\n"
     ]
    }
   ],
   "source": [
    "liste_1 = [1,45,22,69,58,55,47,45,46,48,49,50,40]\n",
    "\n",
    "evens = []\n",
    "\n",
    "odds = []\n",
    "\n",
    "index = 0\n",
    "\n",
    "while index < len(liste_1):\n",
    "\n",
    "    if liste_1[index] % 2 == 0:\n",
    "        evens.append(liste_1[index])\n",
    "    else:\n",
    "        odds.append(liste_1[index])\n",
    "    \n",
    "    index += 1\n",
    "\n",
    "print(f\"çiftler: {evens}\")\n",
    "print(f\"tekler: {odds}\")"
   ]
  },
  {
   "cell_type": "code",
   "execution_count": 3,
   "metadata": {},
   "outputs": [
    {
     "data": {
      "text/plain": [
       "['T', 'e', 'c', 'h', 'P', 'r', 'o']"
      ]
     },
     "execution_count": 3,
     "metadata": {},
     "output_type": "execute_result"
    }
   ],
   "source": [
    "list(\"TechPro\")"
   ]
  },
  {
   "cell_type": "code",
   "execution_count": null,
   "metadata": {},
   "outputs": [],
   "source": [
    "[3,\"hello\",True,3.15,(3,5),[15,20,25],{\"name\" : \"Sedat\"}]"
   ]
  },
  {
   "cell_type": "code",
   "execution_count": 4,
   "metadata": {},
   "outputs": [
    {
     "data": {
      "text/plain": [
       "3"
      ]
     },
     "execution_count": 4,
     "metadata": {},
     "output_type": "execute_result"
    }
   ],
   "source": [
    "sayilar=[1,2,3]\n",
    "sayilar.insert(2,6)\n",
    "sayilar.index(3)"
   ]
  },
  {
   "cell_type": "code",
   "execution_count": null,
   "metadata": {},
   "outputs": [],
   "source": []
  },
  {
   "cell_type": "code",
   "execution_count": null,
   "metadata": {},
   "outputs": [],
   "source": []
  },
  {
   "cell_type": "code",
   "execution_count": null,
   "metadata": {},
   "outputs": [],
   "source": []
  },
  {
   "cell_type": "code",
   "execution_count": null,
   "metadata": {},
   "outputs": [],
   "source": []
  },
  {
   "cell_type": "code",
   "execution_count": null,
   "metadata": {},
   "outputs": [],
   "source": []
  },
  {
   "cell_type": "code",
   "execution_count": null,
   "metadata": {},
   "outputs": [],
   "source": []
  },
  {
   "cell_type": "code",
   "execution_count": null,
   "metadata": {},
   "outputs": [],
   "source": []
  }
 ],
 "metadata": {
  "kernelspec": {
   "display_name": "Python 3",
   "language": "python",
   "name": "python3"
  },
  "language_info": {
   "codemirror_mode": {
    "name": "ipython",
    "version": 3
   },
   "file_extension": ".py",
   "mimetype": "text/x-python",
   "name": "python",
   "nbconvert_exporter": "python",
   "pygments_lexer": "ipython3",
   "version": "3.11.2"
  },
  "orig_nbformat": 4,
  "vscode": {
   "interpreter": {
    "hash": "562b4dc50e94c0c24759cc517e955833adbe31bddbf34cfe5098f5955523ff4d"
   }
  }
 },
 "nbformat": 4,
 "nbformat_minor": 2
}
