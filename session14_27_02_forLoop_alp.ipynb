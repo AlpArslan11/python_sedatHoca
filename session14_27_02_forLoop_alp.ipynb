{
 "cells": [
  {
   "attachments": {},
   "cell_type": "markdown",
   "metadata": {},
   "source": [
    "# for loop"
   ]
  },
  {
   "cell_type": "code",
   "execution_count": 4,
   "metadata": {},
   "outputs": [
    {
     "name": "stdout",
     "output_type": "stream",
     "text": [
      "h\n",
      "e\n",
      "y\n"
     ]
    }
   ],
   "source": [
    "for c in \"hey\" :\n",
    "    print(c)\n",
    "    # print(c,end=\" \")"
   ]
  },
  {
   "cell_type": "code",
   "execution_count": 18,
   "metadata": {},
   "outputs": [
    {
     "name": "stdout",
     "output_type": "stream",
     "text": [
      "<class 'tuple'>\n"
     ]
    }
   ],
   "source": [
    "tuple=(\"ali\" ,\"hasan\", \"veli\",0,False)\n",
    "print(type(tuple))"
   ]
  },
  {
   "cell_type": "code",
   "execution_count": 58,
   "metadata": {},
   "outputs": [
    {
     "name": "stdout",
     "output_type": "stream",
     "text": [
      "tuple'in elemanlari :--> ali, hasan, veli, 85, 5, False "
     ]
    }
   ],
   "source": [
    "# ciktinin sonundaki \",\" silelim\n",
    "\n",
    "tuple=(\"ali\" ,\"hasan\", \"veli\",85,5,False)       \n",
    "print(\"tuple'in elemanlari :\" , end= \"--> \")\n",
    "\n",
    "for name in tuple :\n",
    "    if name == tuple[-1] :\n",
    "        print(name, end=\" \")\n",
    "    else :     print(name , end= \", \")"
   ]
  },
  {
   "cell_type": "code",
   "execution_count": 59,
   "metadata": {},
   "outputs": [
    {
     "name": "stdout",
     "output_type": "stream",
     "text": [
      "tuple'in elemanlari :--> ali, hasan, veli, 0, 5, False\n"
     ]
    }
   ],
   "source": [
    "tuple=(\"ali\" ,\"hasan\", \"veli\",0,5,False)\n",
    "print(\"tuple'in elemanlari :\" , end= \"--> \")\n",
    "\n",
    "t_eleman_yazisi = \"\"\n",
    "for name in tuple :\n",
    "    t_eleman_yazisi += str(name) + \", \"\n",
    "    \n",
    "print(t_eleman_yazisi.rstrip(\", \"))    "
   ]
  },
  {
   "cell_type": "code",
   "execution_count": 52,
   "metadata": {},
   "outputs": [
    {
     "name": "stdout",
     "output_type": "stream",
     "text": [
      "t,e,c,h,p,r,o\n"
     ]
    }
   ],
   "source": [
    "# ciktinin sonundaki \",\" silelim\n",
    "sonuc_yazisi =\"\"\n",
    "for i in \"techpro\" :\n",
    "    sonuc_yazisi += i + \",\"\n",
    "\n",
    "print(sonuc_yazisi.rstrip(\",\"))"
   ]
  },
  {
   "cell_type": "code",
   "execution_count": null,
   "metadata": {},
   "outputs": [],
   "source": []
  },
  {
   "cell_type": "code",
   "execution_count": 35,
   "metadata": {},
   "outputs": [
    {
     "name": "stdout",
     "output_type": "stream",
     "text": [
      "listedeki tüm sayilarin karelerinin toplami 55\n"
     ]
    }
   ],
   "source": [
    "kare_al_liste = [1,2,3,4,5]\n",
    "\n",
    "kareler_toplam = 0\n",
    "for i in kare_al_liste : \n",
    "    kareler_toplam += i**2\n",
    "\n",
    "print(f\"listedeki tüm sayilarin karelerinin toplami {kareler_toplam}\")    "
   ]
  },
  {
   "cell_type": "code",
   "execution_count": 39,
   "metadata": {},
   "outputs": [
    {
     "name": "stdout",
     "output_type": "stream",
     "text": [
      "listedeki tüm sayilarin karelerinin toplami 55\n"
     ]
    }
   ],
   "source": [
    "kare_al_liste = [1,2,3,4,5]\n",
    "\n",
    "kareler_toplam = 0\n",
    "i = 0\n",
    "while i < len(kare_al_liste) :\n",
    "    kareler_toplam += kare_al_liste[i]**2\n",
    "    i += 1\n",
    "\n",
    "print(f\"listedeki tüm sayilarin karelerinin toplami {kareler_toplam}\")     \n"
   ]
  },
  {
   "cell_type": "code",
   "execution_count": 60,
   "metadata": {},
   "outputs": [
    {
     "name": "stdout",
     "output_type": "stream",
     "text": [
      "[1, 2, 3, 4, 5]\n"
     ]
    }
   ],
   "source": [
    "#kullanicidan veri alarak liste oluşturma\n",
    "\n",
    "liste=[]\n",
    "for i in range(5) :\n",
    "     kullanici_sayi =int(input(\"Lutfen bir sayi giriniz\"))\n",
    "     liste.append(kullanici_sayi)   \n",
    "\n",
    "print(liste)\n",
    "\n"
   ]
  },
  {
   "cell_type": "code",
   "execution_count": 69,
   "metadata": {},
   "outputs": [
    {
     "name": "stdout",
     "output_type": "stream",
     "text": [
      "A-l-p-a-r-s-l-a-n\n"
     ]
    }
   ],
   "source": [
    "#Alparslan kelimesini liste harf ardından \"-\" gelecek sekilde atayin. sondaki \"-\"yi silin ve string gibi haline donusturun\n",
    "##### \"\".join --> kullanımı\n",
    "\n",
    "empty_list = []\n",
    "for i in \"Alparslan\" :\n",
    "    empty_list.append(i)\n",
    "    empty_list.append(\"-\")\n",
    "\n",
    "empty_list.pop()\n",
    "\n",
    "print(\"\".join(empty_list))"
   ]
  },
  {
   "cell_type": "code",
   "execution_count": 73,
   "metadata": {},
   "outputs": [
    {
     "name": "stdout",
     "output_type": "stream",
     "text": [
      "name\n",
      "job\n",
      "age\n"
     ]
    }
   ],
   "source": [
    "# Dictionary'leri for loop ile kullanma\n",
    "info_dict = {\"name\" : \"Alparslan\", \"job\" : \"Data Scientist\", \"age\" : 35}\n",
    "\n",
    "#for loop ile key cagirma\n",
    "for i in info_dict : \n",
    "    print (i)"
   ]
  },
  {
   "cell_type": "code",
   "execution_count": 74,
   "metadata": {},
   "outputs": [
    {
     "name": "stdout",
     "output_type": "stream",
     "text": [
      "Alparslan\n",
      "Data Scientist\n",
      "35\n"
     ]
    }
   ],
   "source": [
    "info_dict = {\"name\" : \"Alparslan\", \"job\" : \"Data Scientist\", \"age\" : 35}\n",
    "\n",
    "#for loop ile value cagirma\n",
    "for i in info_dict.values() : \n",
    "    print (i)"
   ]
  },
  {
   "cell_type": "code",
   "execution_count": 82,
   "metadata": {},
   "outputs": [
    {
     "name": "stdout",
     "output_type": "stream",
     "text": [
      "Key : name            Value : Alparslan \n",
      "Key : job             Value : Data Scientist\n",
      "Key : age             Value : 35        \n"
     ]
    }
   ],
   "source": [
    "info_dict = {\"name\" : \"Alparslan\", \"job\" : \"Data Scientist\", \"age\" : 35}\n",
    "\n",
    "#for loop ile value cagirma   ve cikti sirali ve düzgün\n",
    "for i, j in info_dict.items() : \n",
    "    print (f\"Key : {i:<10}      Value : {j:<10}\")"
   ]
  },
  {
   "cell_type": "code",
   "execution_count": null,
   "metadata": {},
   "outputs": [],
   "source": [
    "#çalıştırma sonsuz döngü\n",
    "aa = [1,2]\n",
    "for i in aa:\n",
    "    print(i)\n",
    "    aa.append(i)"
   ]
  },
  {
   "cell_type": "code",
   "execution_count": null,
   "metadata": {},
   "outputs": [],
   "source": [
    "# verilen metni 50 defa alt alta yazdiralim\n",
    "# Calisinca oluyor \n",
    "\n",
    "for i in range(50) :\n",
    "    print(\"Calisinca oluyor\")"
   ]
  },
  {
   "cell_type": "code",
   "execution_count": 98,
   "metadata": {},
   "outputs": [
    {
     "name": "stdout",
     "output_type": "stream",
     "text": [
      "Hatali giriş. Lutfen 1-9 arasi bir sayi giriniz\n"
     ]
    }
   ],
   "source": [
    "#kullanicinin girdigi sayinin çarpım tablosunu yazan bir program yaziniz\n",
    "k_sayi = input(\"lutfen carpim tablosu icin 9'a kadar bir sayi giriniz\")\n",
    "\n",
    "if k_sayi.isnumeric() and len(k_sayi) == 1 :\n",
    "    k_sayi=int(k_sayi)\n",
    "    carpim_sonuc = 0\n",
    "    for i in range(1,11) :\n",
    "        carpim_sonuc = i*k_sayi\n",
    "        print(f\"{i:<2} x {k_sayi:<2} = {carpim_sonuc}\")\n",
    "\n",
    "else : \n",
    "    print(\"Hatali giriş. Lutfen 1-9 arasi bir sayi giriniz\")\n"
   ]
  },
  {
   "cell_type": "code",
   "execution_count": 94,
   "metadata": {},
   "outputs": [
    {
     "name": "stdout",
     "output_type": "stream",
     "text": [
      "1  x 9 = 9\n",
      "2  x 9 = 18\n",
      "3  x 9 = 27\n",
      "4  x 9 = 36\n",
      "5  x 9 = 45\n",
      "6  x 9 = 54\n",
      "7  x 9 = 63\n",
      "8  x 9 = 72\n",
      "9  x 9 = 81\n",
      "10 x 9 = 90\n"
     ]
    }
   ],
   "source": [
    "number = int(input(\"0 ile 9 arasında bir rakam girin.(0 ve 9 dahil)\"))\n",
    "\n",
    "if number in [0,1,2,3,4,5,6,7,8,9]:\n",
    "    for i in range(1,11):\n",
    "        print(f\"{i:<2} x {number} = {i * number}\")\n",
    "else:\n",
    "    print(\"0 ile 9 arasında sayı girmenizi istemiştim.\")\n"
   ]
  },
  {
   "cell_type": "code",
   "execution_count": 105,
   "metadata": {},
   "outputs": [
    {
     "name": "stdout",
     "output_type": "stream",
     "text": [
      "0 ile 9 arasında sayı girmenizi istemiştim. Lütfen doğru sayıyı girin\n",
      "1  x 5 = 5\n",
      "2  x 5 = 10\n",
      "3  x 5 = 15\n",
      "4  x 5 = 20\n",
      "5  x 5 = 25\n",
      "6  x 5 = 30\n",
      "7  x 5 = 35\n",
      "8  x 5 = 40\n",
      "9  x 5 = 45\n",
      "10 x 5 = 50\n"
     ]
    }
   ],
   "source": [
    "#kullanici hatali giriş yaptiginda tekrar sormasi icin\n",
    "while True:    \n",
    "    number = int(input(\"0 ile 9 arasinda bir rakam girin.(0 ve 9 dahil)\"))\n",
    "\n",
    "    if number in [0,1,2,3,4,5,6,7,8,9] :\n",
    "        \n",
    "        for i in range(1,11):\n",
    "            print(f\"{i:<2} x {number} = {i * number}\")\n",
    "        break\n",
    "    else:\n",
    "        print(\"0 ile 9 arasinda sayi girmenizi istemiştim. Lütfen doğru sayiyi girin\")"
   ]
  },
  {
   "cell_type": "code",
   "execution_count": 106,
   "metadata": {},
   "outputs": [
    {
     "data": {
      "text/plain": [
       "1275.0"
      ]
     },
     "execution_count": 106,
     "metadata": {},
     "output_type": "execute_result"
    }
   ],
   "source": [
    "# 1'den 50ye kadar olan sayilarin toplamini bulun\n",
    "50 * 51/2"
   ]
  },
  {
   "cell_type": "code",
   "execution_count": 109,
   "metadata": {},
   "outputs": [
    {
     "name": "stdout",
     "output_type": "stream",
     "text": [
      "1275\n"
     ]
    }
   ],
   "source": [
    "sum_=0\n",
    "for i in range(51) :\n",
    "    sum_ +=i\n",
    "\n",
    "print(sum_)    "
   ]
  },
  {
   "cell_type": "code",
   "execution_count": 110,
   "metadata": {},
   "outputs": [
    {
     "name": "stdout",
     "output_type": "stream",
     "text": [
      "1085\n"
     ]
    }
   ],
   "source": [
    "# 20den 50ye kadar(20 dahil 50 dahil)\n",
    "sum_=0\n",
    "for i in range(20,51) :\n",
    "    sum_ +=i\n",
    "\n",
    "print(sum_) "
   ]
  },
  {
   "cell_type": "code",
   "execution_count": 111,
   "metadata": {},
   "outputs": [
    {
     "name": "stdout",
     "output_type": "stream",
     "text": [
      "650\n"
     ]
    }
   ],
   "source": [
    "# 50ye kadar cift sayilar toplami\n",
    "sum_=0\n",
    "for i in range(0, 51, 2) :\n",
    "    sum_ +=i\n",
    "\n",
    "print(sum_)  "
   ]
  },
  {
   "cell_type": "code",
   "execution_count": 112,
   "metadata": {},
   "outputs": [
    {
     "name": "stdout",
     "output_type": "stream",
     "text": [
      "625\n"
     ]
    }
   ],
   "source": [
    "# 50ye kadar tek sayilar toplami\n",
    "sum_=0\n",
    "for i in range(1, 50, 2) :\n",
    "    sum_ +=i\n",
    "\n",
    "print(sum_)  "
   ]
  },
  {
   "cell_type": "code",
   "execution_count": 1,
   "metadata": {},
   "outputs": [
    {
     "data": {
      "text/plain": [
       "15"
      ]
     },
     "execution_count": 1,
     "metadata": {},
     "output_type": "execute_result"
    }
   ],
   "source": [
    "# sum fonksiyonu\n",
    "sum([1,2,3,4,5])"
   ]
  },
  {
   "cell_type": "code",
   "execution_count": 4,
   "metadata": {},
   "outputs": [
    {
     "data": {
      "text/plain": [
       "1275"
      ]
     },
     "execution_count": 4,
     "metadata": {},
     "output_type": "execute_result"
    }
   ],
   "source": [
    "sum(list(range(51))) "
   ]
  },
  {
   "cell_type": "code",
   "execution_count": 3,
   "metadata": {},
   "outputs": [
    {
     "data": {
      "text/plain": [
       "15.8"
      ]
     },
     "execution_count": 3,
     "metadata": {},
     "output_type": "execute_result"
    }
   ],
   "source": [
    "sum((1,2,3.3,4.5,5))"
   ]
  },
  {
   "cell_type": "code",
   "execution_count": 6,
   "metadata": {},
   "outputs": [
    {
     "name": "stdout",
     "output_type": "stream",
     "text": [
      "1\n",
      "2\n",
      "3\n",
      "9\n",
      "4\n",
      "5\n",
      "6\n",
      "36\n",
      "7\n",
      "8\n",
      "9\n",
      "81\n"
     ]
    }
   ],
   "source": [
    "for i in [1,2,3,4,5,6,7,8,9]:\n",
    "    print(i)\n",
    "    if i % 3 == 0:\n",
    "        print(i ** 2)\n",
    "        continue"
   ]
  },
  {
   "cell_type": "code",
   "execution_count": null,
   "metadata": {},
   "outputs": [],
   "source": []
  },
  {
   "cell_type": "code",
   "execution_count": null,
   "metadata": {},
   "outputs": [],
   "source": []
  },
  {
   "cell_type": "code",
   "execution_count": null,
   "metadata": {},
   "outputs": [],
   "source": []
  }
 ],
 "metadata": {
  "kernelspec": {
   "display_name": "Python 3",
   "language": "python",
   "name": "python3"
  },
  "language_info": {
   "codemirror_mode": {
    "name": "ipython",
    "version": 3
   },
   "file_extension": ".py",
   "mimetype": "text/x-python",
   "name": "python",
   "nbconvert_exporter": "python",
   "pygments_lexer": "ipython3",
   "version": "3.11.2"
  },
  "orig_nbformat": 4
 },
 "nbformat": 4,
 "nbformat_minor": 2
}
