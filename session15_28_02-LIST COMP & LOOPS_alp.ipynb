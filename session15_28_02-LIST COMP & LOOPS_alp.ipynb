{
 "cells": [
  {
   "cell_type": "code",
   "execution_count": 13,
   "metadata": {},
   "outputs": [
    {
     "data": {
      "text/plain": [
       "[('ogr1', 70), ('ogr2', 80), ('ogr3', 90), ('ogr4', 100)]"
      ]
     },
     "execution_count": 13,
     "metadata": {},
     "output_type": "execute_result"
    }
   ],
   "source": [
    "a = [\"ogr1\", \"ogr2\", \"ogr3\" , \"ogr4\"]\n",
    "b = [70,80,90,100]\n",
    "zip(a,b) #--> <zip at 0x22314acef80> gibi bir çıktı verir. bunu bir collection içinde yazmaliyuız\n",
    "list(zip(a,b))"
   ]
  },
  {
   "cell_type": "code",
   "execution_count": 7,
   "metadata": {},
   "outputs": [
    {
     "data": {
      "text/plain": [
       "(('ogr1', 70), ('ogr2', 80), ('ogr3', 90), ('ogr4', 100))"
      ]
     },
     "execution_count": 7,
     "metadata": {},
     "output_type": "execute_result"
    }
   ],
   "source": [
    "tuple(zip(a,b))"
   ]
  },
  {
   "cell_type": "code",
   "execution_count": 9,
   "metadata": {},
   "outputs": [
    {
     "data": {
      "text/plain": [
       "{'ogr1': 70, 'ogr2': 80, 'ogr3': 90, 'ogr4': 100}"
      ]
     },
     "execution_count": 9,
     "metadata": {},
     "output_type": "execute_result"
    }
   ],
   "source": [
    "dict(zip(a,b))"
   ]
  },
  {
   "attachments": {},
   "cell_type": "markdown",
   "metadata": {},
   "source": [
    "# zip() enumerate() \n",
    "zip() -> 2 farklı collection eşleşmesi\n",
    "enumerate() -> var olan bir collection'i numaralandirma"
   ]
  },
  {
   "cell_type": "code",
   "execution_count": 17,
   "metadata": {},
   "outputs": [],
   "source": [
    "a = [\"ogr1\", \"ogr2\", \"ogr3\" , \"ogr4\"]\n",
    "b = [70,80,90,100]"
   ]
  },
  {
   "cell_type": "code",
   "execution_count": 18,
   "metadata": {},
   "outputs": [
    {
     "name": "stdout",
     "output_type": "stream",
     "text": [
      "ogr1 70\n",
      "ogr2 80\n",
      "ogr3 90\n",
      "ogr4 100\n"
     ]
    }
   ],
   "source": [
    "for i,j in zip(a,b) :\n",
    "    print(i,j)"
   ]
  },
  {
   "cell_type": "code",
   "execution_count": 19,
   "metadata": {},
   "outputs": [
    {
     "name": "stdout",
     "output_type": "stream",
     "text": [
      "(1, 'ogr1')\n",
      "(2, 'ogr2')\n",
      "(3, 'ogr3')\n",
      "(4, 'ogr4')\n"
     ]
    }
   ],
   "source": [
    "for i in enumerate(a,start=1) :\n",
    "    print(i)"
   ]
  },
  {
   "cell_type": "code",
   "execution_count": 16,
   "metadata": {},
   "outputs": [
    {
     "name": "stdout",
     "output_type": "stream",
     "text": [
      "eksik olan sayilar :  {8, 12, 14, 23, 25, 31, 32, 38, 40, 43, 49}\n"
     ]
    }
   ],
   "source": [
    "#elimizdeki listeden min ve max sayilar arasinda eksik olan sayilari bulalim\n",
    "\"\"\" numlistes = [48, 10, 11, 21, 36, 5, 6, 52, 28, 29,\n",
    "       53, 54, 45, 19, 20, 47, 55, 39, 41, 7,\n",
    "       9, 17, 26, 27, 42, 22, 37, 51, 46, 18,\n",
    "       44, 30, 34, 13, 15, 35, 33, 16, 50, 24]\"\"\"\n",
    "\n",
    "num = [48, 10, 11, 21, 36, 5, 6, 52, 28, 29,\n",
    "       53, 54, 45, 19, 20, 47, 55, 39, 41, 7,\n",
    "       9, 17, 26, 27, 42, 22, 37, 51, 46, 18,\n",
    "       44, 30, 34, 13, 15, 35, 33, 16, 50, 24]\n",
    "\n",
    "#numbers_list = list(range(max(num)+1))\n",
    "\n",
    "missing_numbers = set(list(range(min(num),max(num)+1))).symmetric_difference(set(num))\n",
    "print(f\"eksik olan sayilar :  {missing_numbers}\")\n",
    "\n"
   ]
  },
  {
   "cell_type": "code",
   "execution_count": 22,
   "metadata": {},
   "outputs": [
    {
     "name": "stdout",
     "output_type": "stream",
     "text": [
      "[48, 10, 11, 21, 36, 5, 6, 52, 28, 29, 53, 54, 45, 19, 20, 47, 55, 39, 41, 7, 9, 17, 26, 27, 42, 22, 37, 51, 46, 18, 44, 30, 34, 13, 15, 35, 33, 16, 50, 24]\n"
     ]
    }
   ],
   "source": [
    "print(num)"
   ]
  },
  {
   "cell_type": "code",
   "execution_count": 9,
   "metadata": {},
   "outputs": [
    {
     "name": "stdout",
     "output_type": "stream",
     "text": [
      "[8, 12, 14, 23, 25, 31, 32, 38, 40, 43, 49]\n"
     ]
    }
   ],
   "source": [
    "#FARKLI ÇÖZÜM\n",
    "#elimizdeki listeden min ve max sayilar arasinda eksik olan sayilari bulalim\n",
    "num = [48, 10, 11, 21, 36, 5, 6, 52, 28, 29,\n",
    "       53, 54, 45, 19, 20, 47, 55, 39, 41, 7,\n",
    "       9, 17, 26, 27, 42, 22, 37, 51, 46, 18,\n",
    "       44, 30, 34, 13, 15, 35, 33, 16, 50, 24]\n",
    "\n",
    "missing_numbers = []\n",
    "for i in range(min(num),max(num) +1) :\n",
    "    if i not in num :\n",
    "       missing_numbers.append(i)\n",
    "print(missing_numbers)       \n"
   ]
  },
  {
   "cell_type": "code",
   "execution_count": 10,
   "metadata": {},
   "outputs": [
    {
     "name": "stdout",
     "output_type": "stream",
     "text": [
      "[8, 12, 14, 23, 25, 31, 32, 38, 40, 43, 49]\n"
     ]
    }
   ],
   "source": [
    "#FARKLI ÇÖZÜM\n",
    "#elimizdeki listeden min ve max sayilar arasinda eksik olan sayilari bulalim\n",
    "num = [48, 10, 11, 21, 36, 5, 6, 52, 28, 29,\n",
    "       53, 54, 45, 19, 20, 47, 55, 39, 41, 7,\n",
    "       9, 17, 26, 27, 42, 22, 37, 51, 46, 18,\n",
    "       44, 30, 34, 13, 15, 35, 33, 16, 50, 24]\n",
    "\n",
    "missing_numbers = []\n",
    "for i in range(min(num),max(num) +1) :\n",
    "    if i in num :\n",
    "       continue\n",
    "    missing_numbers.append(i)\n",
    "print(missing_numbers)  "
   ]
  },
  {
   "cell_type": "code",
   "execution_count": 18,
   "metadata": {},
   "outputs": [
    {
     "name": "stdout",
     "output_type": "stream",
     "text": [
      "[10, 11, 5, 52, 28, 29, 53, 19, 20, 47, 55, 41, 7, 17, 26, 22, 37, 46, 44, 34, 13, 35, 16, 50]\n"
     ]
    }
   ],
   "source": [
    "#num listesi içindeki sayilardan 3e bölünemeyenleri bulunuz\n",
    "num = [48, 10, 11, 21, 36, 5, 6, 52, 28, 29,\n",
    "       53, 54, 45, 19, 20, 47, 55, 39, 41, 7,\n",
    "       9, 17, 26, 27, 42, 22, 37, 51, 46, 18,\n",
    "       44, 30, 34, 13, 15, 35, 33, 16, 50, 24]\n",
    "\n",
    "bolunemeyenler = []\n",
    "for i in num :\n",
    "    if i % 3 != 0 :\n",
    "        bolunemeyenler.append(i)\n",
    "    else :\n",
    "        continue    \n",
    "\n",
    "print(bolunemeyenler)"
   ]
  },
  {
   "attachments": {},
   "cell_type": "markdown",
   "metadata": {},
   "source": [
    "# list comprehension"
   ]
  },
  {
   "cell_type": "code",
   "execution_count": null,
   "metadata": {},
   "outputs": [],
   "source": [
    "liste_1 = [1,2,3,4,5]\n",
    "empty_list = []\n",
    "for i in liste_1:\n",
    "    empty_list.append(i ** 2)\n",
    "print(empty_list)"
   ]
  },
  {
   "cell_type": "code",
   "execution_count": null,
   "metadata": {},
   "outputs": [],
   "source": [
    "\n",
    "liste_1 = [1,2,3,4,5]\n",
    "[ i ** 2  for i in liste_1  ] #düz list comp kullanımı"
   ]
  },
  {
   "cell_type": "code",
   "execution_count": 19,
   "metadata": {},
   "outputs": [
    {
     "data": {
      "text/plain": [
       "[4, 8, 96, 88, 44, 36, 24]"
      ]
     },
     "execution_count": 19,
     "metadata": {},
     "output_type": "execute_result"
    }
   ],
   "source": [
    "# cift sayilari bir listeye atayalim\n",
    "liste_2 = [1,4,8,25,96,88,44,75,36,27,24,15]\n",
    "\n",
    "evens = []\n",
    "for i in liste_2:\n",
    "    if i % 2 == 0:\n",
    "        evens.append(i)\n",
    "evens\n"
   ]
  },
  {
   "cell_type": "code",
   "execution_count": 20,
   "metadata": {},
   "outputs": [
    {
     "name": "stdout",
     "output_type": "stream",
     "text": [
      "[4, 8, 96, 88, 44, 36, 24]\n"
     ]
    }
   ],
   "source": [
    "# cift sayilari bir listeye LIST COMPREHENSION ile atayalim\n",
    "liste_2 = [1,4,8,25,96,88,44,75,36,27,24,15]\n",
    "evens = [i for i in liste_2 if i%2==0]\n",
    "print(evens)"
   ]
  },
  {
   "cell_type": "code",
   "execution_count": null,
   "metadata": {},
   "outputs": [],
   "source": [
    "# tek sayilari bir listeye LIST COMPREHENSION ile atayalim\n",
    "liste_2 = [1,4,8,25,96,88,44,75,36,27,24,15]\n",
    "odds = [i for i in liste_2 if i % 2] #Burda i%2 sonucu 1 olursa cevap True olur\n",
    "print(odds)                     # bu da True olunca for'un (i'leri )tek sayilari almasini sağlar"
   ]
  },
  {
   "cell_type": "code",
   "execution_count": 22,
   "metadata": {},
   "outputs": [
    {
     "data": {
      "text/plain": [
       "[1, 4, 3, 16, 5, 36, 7, 64, 9]"
      ]
     },
     "execution_count": 22,
     "metadata": {},
     "output_type": "execute_result"
    }
   ],
   "source": [
    "# else'li durumlarda / eger tek sayi ise ayni sayiyi ekle, eğer cift sayi ise karesini al ve yeni bir liste ekle\n",
    "\n",
    "liste_3 = [1,2,3,4,5,6,7,8,9]\n",
    "\n",
    "empty_list = []\n",
    "for i in liste_3:\n",
    "    if i % 2:\n",
    "        empty_list.append(i)\n",
    "    else:\n",
    "        empty_list.append(i ** 2)\n",
    "empty_list"
   ]
  },
  {
   "cell_type": "code",
   "execution_count": 24,
   "metadata": {},
   "outputs": [
    {
     "name": "stdout",
     "output_type": "stream",
     "text": [
      "[1, 4, 3, 16, 5, 36, 7, 64, 9]\n"
     ]
    }
   ],
   "source": [
    "# else'li durumlarda / eger tek sayi ise ayni sayiyi ekle, eğer cift sayi ise karesini al ve yeni bir liste ekle\n",
    "# LIST COMPREHENSION İLE\n",
    "liste_3 = [1,2,3,4,5,6,7,8,9]\n",
    "\n",
    "empty_list =[ i if i%2==1 else i**2 for i in liste_3     ]\n",
    "print(empty_list)"
   ]
  },
  {
   "cell_type": "code",
   "execution_count": null,
   "metadata": {},
   "outputs": [],
   "source": [
    "liste_3 = [1,2,3,4,5,6,7,8,9]\n",
    "empty_list = []\n",
    "for i in liste_3:\n",
    "    if is_even(i) :\n",
    "        if i % 2:      \n",
    "            empty_list.append(i)\n",
    "        else:   \n",
    "            empty_list.append(i ** 2)\n",
    "\n"
   ]
  },
  {
   "cell_type": "code",
   "execution_count": null,
   "metadata": {},
   "outputs": [],
   "source": []
  },
  {
   "cell_type": "code",
   "execution_count": null,
   "metadata": {},
   "outputs": [],
   "source": []
  },
  {
   "cell_type": "code",
   "execution_count": null,
   "metadata": {},
   "outputs": [],
   "source": []
  },
  {
   "cell_type": "code",
   "execution_count": null,
   "metadata": {},
   "outputs": [],
   "source": []
  },
  {
   "cell_type": "code",
   "execution_count": null,
   "metadata": {},
   "outputs": [],
   "source": []
  }
 ],
 "metadata": {
  "kernelspec": {
   "display_name": "Python 3",
   "language": "python",
   "name": "python3"
  },
  "language_info": {
   "codemirror_mode": {
    "name": "ipython",
    "version": 3
   },
   "file_extension": ".py",
   "mimetype": "text/x-python",
   "name": "python",
   "nbconvert_exporter": "python",
   "pygments_lexer": "ipython3",
   "version": "3.11.2"
  },
  "orig_nbformat": 4
 },
 "nbformat": 4,
 "nbformat_minor": 2
}
