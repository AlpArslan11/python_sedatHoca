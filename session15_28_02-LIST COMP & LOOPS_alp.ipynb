{
 "cells": [
  {
   "cell_type": "code",
   "execution_count": 13,
   "metadata": {},
   "outputs": [
    {
     "data": {
      "text/plain": [
       "[('ogr1', 70), ('ogr2', 80), ('ogr3', 90), ('ogr4', 100)]"
      ]
     },
     "execution_count": 13,
     "metadata": {},
     "output_type": "execute_result"
    }
   ],
   "source": [
    "a = [\"ogr1\", \"ogr2\", \"ogr3\" , \"ogr4\"]\n",
    "b = [70,80,90,100]\n",
    "zip(a,b) #--> <zip at 0x22314acef80> gibi bir çıktı verir. bunu bir collection içinde yazmaliyuız\n",
    "list(zip(a,b))"
   ]
  },
  {
   "cell_type": "code",
   "execution_count": 7,
   "metadata": {},
   "outputs": [
    {
     "data": {
      "text/plain": [
       "(('ogr1', 70), ('ogr2', 80), ('ogr3', 90), ('ogr4', 100))"
      ]
     },
     "execution_count": 7,
     "metadata": {},
     "output_type": "execute_result"
    }
   ],
   "source": [
    "tuple(zip(a,b))"
   ]
  },
  {
   "cell_type": "code",
   "execution_count": 9,
   "metadata": {},
   "outputs": [
    {
     "data": {
      "text/plain": [
       "{'ogr1': 70, 'ogr2': 80, 'ogr3': 90, 'ogr4': 100}"
      ]
     },
     "execution_count": 9,
     "metadata": {},
     "output_type": "execute_result"
    }
   ],
   "source": [
    "dict(zip(a,b))"
   ]
  },
  {
   "attachments": {},
   "cell_type": "markdown",
   "metadata": {},
   "source": [
    "# zip() enumerate() \n",
    "zip() -> 2 farklı collection eşleşmesi\n",
    "enumerate() -> var olan bir collection'i numaralandirma"
   ]
  },
  {
   "cell_type": "code",
   "execution_count": 17,
   "metadata": {},
   "outputs": [],
   "source": [
    "a = [\"ogr1\", \"ogr2\", \"ogr3\" , \"ogr4\"]\n",
    "b = [70,80,90,100]"
   ]
  },
  {
   "cell_type": "code",
   "execution_count": 18,
   "metadata": {},
   "outputs": [
    {
     "name": "stdout",
     "output_type": "stream",
     "text": [
      "ogr1 70\n",
      "ogr2 80\n",
      "ogr3 90\n",
      "ogr4 100\n"
     ]
    }
   ],
   "source": [
    "for i,j in zip(a,b) :\n",
    "    print(i,j)"
   ]
  },
  {
   "cell_type": "code",
   "execution_count": 19,
   "metadata": {},
   "outputs": [
    {
     "name": "stdout",
     "output_type": "stream",
     "text": [
      "(1, 'ogr1')\n",
      "(2, 'ogr2')\n",
      "(3, 'ogr3')\n",
      "(4, 'ogr4')\n"
     ]
    }
   ],
   "source": [
    "for i in enumerate(a,start=1) :\n",
    "    print(i)"
   ]
  },
  {
   "cell_type": "code",
   "execution_count": 16,
   "metadata": {},
   "outputs": [
    {
     "name": "stdout",
     "output_type": "stream",
     "text": [
      "eksik olan sayilar :  {8, 12, 14, 23, 25, 31, 32, 38, 40, 43, 49}\n"
     ]
    }
   ],
   "source": [
    "#elimizdeki listeden min ve max sayilar arasinda eksik olan sayilari bulalim\n",
    "\"\"\" numlistes = [48, 10, 11, 21, 36, 5, 6, 52, 28, 29,\n",
    "       53, 54, 45, 19, 20, 47, 55, 39, 41, 7,\n",
    "       9, 17, 26, 27, 42, 22, 37, 51, 46, 18,\n",
    "       44, 30, 34, 13, 15, 35, 33, 16, 50, 24]\"\"\"\n",
    "\n",
    "num = [48, 10, 11, 21, 36, 5, 6, 52, 28, 29,\n",
    "       53, 54, 45, 19, 20, 47, 55, 39, 41, 7,\n",
    "       9, 17, 26, 27, 42, 22, 37, 51, 46, 18,\n",
    "       44, 30, 34, 13, 15, 35, 33, 16, 50, 24]\n",
    "\n",
    "#numbers_list = list(range(max(num)+1))\n",
    "\n",
    "missing_numbers = set(list(range(min(num),max(num)+1))).symmetric_difference(set(num))\n",
    "print(f\"eksik olan sayilar :  {missing_numbers}\")\n",
    "\n"
   ]
  },
  {
   "cell_type": "code",
   "execution_count": 22,
   "metadata": {},
   "outputs": [
    {
     "name": "stdout",
     "output_type": "stream",
     "text": [
      "[48, 10, 11, 21, 36, 5, 6, 52, 28, 29, 53, 54, 45, 19, 20, 47, 55, 39, 41, 7, 9, 17, 26, 27, 42, 22, 37, 51, 46, 18, 44, 30, 34, 13, 15, 35, 33, 16, 50, 24]\n"
     ]
    }
   ],
   "source": [
    "print(num)"
   ]
  },
  {
   "cell_type": "code",
   "execution_count": 9,
   "metadata": {},
   "outputs": [
    {
     "name": "stdout",
     "output_type": "stream",
     "text": [
      "[8, 12, 14, 23, 25, 31, 32, 38, 40, 43, 49]\n"
     ]
    }
   ],
   "source": [
    "#FARKLI ÇÖZÜM\n",
    "#elimizdeki listeden min ve max sayilar arasinda eksik olan sayilari bulalim\n",
    "num = [48, 10, 11, 21, 36, 5, 6, 52, 28, 29,\n",
    "       53, 54, 45, 19, 20, 47, 55, 39, 41, 7,\n",
    "       9, 17, 26, 27, 42, 22, 37, 51, 46, 18,\n",
    "       44, 30, 34, 13, 15, 35, 33, 16, 50, 24]\n",
    "\n",
    "missing_numbers = []\n",
    "for i in range(min(num),max(num) +1) :\n",
    "    if i not in num :\n",
    "       missing_numbers.append(i)\n",
    "print(missing_numbers)       \n"
   ]
  },
  {
   "cell_type": "code",
   "execution_count": 10,
   "metadata": {},
   "outputs": [
    {
     "name": "stdout",
     "output_type": "stream",
     "text": [
      "[8, 12, 14, 23, 25, 31, 32, 38, 40, 43, 49]\n"
     ]
    }
   ],
   "source": [
    "#FARKLI ÇÖZÜM\n",
    "#elimizdeki listeden min ve max sayilar arasinda eksik olan sayilari bulalim\n",
    "num = [48, 10, 11, 21, 36, 5, 6, 52, 28, 29,\n",
    "       53, 54, 45, 19, 20, 47, 55, 39, 41, 7,\n",
    "       9, 17, 26, 27, 42, 22, 37, 51, 46, 18,\n",
    "       44, 30, 34, 13, 15, 35, 33, 16, 50, 24]\n",
    "\n",
    "missing_numbers = []\n",
    "for i in range(min(num),max(num) +1) :\n",
    "    if i in num :\n",
    "       continue\n",
    "    missing_numbers.append(i)\n",
    "print(missing_numbers)  "
   ]
  },
  {
   "cell_type": "code",
   "execution_count": 18,
   "metadata": {},
   "outputs": [
    {
     "name": "stdout",
     "output_type": "stream",
     "text": [
      "[10, 11, 5, 52, 28, 29, 53, 19, 20, 47, 55, 41, 7, 17, 26, 22, 37, 46, 44, 34, 13, 35, 16, 50]\n"
     ]
    }
   ],
   "source": [
    "#num listesi içindeki sayilardan 3e bölünemeyenleri bulunuz\n",
    "num = [48, 10, 11, 21, 36, 5, 6, 52, 28, 29,\n",
    "       53, 54, 45, 19, 20, 47, 55, 39, 41, 7,\n",
    "       9, 17, 26, 27, 42, 22, 37, 51, 46, 18,\n",
    "       44, 30, 34, 13, 15, 35, 33, 16, 50, 24]\n",
    "\n",
    "bolunemeyenler = []\n",
    "for i in num :\n",
    "    if i % 3 != 0 :\n",
    "        bolunemeyenler.append(i)\n",
    "    else :\n",
    "        continue    \n",
    "\n",
    "print(bolunemeyenler)"
   ]
  },
  {
   "attachments": {},
   "cell_type": "markdown",
   "metadata": {},
   "source": [
    "# list comprehension"
   ]
  },
  {
   "cell_type": "code",
   "execution_count": null,
   "metadata": {},
   "outputs": [],
   "source": [
    "liste_1 = [1,2,3,4,5]\n",
    "empty_list = []\n",
    "for i in liste_1:\n",
    "    empty_list.append(i ** 2)\n",
    "print(empty_list)"
   ]
  },
  {
   "cell_type": "code",
   "execution_count": null,
   "metadata": {},
   "outputs": [],
   "source": [
    "\n",
    "liste_1 = [1,2,3,4,5]\n",
    "[ i ** 2  for i in liste_1  ] #düz list comp kullanımı"
   ]
  },
  {
   "cell_type": "code",
   "execution_count": 19,
   "metadata": {},
   "outputs": [
    {
     "data": {
      "text/plain": [
       "[4, 8, 96, 88, 44, 36, 24]"
      ]
     },
     "execution_count": 19,
     "metadata": {},
     "output_type": "execute_result"
    }
   ],
   "source": [
    "# cift sayilari bir listeye atayalim\n",
    "liste_2 = [1,4,8,25,96,88,44,75,36,27,24,15]\n",
    "\n",
    "evens = []\n",
    "for i in liste_2:\n",
    "    if i % 2 == 0:\n",
    "        evens.append(i)\n",
    "evens\n"
   ]
  },
  {
   "cell_type": "code",
   "execution_count": 20,
   "metadata": {},
   "outputs": [
    {
     "name": "stdout",
     "output_type": "stream",
     "text": [
      "[4, 8, 96, 88, 44, 36, 24]\n"
     ]
    }
   ],
   "source": [
    "# cift sayilari bir listeye LIST COMPREHENSION ile atayalim\n",
    "liste_2 = [1,4,8,25,96,88,44,75,36,27,24,15]\n",
    "evens = [i for i in liste_2 if i%2==0]\n",
    "print(evens)"
   ]
  },
  {
   "cell_type": "code",
   "execution_count": null,
   "metadata": {},
   "outputs": [],
   "source": [
    "# tek sayilari bir listeye LIST COMPREHENSION ile atayalim\n",
    "liste_2 = [1,4,8,25,96,88,44,75,36,27,24,15]\n",
    "odds = [i for i in liste_2 if i % 2] #Burda i%2 sonucu 1 olursa cevap True olur\n",
    "print(odds)                     # bu da True olunca for'un (i'leri )tek sayilari almasini sağlar"
   ]
  },
  {
   "cell_type": "code",
   "execution_count": 22,
   "metadata": {},
   "outputs": [
    {
     "data": {
      "text/plain": [
       "[1, 4, 3, 16, 5, 36, 7, 64, 9]"
      ]
     },
     "execution_count": 22,
     "metadata": {},
     "output_type": "execute_result"
    }
   ],
   "source": [
    "# else'li durumlarda / eger tek sayi ise ayni sayiyi ekle, eğer cift sayi ise karesini al ve yeni bir liste ekle\n",
    "\n",
    "liste_3 = [1,2,3,4,5,6,7,8,9]\n",
    "\n",
    "empty_list = []\n",
    "for i in liste_3:\n",
    "    if i % 2:\n",
    "        empty_list.append(i)\n",
    "    else:\n",
    "        empty_list.append(i ** 2)\n",
    "empty_list"
   ]
  },
  {
   "cell_type": "code",
   "execution_count": 22,
   "metadata": {},
   "outputs": [
    {
     "name": "stdout",
     "output_type": "stream",
     "text": [
      "[1, 4, 3, 16, 5, 36, 7, 64, 9]\n"
     ]
    }
   ],
   "source": [
    "# else'li durumlarda / eger tek sayi ise ayni sayiyi ekle, eğer cift sayi ise karesini al ve yeni bir liste ekle\n",
    "# LIST COMPREHENSION İLE\n",
    "liste_3 = [1,2,3,4,5,6,7,8,9]\n",
    "\n",
    "empty_list =[ i if i%2==1 else i**2 for i in liste_3     ]\n",
    "print(empty_list)"
   ]
  },
  {
   "cell_type": "code",
   "execution_count": null,
   "metadata": {},
   "outputs": [],
   "source": [
    "liste_3 = [1,2,3,4,5,6,7,8,9]\n",
    "empty_list = []\n",
    "for i in liste_3:\n",
    "    if is_even(i) :\n",
    "        if i % 2:      \n",
    "            empty_list.append(i)\n",
    "        else:   \n",
    "            empty_list.append(i ** 2)\n",
    "\n"
   ]
  },
  {
   "attachments": {},
   "cell_type": "markdown",
   "metadata": {},
   "source": [
    "# nested loops"
   ]
  },
  {
   "attachments": {},
   "cell_type": "markdown",
   "metadata": {},
   "source": [
    "for i in [\"Murat\",\"Filiz\",\"Techpro\"]:\n",
    "    for j in [1,2,3,4,5]:\n",
    "        print(i,j)"
   ]
  },
  {
   "cell_type": "code",
   "execution_count": 1,
   "metadata": {},
   "outputs": [
    {
     "name": "stdout",
     "output_type": "stream",
     "text": [
      "Murat 1\n",
      "Filiz 2\n",
      "Techpro 3\n"
     ]
    }
   ],
   "source": [
    "# Yukaridaki zip ile yapinca eslesme yapiyor. nested daha farkli\n",
    "isimler = [\"Murat\",\"Filiz\",\"Techpro\"]\n",
    "numaralar = [1,2,3,4,5]\n",
    "\n",
    "for i, j in zip(isimler,numaralar) :\n",
    "    print(i ,j)"
   ]
  },
  {
   "cell_type": "code",
   "execution_count": 10,
   "metadata": {},
   "outputs": [
    {
     "name": "stdout",
     "output_type": "stream",
     "text": [
      "\n",
      "1 x 0 = 0\n",
      "1 x 1 = 1\n",
      "1 x 2 = 2\n",
      "1 x 3 = 3\n",
      "1 x 4 = 4\n",
      "1 x 5 = 5\n",
      "1 x 6 = 6\n",
      "1 x 7 = 7\n",
      "1 x 8 = 8\n",
      "1 x 9 = 9\n",
      "1 x 10 = 10\n",
      "\n",
      "2 x 0 = 0\n",
      "2 x 1 = 2\n",
      "2 x 2 = 4\n",
      "2 x 3 = 6\n",
      "2 x 4 = 8\n",
      "2 x 5 = 10\n",
      "2 x 6 = 12\n",
      "2 x 7 = 14\n",
      "2 x 8 = 16\n",
      "2 x 9 = 18\n",
      "2 x 10 = 20\n",
      "\n",
      "3 x 0 = 0\n",
      "3 x 1 = 3\n",
      "3 x 2 = 6\n",
      "3 x 3 = 9\n",
      "3 x 4 = 12\n",
      "3 x 5 = 15\n",
      "3 x 6 = 18\n",
      "3 x 7 = 21\n",
      "3 x 8 = 24\n",
      "3 x 9 = 27\n",
      "3 x 10 = 30\n",
      "\n",
      "4 x 0 = 0\n",
      "4 x 1 = 4\n",
      "4 x 2 = 8\n",
      "4 x 3 = 12\n",
      "4 x 4 = 16\n",
      "4 x 5 = 20\n",
      "4 x 6 = 24\n",
      "4 x 7 = 28\n",
      "4 x 8 = 32\n",
      "4 x 9 = 36\n",
      "4 x 10 = 40\n",
      "\n",
      "5 x 0 = 0\n",
      "5 x 1 = 5\n",
      "5 x 2 = 10\n",
      "5 x 3 = 15\n",
      "5 x 4 = 20\n",
      "5 x 5 = 25\n",
      "5 x 6 = 30\n",
      "5 x 7 = 35\n",
      "5 x 8 = 40\n",
      "5 x 9 = 45\n",
      "5 x 10 = 50\n",
      "\n",
      "6 x 0 = 0\n",
      "6 x 1 = 6\n",
      "6 x 2 = 12\n",
      "6 x 3 = 18\n",
      "6 x 4 = 24\n",
      "6 x 5 = 30\n",
      "6 x 6 = 36\n",
      "6 x 7 = 42\n",
      "6 x 8 = 48\n",
      "6 x 9 = 54\n",
      "6 x 10 = 60\n",
      "\n",
      "7 x 0 = 0\n",
      "7 x 1 = 7\n",
      "7 x 2 = 14\n",
      "7 x 3 = 21\n",
      "7 x 4 = 28\n",
      "7 x 5 = 35\n",
      "7 x 6 = 42\n",
      "7 x 7 = 49\n",
      "7 x 8 = 56\n",
      "7 x 9 = 63\n",
      "7 x 10 = 70\n",
      "\n",
      "8 x 0 = 0\n",
      "8 x 1 = 8\n",
      "8 x 2 = 16\n",
      "8 x 3 = 24\n",
      "8 x 4 = 32\n",
      "8 x 5 = 40\n",
      "8 x 6 = 48\n",
      "8 x 7 = 56\n",
      "8 x 8 = 64\n",
      "8 x 9 = 72\n",
      "8 x 10 = 80\n",
      "\n",
      "9 x 0 = 0\n",
      "9 x 1 = 9\n",
      "9 x 2 = 18\n",
      "9 x 3 = 27\n",
      "9 x 4 = 36\n",
      "9 x 5 = 45\n",
      "9 x 6 = 54\n",
      "9 x 7 = 63\n",
      "9 x 8 = 72\n",
      "9 x 9 = 81\n",
      "9 x 10 = 90\n",
      "\n",
      "10 x 0 = 0\n",
      "10 x 1 = 10\n",
      "10 x 2 = 20\n",
      "10 x 3 = 30\n",
      "10 x 4 = 40\n",
      "10 x 5 = 50\n",
      "10 x 6 = 60\n",
      "10 x 7 = 70\n",
      "10 x 8 = 80\n",
      "10 x 9 = 90\n",
      "10 x 10 = 100\n"
     ]
    }
   ],
   "source": [
    "for i in range(1,11) :\n",
    "   print()\n",
    "   for j in range(1,11) :\n",
    "      print(f\"{i} x {j} = {i*j}\")"
   ]
  },
  {
   "cell_type": "code",
   "execution_count": 7,
   "metadata": {},
   "outputs": [
    {
     "name": "stdout",
     "output_type": "stream",
     "text": [
      "Girdiginiz 153 sayisi Amstrong bir sayidir\n"
     ]
    }
   ],
   "source": [
    "#AMSTRONG SAYİ\n",
    "# kullanicinin girdiği sayinin amstrong sayi olup olmadigini hesaplayan bir program yaziniz\n",
    "\n",
    "\n",
    "while True :\n",
    "    k_sayi = input(\"Lutfen bir sayi giriniz. Amstrong sayimi kontrol edelim\")\n",
    "    uzunluk = len(k_sayi)\n",
    "\n",
    "    if k_sayi.isnumeric() :\n",
    "        toplam = 0 \n",
    "        for i in k_sayi :\n",
    "             toplam += int(i) ** uzunluk\n",
    "        if toplam ==int(k_sayi) :\n",
    "            print(f\"Girdiginiz {k_sayi} sayisi Amstrong bir sayidir\")                  \n",
    "        else : \n",
    "            print(f\"Girdiginiz {k_sayi} sayisi Amstrong bir sayi degildir\") \n",
    "        break      \n",
    "    else :\n",
    "        print(f\"Girdiginiz {k_sayi} bir sayi degildir. Tekrar deneyiniz.\")"
   ]
  },
  {
   "cell_type": "code",
   "execution_count": 8,
   "metadata": {},
   "outputs": [
    {
     "name": "stdout",
     "output_type": "stream",
     "text": [
      "10-10000 arasi amstrong sayilar : [153, 370, 371, 407, 1634, 8208, 9474]\n"
     ]
    }
   ],
   "source": [
    "#AMSTRONG SAYİ SORUSU 2\n",
    "# 10 xle 10000 arasxdakx amstrong sayilari bulun\n",
    "\n",
    "amstrong_sayilar = []\n",
    "\n",
    "\n",
    "for x in range(10,10001) :\n",
    "    uzunluk = len(str(x)) \n",
    "    toplam = 0\n",
    "    \n",
    "    for i in str(x) :\n",
    "        toplam += int(i) ** uzunluk\n",
    "\n",
    "    if toplam == int(x) :\n",
    "        amstrong_sayilar.append(x)\n",
    "print(f\"10-10000 arasi amstrong sayilar : {amstrong_sayilar}\")\n",
    "                 "
   ]
  },
  {
   "cell_type": "code",
   "execution_count": 7,
   "metadata": {},
   "outputs": [
    {
     "name": "stdout",
     "output_type": "stream",
     "text": [
      "10-10000 arasi amstrong sayilar : [153, 370, 371, 407, 1634, 8208, 9474]\n"
     ]
    }
   ],
   "source": [
    "#AMSTRONG SAYİ SORUSU 2 --> LIST COMPREHENSION ILE\n",
    "# 10 xle 10000 arasxdakx amstrong sayilari bulun\n",
    "\n",
    "amstrong_sayilar = []\n",
    "\n",
    "\n",
    "for x in range(10,10001) :\n",
    "    uzunluk = len(str(x)) \n",
    "    toplam = sum([int(i) ** uzunluk for i in str(x)])\n",
    "   \n",
    "\n",
    "    if toplam == int(x) :\n",
    "        amstrong_sayilar.append(x)\n",
    "print(f\"10-10000 arasi amstrong sayilar : {amstrong_sayilar}\")\n",
    "                 "
   ]
  },
  {
   "attachments": {},
   "cell_type": "markdown",
   "metadata": {},
   "source": [
    "# zip() ornek sorular"
   ]
  },
  {
   "cell_type": "code",
   "execution_count": 9,
   "metadata": {},
   "outputs": [
    {
     "name": "stdout",
     "output_type": "stream",
     "text": [
      "t 1 5\n",
      "e 2 6\n"
     ]
    }
   ],
   "source": [
    "\n",
    "\n",
    "zip_1 = list(zip(\"techpro\", [1,2], (5,6,7,8)))\n",
    "\n",
    "for i, j, k in zip_1 :\n",
    "    print(i, j, k)"
   ]
  },
  {
   "cell_type": "code",
   "execution_count": 10,
   "metadata": {},
   "outputs": [
    {
     "name": "stdout",
     "output_type": "stream",
     "text": [
      "[('apple', 1), ('orange', 2), ('banana', 3)]\n"
     ]
    }
   ],
   "source": [
    "#cikti nedir\n",
    "a = [\"apple\" , \"orange\" , \"banana\"]\n",
    "b = [1,2,3]\n",
    "print(list(zip(a,b)))"
   ]
  },
  {
   "cell_type": "code",
   "execution_count": 11,
   "metadata": {},
   "outputs": [
    {
     "name": "stdout",
     "output_type": "stream",
     "text": [
      "[(1, 'apple'), (2, 'orange'), (3, 'banana')]\n"
     ]
    }
   ],
   "source": [
    "#cikti nedir\n",
    "a = [1,2,3]\n",
    "b = [\"apple\" , \"orange\" , \"banana\"]\n",
    "print(list(zip(a,b)))"
   ]
  },
  {
   "cell_type": "code",
   "execution_count": 14,
   "metadata": {},
   "outputs": [
    {
     "name": "stdout",
     "output_type": "stream",
     "text": [
      "A-l-p-a-r-s-l-a-n-"
     ]
    }
   ],
   "source": [
    "for i in \"Alparslan\" :   #Alparslan-\n",
    "    print (i, end=\"-\")"
   ]
  },
  {
   "cell_type": "code",
   "execution_count": 15,
   "metadata": {},
   "outputs": [
    {
     "name": "stdout",
     "output_type": "stream",
     "text": [
      "0-2-4-6-8-"
     ]
    }
   ],
   "source": [
    "for i in range(10) : \n",
    "    if i % 2 :\n",
    "        continue\n",
    "    print(i, end=\"-\")"
   ]
  },
  {
   "cell_type": "code",
   "execution_count": 20,
   "metadata": {},
   "outputs": [
    {
     "name": "stdout",
     "output_type": "stream",
     "text": [
      "4%2-->0 yani False, 5%1 --> 1 yani True\n"
     ]
    }
   ],
   "source": [
    "print(f\"4%2-->{4%2} yani False, 5%1 --> {5%2} yani True\")\n"
   ]
  },
  {
   "cell_type": "code",
   "execution_count": 21,
   "metadata": {},
   "outputs": [
    {
     "data": {
      "text/plain": [
       "1"
      ]
     },
     "execution_count": 21,
     "metadata": {},
     "output_type": "execute_result"
    }
   ],
   "source": [
    "1%2 # x%2 sayi tekse demektir"
   ]
  },
  {
   "cell_type": "code",
   "execution_count": null,
   "metadata": {},
   "outputs": [],
   "source": []
  },
  {
   "cell_type": "code",
   "execution_count": null,
   "metadata": {},
   "outputs": [],
   "source": []
  }
 ],
 "metadata": {
  "kernelspec": {
   "display_name": "Python 3",
   "language": "python",
   "name": "python3"
  },
  "language_info": {
   "codemirror_mode": {
    "name": "ipython",
    "version": 3
   },
   "file_extension": ".py",
   "mimetype": "text/x-python",
   "name": "python",
   "nbconvert_exporter": "python",
   "pygments_lexer": "ipython3",
   "version": "3.11.2"
  },
  "orig_nbformat": 4
 },
 "nbformat": 4,
 "nbformat_minor": 2
}
