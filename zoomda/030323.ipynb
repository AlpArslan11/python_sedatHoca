{
 "cells": [
  {
   "cell_type": "code",
   "execution_count": null,
   "metadata": {},
   "outputs": [],
   "source": [
    " # 1-) Kullanıcın girdiği 5 basamaklı bir sayının, basamaklarının toplamını ekrana yazdıran python kodlarını yazınız?\n",
    "\n"
   ]
  },
  {
   "cell_type": "code",
   "execution_count": null,
   "metadata": {},
   "outputs": [],
   "source": []
  },
  {
   "cell_type": "code",
   "execution_count": null,
   "metadata": {},
   "outputs": [],
   "source": [
    "\"\"\" 2-) Klavyeden kullanicinin girdiği 3 adet integer türünde ki sayiyi \n",
    "büyükten küçüğe siralayarak ortadaki sayi ile olan sayinin arasindaki farki ve \n",
    "yine ortadaki sayi ile küçük olan sayi ile arasindaki farki ekrana yazdiran python kodlarini yaziniz?\"\"\""
   ]
  },
  {
   "cell_type": "code",
   "execution_count": null,
   "metadata": {},
   "outputs": [],
   "source": []
  },
  {
   "cell_type": "code",
   "execution_count": null,
   "metadata": {},
   "outputs": [],
   "source": [
    "\"\"\" 3-) Kullanicinin girdiği iki birbirine eşit ise ekrana “5” sonucu yazdiracak, \n",
    "eşit değil ise 25 defa “eşit değil” sonucunu ekrana yazdiran python kodlarini yaziniz? \n",
    "(while döngüsü ile yapilacaktir)\"\"\""
   ]
  },
  {
   "cell_type": "code",
   "execution_count": null,
   "metadata": {},
   "outputs": [],
   "source": []
  },
  {
   "cell_type": "code",
   "execution_count": null,
   "metadata": {},
   "outputs": [],
   "source": [
    "\"\"\"4-) Rastgele 600 adet 0 ile 1000 arasinda sayi oluşturup bir liste içerisine aktaran \n",
    "ve 100'den küçük olan sayilarin adedini ekrana yazdiran python kodlarini yaziniz?\"\"\""
   ]
  },
  {
   "cell_type": "code",
   "execution_count": null,
   "metadata": {},
   "outputs": [],
   "source": []
  },
  {
   "cell_type": "code",
   "execution_count": null,
   "metadata": {},
   "outputs": [],
   "source": []
  },
  {
   "cell_type": "code",
   "execution_count": null,
   "metadata": {},
   "outputs": [],
   "source": [
    "\"\"\"7-) Kullanıcının girdiği 4 basamaklı sayıyı basamaklarını ayırıp tek tek rakamlarını \n",
    "ve rakamlarının toplamını ekrana yazdıran python kodlarını yazınız? \"\"\""
   ]
  },
  {
   "cell_type": "code",
   "execution_count": null,
   "metadata": {},
   "outputs": [],
   "source": []
  }
 ],
 "metadata": {
  "language_info": {
   "name": "python"
  },
  "orig_nbformat": 4
 },
 "nbformat": 4,
 "nbformat_minor": 2
}
